{
 "cells": [
  {
   "cell_type": "markdown",
   "id": "dd4acde1",
   "metadata": {
    "papermill": {
     "duration": 0.02491,
     "end_time": "2022-08-20T14:25:26.338105",
     "exception": false,
     "start_time": "2022-08-20T14:25:26.313195",
     "status": "completed"
    },
    "tags": []
   },
   "source": [
    "#### Thanks for showing interest to check out my code workbook. If you find this code blocks helpful, please upvote the workbook so that it can help others. Feel free to share your thoughts in comment section. Happy Coding !!!"
   ]
  },
  {
   "cell_type": "markdown",
   "id": "3b6886f0",
   "metadata": {
    "papermill": {
     "duration": 0.02185,
     "end_time": "2022-08-20T14:25:26.384239",
     "exception": false,
     "start_time": "2022-08-20T14:25:26.362389",
     "status": "completed"
    },
    "tags": []
   },
   "source": [
    "## **Executive Summary :**\n"
   ]
  },
  {
   "cell_type": "markdown",
   "id": "9dbc2f27",
   "metadata": {
    "papermill": {
     "duration": 0.021595,
     "end_time": "2022-08-20T14:25:26.428290",
     "exception": false,
     "start_time": "2022-08-20T14:25:26.406695",
     "status": "completed"
    },
    "tags": []
   },
   "source": [
    "#### 1. Best ML Model Chosen : XgBoost\n",
    "#### 2. Accuracy : **81%**\n",
    "#### 3. Operations Perfomed : Data pre-processing, Anomaly Detection and Treatment, EDA, Feature Selection and Model Execution"
   ]
  },
  {
   "cell_type": "markdown",
   "id": "643f247d",
   "metadata": {
    "papermill": {
     "duration": 0.021379,
     "end_time": "2022-08-20T14:25:26.471977",
     "exception": false,
     "start_time": "2022-08-20T14:25:26.450598",
     "status": "completed"
    },
    "tags": []
   },
   "source": [
    "## **Introduction:**"
   ]
  },
  {
   "cell_type": "markdown",
   "id": "c2e884f9",
   "metadata": {
    "papermill": {
     "duration": 0.021554,
     "end_time": "2022-08-20T14:25:26.515313",
     "exception": false,
     "start_time": "2022-08-20T14:25:26.493759",
     "status": "completed"
    },
    "tags": []
   },
   "source": [
    "Competition sites like Kaggle define the problem to solve or questions to ask while providing the datasets for training your data science model and testing the model results against a test dataset. The question or problem definition for Titanic Survival competition is described here at [Kaggle.](http://www.kaggle.com/competitions/titanic)\n",
    "\n",
    "Knowing from a training set of samples listing passengers who survived or did not survive the Titanic disaster, can our model determine based on a given test dataset not containing the survival information, if these passengers in the test dataset survived or not.\n",
    "\n",
    "We may also want to develop some early understanding about the domain of our problem. This is described on the Kaggle competition description page here. Here are the highlights to note.\n",
    "\n",
    "On April 15, 1912, during her maiden voyage, the Titanic sank after colliding with an iceberg, killing 1502 out of 2224 passengers and crew. Translated 32% survival rate.\n",
    "One of the reasons that the shipwreck led to such loss of life was that there were not enough lifeboats for the passengers and crew.\n",
    "Although there was some element of luck involved in surviving the sinking, some groups of people were more likely to survive than others, such as women, children, and the upper-class.\n",
    "\n",
    "Well, with this workbook\n",
    "below tell you the analytical story of passengers who either survived or passed away through its visualization and machine learning techniques.\n",
    "\n"
   ]
  },
  {
   "cell_type": "code",
   "execution_count": 1,
   "id": "568d7ab4",
   "metadata": {
    "execution": {
     "iopub.execute_input": "2022-08-20T14:25:26.561599Z",
     "iopub.status.busy": "2022-08-20T14:25:26.560871Z",
     "iopub.status.idle": "2022-08-20T14:25:26.575275Z",
     "shell.execute_reply": "2022-08-20T14:25:26.574511Z"
    },
    "jupyter": {
     "source_hidden": true
    },
    "papermill": {
     "duration": 0.040516,
     "end_time": "2022-08-20T14:25:26.577520",
     "exception": false,
     "start_time": "2022-08-20T14:25:26.537004",
     "status": "completed"
    },
    "tags": []
   },
   "outputs": [
    {
     "data": {
      "text/html": [
       "\n",
       "<style>\n",
       ".output_png {\n",
       "    display: table-cell;\n",
       "    text-align: center;\n",
       "    vertical-align: middle;\n",
       "    horizontal-align: middle;\n",
       "}\n",
       "h1,h2 {\n",
       "    text-align: center;\n",
       "    background-color: pink;\n",
       "    padding: 20px;\n",
       "    margin: 0;\n",
       "    color: black;\n",
       "    font-family: ariel;\n",
       "    border-radius: 80px\n",
       "}\n",
       "\n",
       "h3 {\n",
       "    text-align: center;\n",
       "    border-style: solid;\n",
       "    border-width: 3px;\n",
       "    padding: 12px;\n",
       "    margin: 0;\n",
       "    color: black;\n",
       "    font-family: ariel;\n",
       "    border-radius: 80px;\n",
       "    border-color: gold;\n",
       "}\n",
       "\n",
       "body, p {\n",
       "    font-family: ariel;\n",
       "    font-size: 15px;\n",
       "    color: charcoal;\n",
       "}\n",
       "div {\n",
       "    font-size: 14px;\n",
       "    margin: 0;\n",
       "\n",
       "}\n",
       "\n",
       "h4 {\n",
       "    padding: 0px;\n",
       "    margin: 0;\n",
       "    font-family: ariel;\n",
       "    color: purple;\n",
       "}\n",
       "</style>\n"
      ],
      "text/plain": [
       "<IPython.core.display.HTML object>"
      ]
     },
     "execution_count": 1,
     "metadata": {},
     "output_type": "execute_result"
    }
   ],
   "source": [
    "from IPython.core.display import HTML\n",
    "HTML(\"\"\"\n",
    "<style>\n",
    ".output_png {\n",
    "    display: table-cell;\n",
    "    text-align: center;\n",
    "    vertical-align: middle;\n",
    "    horizontal-align: middle;\n",
    "}\n",
    "h1,h2 {\n",
    "    text-align: center;\n",
    "    background-color: pink;\n",
    "    padding: 20px;\n",
    "    margin: 0;\n",
    "    color: black;\n",
    "    font-family: ariel;\n",
    "    border-radius: 80px\n",
    "}\n",
    "\n",
    "h3 {\n",
    "    text-align: center;\n",
    "    border-style: solid;\n",
    "    border-width: 3px;\n",
    "    padding: 12px;\n",
    "    margin: 0;\n",
    "    color: black;\n",
    "    font-family: ariel;\n",
    "    border-radius: 80px;\n",
    "    border-color: gold;\n",
    "}\n",
    "\n",
    "body, p {\n",
    "    font-family: ariel;\n",
    "    font-size: 15px;\n",
    "    color: charcoal;\n",
    "}\n",
    "div {\n",
    "    font-size: 14px;\n",
    "    margin: 0;\n",
    "\n",
    "}\n",
    "\n",
    "h4 {\n",
    "    padding: 0px;\n",
    "    margin: 0;\n",
    "    font-family: ariel;\n",
    "    color: purple;\n",
    "}\n",
    "</style>\n",
    "\"\"\")"
   ]
  },
  {
   "cell_type": "markdown",
   "id": "4b8873df",
   "metadata": {
    "papermill": {
     "duration": 0.021957,
     "end_time": "2022-08-20T14:25:26.621945",
     "exception": false,
     "start_time": "2022-08-20T14:25:26.599988",
     "status": "completed"
    },
    "tags": []
   },
   "source": [
    "## **Contents of the Workbook :**"
   ]
  },
  {
   "cell_type": "markdown",
   "id": "18a6b66b",
   "metadata": {
    "papermill": {
     "duration": 0.022284,
     "end_time": "2022-08-20T14:25:26.666606",
     "exception": false,
     "start_time": "2022-08-20T14:25:26.644322",
     "status": "completed"
    },
    "tags": []
   },
   "source": [
    "#### Step - 1: Importing Necesaary Libraries and Datasets :\n",
    "\n",
    "#### Step - 2: Data Pre-processing and Anomaly Detection :\n",
    "\n",
    "#### Step - 3: Analytic Data Set Creation :\n",
    "\n",
    "#### Step - 4: Feature Selection and EDA\n",
    "\n",
    "#### Step - 5: Creating Machine Learning Models\n",
    "\n",
    "#### Step - 6: Comparing ML Models\n",
    "\n",
    "#### Step - 7: Submitting Results"
   ]
  },
  {
   "cell_type": "markdown",
   "id": "6a125d12",
   "metadata": {
    "papermill": {
     "duration": 0.029685,
     "end_time": "2022-08-20T14:25:26.718374",
     "exception": false,
     "start_time": "2022-08-20T14:25:26.688689",
     "status": "completed"
    },
    "tags": []
   },
   "source": [
    "## **Step - 1 :** *Importing Necesaary Libraries and Datasets*"
   ]
  },
  {
   "cell_type": "code",
   "execution_count": 2,
   "id": "58a5c3eb",
   "metadata": {
    "_cell_guid": "b1076dfc-b9ad-4769-8c92-a6c4dae69d19",
    "_uuid": "8f2839f25d086af736a60e9eeb907d3b93b6e0e5",
    "execution": {
     "iopub.execute_input": "2022-08-20T14:25:26.767134Z",
     "iopub.status.busy": "2022-08-20T14:25:26.766710Z",
     "iopub.status.idle": "2022-08-20T14:25:28.626180Z",
     "shell.execute_reply": "2022-08-20T14:25:28.625119Z"
    },
    "papermill": {
     "duration": 1.885729,
     "end_time": "2022-08-20T14:25:28.628855",
     "exception": false,
     "start_time": "2022-08-20T14:25:26.743126",
     "status": "completed"
    },
    "tags": []
   },
   "outputs": [],
   "source": [
    "# Importing packages and libraries\n",
    "import os \n",
    "import numpy as np # linear algebra\n",
    "import pandas as pd # data processing\n",
    "import seaborn as sns # Required for plotting\n",
    "import matplotlib.pyplot as plt # Required for plotting\n",
    "from sklearn.preprocessing import StandardScaler\n",
    "from sklearn.model_selection import train_test_split\n",
    "from sklearn.metrics import accuracy_score, confusion_matrix, classification_report\n",
    "from sklearn.ensemble import RandomForestClassifier\n",
    "from sklearn.tree import DecisionTreeClassifier\n",
    "from sklearn.linear_model import LogisticRegression\n",
    "from sklearn.ensemble import GradientBoostingClassifier\n",
    "from xgboost import XGBClassifier\n",
    "from sklearn.metrics import confusion_matrix\n"
   ]
  },
  {
   "cell_type": "code",
   "execution_count": 3,
   "id": "dcd0a7e2",
   "metadata": {
    "execution": {
     "iopub.execute_input": "2022-08-20T14:25:28.675463Z",
     "iopub.status.busy": "2022-08-20T14:25:28.675064Z",
     "iopub.status.idle": "2022-08-20T14:25:28.714638Z",
     "shell.execute_reply": "2022-08-20T14:25:28.713549Z"
    },
    "papermill": {
     "duration": 0.06584,
     "end_time": "2022-08-20T14:25:28.717554",
     "exception": false,
     "start_time": "2022-08-20T14:25:28.651714",
     "status": "completed"
    },
    "tags": []
   },
   "outputs": [],
   "source": [
    "# Importing datasets and crearing objects\n",
    "\n",
    "gender_sub = pd.read_csv(\"../input/titanic/gender_submission.csv\")\n",
    "titan_train = pd.read_csv(\"../input/titanic/train.csv\")\n",
    "titan_test = pd.read_csv(\"../input/titanic/test.csv\")\n"
   ]
  },
  {
   "cell_type": "code",
   "execution_count": 4,
   "id": "3d48abab",
   "metadata": {
    "execution": {
     "iopub.execute_input": "2022-08-20T14:25:28.764363Z",
     "iopub.status.busy": "2022-08-20T14:25:28.763947Z",
     "iopub.status.idle": "2022-08-20T14:25:28.778839Z",
     "shell.execute_reply": "2022-08-20T14:25:28.778104Z"
    },
    "papermill": {
     "duration": 0.040492,
     "end_time": "2022-08-20T14:25:28.780821",
     "exception": false,
     "start_time": "2022-08-20T14:25:28.740329",
     "status": "completed"
    },
    "tags": []
   },
   "outputs": [
    {
     "data": {
      "text/html": [
       "<div>\n",
       "<style scoped>\n",
       "    .dataframe tbody tr th:only-of-type {\n",
       "        vertical-align: middle;\n",
       "    }\n",
       "\n",
       "    .dataframe tbody tr th {\n",
       "        vertical-align: top;\n",
       "    }\n",
       "\n",
       "    .dataframe thead th {\n",
       "        text-align: right;\n",
       "    }\n",
       "</style>\n",
       "<table border=\"1\" class=\"dataframe\">\n",
       "  <thead>\n",
       "    <tr style=\"text-align: right;\">\n",
       "      <th></th>\n",
       "      <th>PassengerId</th>\n",
       "      <th>Survived</th>\n",
       "    </tr>\n",
       "  </thead>\n",
       "  <tbody>\n",
       "    <tr>\n",
       "      <th>0</th>\n",
       "      <td>892</td>\n",
       "      <td>0</td>\n",
       "    </tr>\n",
       "    <tr>\n",
       "      <th>1</th>\n",
       "      <td>893</td>\n",
       "      <td>1</td>\n",
       "    </tr>\n",
       "    <tr>\n",
       "      <th>2</th>\n",
       "      <td>894</td>\n",
       "      <td>0</td>\n",
       "    </tr>\n",
       "    <tr>\n",
       "      <th>3</th>\n",
       "      <td>895</td>\n",
       "      <td>0</td>\n",
       "    </tr>\n",
       "    <tr>\n",
       "      <th>4</th>\n",
       "      <td>896</td>\n",
       "      <td>1</td>\n",
       "    </tr>\n",
       "  </tbody>\n",
       "</table>\n",
       "</div>"
      ],
      "text/plain": [
       "   PassengerId  Survived\n",
       "0          892         0\n",
       "1          893         1\n",
       "2          894         0\n",
       "3          895         0\n",
       "4          896         1"
      ]
     },
     "execution_count": 4,
     "metadata": {},
     "output_type": "execute_result"
    }
   ],
   "source": [
    "gender_sub.head(5)"
   ]
  },
  {
   "cell_type": "code",
   "execution_count": 5,
   "id": "122fbce7",
   "metadata": {
    "execution": {
     "iopub.execute_input": "2022-08-20T14:25:28.830209Z",
     "iopub.status.busy": "2022-08-20T14:25:28.829555Z",
     "iopub.status.idle": "2022-08-20T14:25:28.846517Z",
     "shell.execute_reply": "2022-08-20T14:25:28.845656Z"
    },
    "papermill": {
     "duration": 0.043065,
     "end_time": "2022-08-20T14:25:28.848667",
     "exception": false,
     "start_time": "2022-08-20T14:25:28.805602",
     "status": "completed"
    },
    "tags": []
   },
   "outputs": [
    {
     "name": "stdout",
     "output_type": "stream",
     "text": [
      "Total rows present =  891\n"
     ]
    },
    {
     "data": {
      "text/html": [
       "<div>\n",
       "<style scoped>\n",
       "    .dataframe tbody tr th:only-of-type {\n",
       "        vertical-align: middle;\n",
       "    }\n",
       "\n",
       "    .dataframe tbody tr th {\n",
       "        vertical-align: top;\n",
       "    }\n",
       "\n",
       "    .dataframe thead th {\n",
       "        text-align: right;\n",
       "    }\n",
       "</style>\n",
       "<table border=\"1\" class=\"dataframe\">\n",
       "  <thead>\n",
       "    <tr style=\"text-align: right;\">\n",
       "      <th></th>\n",
       "      <th>PassengerId</th>\n",
       "      <th>Survived</th>\n",
       "      <th>Pclass</th>\n",
       "      <th>Name</th>\n",
       "      <th>Sex</th>\n",
       "      <th>Age</th>\n",
       "      <th>SibSp</th>\n",
       "      <th>Parch</th>\n",
       "      <th>Ticket</th>\n",
       "      <th>Fare</th>\n",
       "      <th>Cabin</th>\n",
       "      <th>Embarked</th>\n",
       "    </tr>\n",
       "  </thead>\n",
       "  <tbody>\n",
       "    <tr>\n",
       "      <th>0</th>\n",
       "      <td>1</td>\n",
       "      <td>0</td>\n",
       "      <td>3</td>\n",
       "      <td>Braund, Mr. Owen Harris</td>\n",
       "      <td>male</td>\n",
       "      <td>22.0</td>\n",
       "      <td>1</td>\n",
       "      <td>0</td>\n",
       "      <td>A/5 21171</td>\n",
       "      <td>7.2500</td>\n",
       "      <td>NaN</td>\n",
       "      <td>S</td>\n",
       "    </tr>\n",
       "    <tr>\n",
       "      <th>1</th>\n",
       "      <td>2</td>\n",
       "      <td>1</td>\n",
       "      <td>1</td>\n",
       "      <td>Cumings, Mrs. John Bradley (Florence Briggs Th...</td>\n",
       "      <td>female</td>\n",
       "      <td>38.0</td>\n",
       "      <td>1</td>\n",
       "      <td>0</td>\n",
       "      <td>PC 17599</td>\n",
       "      <td>71.2833</td>\n",
       "      <td>C85</td>\n",
       "      <td>C</td>\n",
       "    </tr>\n",
       "    <tr>\n",
       "      <th>2</th>\n",
       "      <td>3</td>\n",
       "      <td>1</td>\n",
       "      <td>3</td>\n",
       "      <td>Heikkinen, Miss. Laina</td>\n",
       "      <td>female</td>\n",
       "      <td>26.0</td>\n",
       "      <td>0</td>\n",
       "      <td>0</td>\n",
       "      <td>STON/O2. 3101282</td>\n",
       "      <td>7.9250</td>\n",
       "      <td>NaN</td>\n",
       "      <td>S</td>\n",
       "    </tr>\n",
       "    <tr>\n",
       "      <th>3</th>\n",
       "      <td>4</td>\n",
       "      <td>1</td>\n",
       "      <td>1</td>\n",
       "      <td>Futrelle, Mrs. Jacques Heath (Lily May Peel)</td>\n",
       "      <td>female</td>\n",
       "      <td>35.0</td>\n",
       "      <td>1</td>\n",
       "      <td>0</td>\n",
       "      <td>113803</td>\n",
       "      <td>53.1000</td>\n",
       "      <td>C123</td>\n",
       "      <td>S</td>\n",
       "    </tr>\n",
       "    <tr>\n",
       "      <th>4</th>\n",
       "      <td>5</td>\n",
       "      <td>0</td>\n",
       "      <td>3</td>\n",
       "      <td>Allen, Mr. William Henry</td>\n",
       "      <td>male</td>\n",
       "      <td>35.0</td>\n",
       "      <td>0</td>\n",
       "      <td>0</td>\n",
       "      <td>373450</td>\n",
       "      <td>8.0500</td>\n",
       "      <td>NaN</td>\n",
       "      <td>S</td>\n",
       "    </tr>\n",
       "  </tbody>\n",
       "</table>\n",
       "</div>"
      ],
      "text/plain": [
       "   PassengerId  Survived  Pclass  \\\n",
       "0            1         0       3   \n",
       "1            2         1       1   \n",
       "2            3         1       3   \n",
       "3            4         1       1   \n",
       "4            5         0       3   \n",
       "\n",
       "                                                Name     Sex   Age  SibSp  \\\n",
       "0                            Braund, Mr. Owen Harris    male  22.0      1   \n",
       "1  Cumings, Mrs. John Bradley (Florence Briggs Th...  female  38.0      1   \n",
       "2                             Heikkinen, Miss. Laina  female  26.0      0   \n",
       "3       Futrelle, Mrs. Jacques Heath (Lily May Peel)  female  35.0      1   \n",
       "4                           Allen, Mr. William Henry    male  35.0      0   \n",
       "\n",
       "   Parch            Ticket     Fare Cabin Embarked  \n",
       "0      0         A/5 21171   7.2500   NaN        S  \n",
       "1      0          PC 17599  71.2833   C85        C  \n",
       "2      0  STON/O2. 3101282   7.9250   NaN        S  \n",
       "3      0            113803  53.1000  C123        S  \n",
       "4      0            373450   8.0500   NaN        S  "
      ]
     },
     "execution_count": 5,
     "metadata": {},
     "output_type": "execute_result"
    }
   ],
   "source": [
    "print(\"Total rows present = \", len(titan_train))\n",
    "titan_train.head(5)"
   ]
  },
  {
   "cell_type": "code",
   "execution_count": 6,
   "id": "63627989",
   "metadata": {
    "execution": {
     "iopub.execute_input": "2022-08-20T14:25:28.898316Z",
     "iopub.status.busy": "2022-08-20T14:25:28.896846Z",
     "iopub.status.idle": "2022-08-20T14:25:28.914071Z",
     "shell.execute_reply": "2022-08-20T14:25:28.913029Z"
    },
    "papermill": {
     "duration": 0.045492,
     "end_time": "2022-08-20T14:25:28.916813",
     "exception": false,
     "start_time": "2022-08-20T14:25:28.871321",
     "status": "completed"
    },
    "tags": []
   },
   "outputs": [
    {
     "name": "stdout",
     "output_type": "stream",
     "text": [
      "Total rows present =  418\n"
     ]
    },
    {
     "data": {
      "text/html": [
       "<div>\n",
       "<style scoped>\n",
       "    .dataframe tbody tr th:only-of-type {\n",
       "        vertical-align: middle;\n",
       "    }\n",
       "\n",
       "    .dataframe tbody tr th {\n",
       "        vertical-align: top;\n",
       "    }\n",
       "\n",
       "    .dataframe thead th {\n",
       "        text-align: right;\n",
       "    }\n",
       "</style>\n",
       "<table border=\"1\" class=\"dataframe\">\n",
       "  <thead>\n",
       "    <tr style=\"text-align: right;\">\n",
       "      <th></th>\n",
       "      <th>PassengerId</th>\n",
       "      <th>Pclass</th>\n",
       "      <th>Name</th>\n",
       "      <th>Sex</th>\n",
       "      <th>Age</th>\n",
       "      <th>SibSp</th>\n",
       "      <th>Parch</th>\n",
       "      <th>Ticket</th>\n",
       "      <th>Fare</th>\n",
       "      <th>Cabin</th>\n",
       "      <th>Embarked</th>\n",
       "    </tr>\n",
       "  </thead>\n",
       "  <tbody>\n",
       "    <tr>\n",
       "      <th>0</th>\n",
       "      <td>892</td>\n",
       "      <td>3</td>\n",
       "      <td>Kelly, Mr. James</td>\n",
       "      <td>male</td>\n",
       "      <td>34.5</td>\n",
       "      <td>0</td>\n",
       "      <td>0</td>\n",
       "      <td>330911</td>\n",
       "      <td>7.8292</td>\n",
       "      <td>NaN</td>\n",
       "      <td>Q</td>\n",
       "    </tr>\n",
       "    <tr>\n",
       "      <th>1</th>\n",
       "      <td>893</td>\n",
       "      <td>3</td>\n",
       "      <td>Wilkes, Mrs. James (Ellen Needs)</td>\n",
       "      <td>female</td>\n",
       "      <td>47.0</td>\n",
       "      <td>1</td>\n",
       "      <td>0</td>\n",
       "      <td>363272</td>\n",
       "      <td>7.0000</td>\n",
       "      <td>NaN</td>\n",
       "      <td>S</td>\n",
       "    </tr>\n",
       "    <tr>\n",
       "      <th>2</th>\n",
       "      <td>894</td>\n",
       "      <td>2</td>\n",
       "      <td>Myles, Mr. Thomas Francis</td>\n",
       "      <td>male</td>\n",
       "      <td>62.0</td>\n",
       "      <td>0</td>\n",
       "      <td>0</td>\n",
       "      <td>240276</td>\n",
       "      <td>9.6875</td>\n",
       "      <td>NaN</td>\n",
       "      <td>Q</td>\n",
       "    </tr>\n",
       "    <tr>\n",
       "      <th>3</th>\n",
       "      <td>895</td>\n",
       "      <td>3</td>\n",
       "      <td>Wirz, Mr. Albert</td>\n",
       "      <td>male</td>\n",
       "      <td>27.0</td>\n",
       "      <td>0</td>\n",
       "      <td>0</td>\n",
       "      <td>315154</td>\n",
       "      <td>8.6625</td>\n",
       "      <td>NaN</td>\n",
       "      <td>S</td>\n",
       "    </tr>\n",
       "    <tr>\n",
       "      <th>4</th>\n",
       "      <td>896</td>\n",
       "      <td>3</td>\n",
       "      <td>Hirvonen, Mrs. Alexander (Helga E Lindqvist)</td>\n",
       "      <td>female</td>\n",
       "      <td>22.0</td>\n",
       "      <td>1</td>\n",
       "      <td>1</td>\n",
       "      <td>3101298</td>\n",
       "      <td>12.2875</td>\n",
       "      <td>NaN</td>\n",
       "      <td>S</td>\n",
       "    </tr>\n",
       "  </tbody>\n",
       "</table>\n",
       "</div>"
      ],
      "text/plain": [
       "   PassengerId  Pclass                                          Name     Sex  \\\n",
       "0          892       3                              Kelly, Mr. James    male   \n",
       "1          893       3              Wilkes, Mrs. James (Ellen Needs)  female   \n",
       "2          894       2                     Myles, Mr. Thomas Francis    male   \n",
       "3          895       3                              Wirz, Mr. Albert    male   \n",
       "4          896       3  Hirvonen, Mrs. Alexander (Helga E Lindqvist)  female   \n",
       "\n",
       "    Age  SibSp  Parch   Ticket     Fare Cabin Embarked  \n",
       "0  34.5      0      0   330911   7.8292   NaN        Q  \n",
       "1  47.0      1      0   363272   7.0000   NaN        S  \n",
       "2  62.0      0      0   240276   9.6875   NaN        Q  \n",
       "3  27.0      0      0   315154   8.6625   NaN        S  \n",
       "4  22.0      1      1  3101298  12.2875   NaN        S  "
      ]
     },
     "execution_count": 6,
     "metadata": {},
     "output_type": "execute_result"
    }
   ],
   "source": [
    "print(\"Total rows present = \", len(titan_test))\n",
    "titan_test.head(5)"
   ]
  },
  {
   "cell_type": "markdown",
   "id": "9d1e82e1",
   "metadata": {
    "papermill": {
     "duration": 0.022764,
     "end_time": "2022-08-20T14:25:28.963981",
     "exception": false,
     "start_time": "2022-08-20T14:25:28.941217",
     "status": "completed"
    },
    "tags": []
   },
   "source": [
    "Note: Difference in data schema observed between Test and Train dataset as Train dataset consists of an extra column called \"Survived\""
   ]
  },
  {
   "cell_type": "markdown",
   "id": "df8e5279",
   "metadata": {
    "papermill": {
     "duration": 0.022501,
     "end_time": "2022-08-20T14:25:29.009393",
     "exception": false,
     "start_time": "2022-08-20T14:25:28.986892",
     "status": "completed"
    },
    "tags": []
   },
   "source": [
    "## **Step - 2 :** *Data Pre-processing and Anomaly Detection*"
   ]
  },
  {
   "cell_type": "markdown",
   "id": "442f22a4",
   "metadata": {
    "papermill": {
     "duration": 0.022576,
     "end_time": "2022-08-20T14:25:29.054987",
     "exception": false,
     "start_time": "2022-08-20T14:25:29.032411",
     "status": "completed"
    },
    "tags": []
   },
   "source": [
    "### **Step - 2.1 :** Data Pre-Processing"
   ]
  },
  {
   "cell_type": "code",
   "execution_count": 7,
   "id": "7368ff1d",
   "metadata": {
    "execution": {
     "iopub.execute_input": "2022-08-20T14:25:29.104465Z",
     "iopub.status.busy": "2022-08-20T14:25:29.103882Z",
     "iopub.status.idle": "2022-08-20T14:25:29.129391Z",
     "shell.execute_reply": "2022-08-20T14:25:29.128633Z"
    },
    "papermill": {
     "duration": 0.05281,
     "end_time": "2022-08-20T14:25:29.131585",
     "exception": false,
     "start_time": "2022-08-20T14:25:29.078775",
     "status": "completed"
    },
    "tags": []
   },
   "outputs": [
    {
     "data": {
      "text/html": [
       "<div>\n",
       "<style scoped>\n",
       "    .dataframe tbody tr th:only-of-type {\n",
       "        vertical-align: middle;\n",
       "    }\n",
       "\n",
       "    .dataframe tbody tr th {\n",
       "        vertical-align: top;\n",
       "    }\n",
       "\n",
       "    .dataframe thead th {\n",
       "        text-align: right;\n",
       "    }\n",
       "</style>\n",
       "<table border=\"1\" class=\"dataframe\">\n",
       "  <thead>\n",
       "    <tr style=\"text-align: right;\">\n",
       "      <th></th>\n",
       "      <th>PassengerId</th>\n",
       "      <th>Pclass</th>\n",
       "      <th>Name</th>\n",
       "      <th>Sex</th>\n",
       "      <th>Age</th>\n",
       "      <th>SibSp</th>\n",
       "      <th>Parch</th>\n",
       "      <th>Ticket</th>\n",
       "      <th>Fare</th>\n",
       "      <th>Cabin</th>\n",
       "      <th>Embarked</th>\n",
       "    </tr>\n",
       "  </thead>\n",
       "  <tbody>\n",
       "    <tr>\n",
       "      <th>0</th>\n",
       "      <td>1</td>\n",
       "      <td>3</td>\n",
       "      <td>Braund, Mr. Owen Harris</td>\n",
       "      <td>male</td>\n",
       "      <td>22.0</td>\n",
       "      <td>1</td>\n",
       "      <td>0</td>\n",
       "      <td>A/5 21171</td>\n",
       "      <td>7.2500</td>\n",
       "      <td>NaN</td>\n",
       "      <td>S</td>\n",
       "    </tr>\n",
       "    <tr>\n",
       "      <th>1</th>\n",
       "      <td>2</td>\n",
       "      <td>1</td>\n",
       "      <td>Cumings, Mrs. John Bradley (Florence Briggs Th...</td>\n",
       "      <td>female</td>\n",
       "      <td>38.0</td>\n",
       "      <td>1</td>\n",
       "      <td>0</td>\n",
       "      <td>PC 17599</td>\n",
       "      <td>71.2833</td>\n",
       "      <td>C85</td>\n",
       "      <td>C</td>\n",
       "    </tr>\n",
       "    <tr>\n",
       "      <th>2</th>\n",
       "      <td>3</td>\n",
       "      <td>3</td>\n",
       "      <td>Heikkinen, Miss. Laina</td>\n",
       "      <td>female</td>\n",
       "      <td>26.0</td>\n",
       "      <td>0</td>\n",
       "      <td>0</td>\n",
       "      <td>STON/O2. 3101282</td>\n",
       "      <td>7.9250</td>\n",
       "      <td>NaN</td>\n",
       "      <td>S</td>\n",
       "    </tr>\n",
       "    <tr>\n",
       "      <th>3</th>\n",
       "      <td>4</td>\n",
       "      <td>1</td>\n",
       "      <td>Futrelle, Mrs. Jacques Heath (Lily May Peel)</td>\n",
       "      <td>female</td>\n",
       "      <td>35.0</td>\n",
       "      <td>1</td>\n",
       "      <td>0</td>\n",
       "      <td>113803</td>\n",
       "      <td>53.1000</td>\n",
       "      <td>C123</td>\n",
       "      <td>S</td>\n",
       "    </tr>\n",
       "    <tr>\n",
       "      <th>4</th>\n",
       "      <td>5</td>\n",
       "      <td>3</td>\n",
       "      <td>Allen, Mr. William Henry</td>\n",
       "      <td>male</td>\n",
       "      <td>35.0</td>\n",
       "      <td>0</td>\n",
       "      <td>0</td>\n",
       "      <td>373450</td>\n",
       "      <td>8.0500</td>\n",
       "      <td>NaN</td>\n",
       "      <td>S</td>\n",
       "    </tr>\n",
       "  </tbody>\n",
       "</table>\n",
       "</div>"
      ],
      "text/plain": [
       "   PassengerId  Pclass                                               Name  \\\n",
       "0            1       3                            Braund, Mr. Owen Harris   \n",
       "1            2       1  Cumings, Mrs. John Bradley (Florence Briggs Th...   \n",
       "2            3       3                             Heikkinen, Miss. Laina   \n",
       "3            4       1       Futrelle, Mrs. Jacques Heath (Lily May Peel)   \n",
       "4            5       3                           Allen, Mr. William Henry   \n",
       "\n",
       "      Sex   Age  SibSp  Parch            Ticket     Fare Cabin Embarked  \n",
       "0    male  22.0      1      0         A/5 21171   7.2500   NaN        S  \n",
       "1  female  38.0      1      0          PC 17599  71.2833   C85        C  \n",
       "2  female  26.0      0      0  STON/O2. 3101282   7.9250   NaN        S  \n",
       "3  female  35.0      1      0            113803  53.1000  C123        S  \n",
       "4    male  35.0      0      0            373450   8.0500   NaN        S  "
      ]
     },
     "execution_count": 7,
     "metadata": {},
     "output_type": "execute_result"
    }
   ],
   "source": [
    "# Dropping Survived column from Train dataset so that both test and train datasets can be combined together for the ease of data pre-processing and anomaly detection\n",
    "\n",
    "titan_train_cl = titan_train  # Cloning train dataset to avoid data tampering\n",
    "y_train = titan_train_cl.Survived\n",
    "titan_train_cl.drop(['Survived'], axis = 1, inplace = True) # Dropping extra column\n",
    "titan_train_cl.head(5)"
   ]
  },
  {
   "cell_type": "markdown",
   "id": "597c5b2c",
   "metadata": {
    "papermill": {
     "duration": 0.022866,
     "end_time": "2022-08-20T14:25:29.178516",
     "exception": false,
     "start_time": "2022-08-20T14:25:29.155650",
     "status": "completed"
    },
    "tags": []
   },
   "source": [
    "Note: Similar schema achevied between train and test dataset. Lets combine both the datasets to create our merged dataset"
   ]
  },
  {
   "cell_type": "code",
   "execution_count": 8,
   "id": "185890b2",
   "metadata": {
    "execution": {
     "iopub.execute_input": "2022-08-20T14:25:29.226786Z",
     "iopub.status.busy": "2022-08-20T14:25:29.226132Z",
     "iopub.status.idle": "2022-08-20T14:25:29.245935Z",
     "shell.execute_reply": "2022-08-20T14:25:29.244823Z"
    },
    "papermill": {
     "duration": 0.046362,
     "end_time": "2022-08-20T14:25:29.248174",
     "exception": false,
     "start_time": "2022-08-20T14:25:29.201812",
     "status": "completed"
    },
    "tags": []
   },
   "outputs": [
    {
     "name": "stdout",
     "output_type": "stream",
     "text": [
      "Total rows present =  1309\n"
     ]
    },
    {
     "data": {
      "text/html": [
       "<div>\n",
       "<style scoped>\n",
       "    .dataframe tbody tr th:only-of-type {\n",
       "        vertical-align: middle;\n",
       "    }\n",
       "\n",
       "    .dataframe tbody tr th {\n",
       "        vertical-align: top;\n",
       "    }\n",
       "\n",
       "    .dataframe thead th {\n",
       "        text-align: right;\n",
       "    }\n",
       "</style>\n",
       "<table border=\"1\" class=\"dataframe\">\n",
       "  <thead>\n",
       "    <tr style=\"text-align: right;\">\n",
       "      <th></th>\n",
       "      <th>PassengerId</th>\n",
       "      <th>Pclass</th>\n",
       "      <th>Name</th>\n",
       "      <th>Sex</th>\n",
       "      <th>Age</th>\n",
       "      <th>SibSp</th>\n",
       "      <th>Parch</th>\n",
       "      <th>Ticket</th>\n",
       "      <th>Fare</th>\n",
       "      <th>Cabin</th>\n",
       "      <th>Embarked</th>\n",
       "    </tr>\n",
       "  </thead>\n",
       "  <tbody>\n",
       "    <tr>\n",
       "      <th>0</th>\n",
       "      <td>1</td>\n",
       "      <td>3</td>\n",
       "      <td>Braund, Mr. Owen Harris</td>\n",
       "      <td>male</td>\n",
       "      <td>22.0</td>\n",
       "      <td>1</td>\n",
       "      <td>0</td>\n",
       "      <td>A/5 21171</td>\n",
       "      <td>7.2500</td>\n",
       "      <td>NaN</td>\n",
       "      <td>S</td>\n",
       "    </tr>\n",
       "    <tr>\n",
       "      <th>1</th>\n",
       "      <td>2</td>\n",
       "      <td>1</td>\n",
       "      <td>Cumings, Mrs. John Bradley (Florence Briggs Th...</td>\n",
       "      <td>female</td>\n",
       "      <td>38.0</td>\n",
       "      <td>1</td>\n",
       "      <td>0</td>\n",
       "      <td>PC 17599</td>\n",
       "      <td>71.2833</td>\n",
       "      <td>C85</td>\n",
       "      <td>C</td>\n",
       "    </tr>\n",
       "    <tr>\n",
       "      <th>2</th>\n",
       "      <td>3</td>\n",
       "      <td>3</td>\n",
       "      <td>Heikkinen, Miss. Laina</td>\n",
       "      <td>female</td>\n",
       "      <td>26.0</td>\n",
       "      <td>0</td>\n",
       "      <td>0</td>\n",
       "      <td>STON/O2. 3101282</td>\n",
       "      <td>7.9250</td>\n",
       "      <td>NaN</td>\n",
       "      <td>S</td>\n",
       "    </tr>\n",
       "    <tr>\n",
       "      <th>3</th>\n",
       "      <td>4</td>\n",
       "      <td>1</td>\n",
       "      <td>Futrelle, Mrs. Jacques Heath (Lily May Peel)</td>\n",
       "      <td>female</td>\n",
       "      <td>35.0</td>\n",
       "      <td>1</td>\n",
       "      <td>0</td>\n",
       "      <td>113803</td>\n",
       "      <td>53.1000</td>\n",
       "      <td>C123</td>\n",
       "      <td>S</td>\n",
       "    </tr>\n",
       "    <tr>\n",
       "      <th>4</th>\n",
       "      <td>5</td>\n",
       "      <td>3</td>\n",
       "      <td>Allen, Mr. William Henry</td>\n",
       "      <td>male</td>\n",
       "      <td>35.0</td>\n",
       "      <td>0</td>\n",
       "      <td>0</td>\n",
       "      <td>373450</td>\n",
       "      <td>8.0500</td>\n",
       "      <td>NaN</td>\n",
       "      <td>S</td>\n",
       "    </tr>\n",
       "  </tbody>\n",
       "</table>\n",
       "</div>"
      ],
      "text/plain": [
       "   PassengerId  Pclass                                               Name  \\\n",
       "0            1       3                            Braund, Mr. Owen Harris   \n",
       "1            2       1  Cumings, Mrs. John Bradley (Florence Briggs Th...   \n",
       "2            3       3                             Heikkinen, Miss. Laina   \n",
       "3            4       1       Futrelle, Mrs. Jacques Heath (Lily May Peel)   \n",
       "4            5       3                           Allen, Mr. William Henry   \n",
       "\n",
       "      Sex   Age  SibSp  Parch            Ticket     Fare Cabin Embarked  \n",
       "0    male  22.0      1      0         A/5 21171   7.2500   NaN        S  \n",
       "1  female  38.0      1      0          PC 17599  71.2833   C85        C  \n",
       "2  female  26.0      0      0  STON/O2. 3101282   7.9250   NaN        S  \n",
       "3  female  35.0      1      0            113803  53.1000  C123        S  \n",
       "4    male  35.0      0      0            373450   8.0500   NaN        S  "
      ]
     },
     "execution_count": 8,
     "metadata": {},
     "output_type": "execute_result"
    }
   ],
   "source": [
    "# Combing both test and train datasets for merged dataset creation\n",
    "# Here data schema betwee the two datasets are exactly similar. Hence we can use concat() to merge rows\n",
    "\n",
    "merged_data = pd.concat([titan_train_cl,titan_test], axis = 0, ignore_index= True)\n",
    "print(\"Total rows present = \", len(merged_data))\n",
    "merged_data.head(5)\n"
   ]
  },
  {
   "cell_type": "markdown",
   "id": "6bd689c4",
   "metadata": {
    "papermill": {
     "duration": 0.022853,
     "end_time": "2022-08-20T14:25:29.294988",
     "exception": false,
     "start_time": "2022-08-20T14:25:29.272135",
     "status": "completed"
    },
    "tags": []
   },
   "source": [
    "**QC :** Total number of rows between Train and Test should match with total rows of merged_data. (891 + 418) = 1309. Result: **PASSED**"
   ]
  },
  {
   "cell_type": "code",
   "execution_count": 9,
   "id": "9d92cdfd",
   "metadata": {
    "execution": {
     "iopub.execute_input": "2022-08-20T14:25:29.343412Z",
     "iopub.status.busy": "2022-08-20T14:25:29.343015Z",
     "iopub.status.idle": "2022-08-20T14:25:29.365285Z",
     "shell.execute_reply": "2022-08-20T14:25:29.363934Z"
    },
    "papermill": {
     "duration": 0.048919,
     "end_time": "2022-08-20T14:25:29.367586",
     "exception": false,
     "start_time": "2022-08-20T14:25:29.318667",
     "status": "completed"
    },
    "tags": []
   },
   "outputs": [
    {
     "name": "stdout",
     "output_type": "stream",
     "text": [
      "<class 'pandas.core.frame.DataFrame'>\n",
      "RangeIndex: 1309 entries, 0 to 1308\n",
      "Data columns (total 11 columns):\n",
      " #   Column       Non-Null Count  Dtype  \n",
      "---  ------       --------------  -----  \n",
      " 0   PassengerId  1309 non-null   int64  \n",
      " 1   Pclass       1309 non-null   int64  \n",
      " 2   Name         1309 non-null   object \n",
      " 3   Sex          1309 non-null   object \n",
      " 4   Age          1046 non-null   float64\n",
      " 5   SibSp        1309 non-null   int64  \n",
      " 6   Parch        1309 non-null   int64  \n",
      " 7   Ticket       1309 non-null   object \n",
      " 8   Fare         1308 non-null   float64\n",
      " 9   Cabin        295 non-null    object \n",
      " 10  Embarked     1307 non-null   object \n",
      "dtypes: float64(2), int64(4), object(5)\n",
      "memory usage: 112.6+ KB\n"
     ]
    }
   ],
   "source": [
    "merged_data.info() # Checking data type information for validation purposes"
   ]
  },
  {
   "cell_type": "markdown",
   "id": "9847a1e7",
   "metadata": {
    "papermill": {
     "duration": 0.023412,
     "end_time": "2022-08-20T14:25:29.414505",
     "exception": false,
     "start_time": "2022-08-20T14:25:29.391093",
     "status": "completed"
    },
    "tags": []
   },
   "source": [
    "**Observation :** Age, Cabin, Fare, Embarked may contain nulls"
   ]
  },
  {
   "cell_type": "code",
   "execution_count": 10,
   "id": "6f604b14",
   "metadata": {
    "execution": {
     "iopub.execute_input": "2022-08-20T14:25:29.463336Z",
     "iopub.status.busy": "2022-08-20T14:25:29.462691Z",
     "iopub.status.idle": "2022-08-20T14:25:29.493933Z",
     "shell.execute_reply": "2022-08-20T14:25:29.492837Z"
    },
    "papermill": {
     "duration": 0.058218,
     "end_time": "2022-08-20T14:25:29.496110",
     "exception": false,
     "start_time": "2022-08-20T14:25:29.437892",
     "status": "completed"
    },
    "tags": []
   },
   "outputs": [
    {
     "data": {
      "text/html": [
       "<div>\n",
       "<style scoped>\n",
       "    .dataframe tbody tr th:only-of-type {\n",
       "        vertical-align: middle;\n",
       "    }\n",
       "\n",
       "    .dataframe tbody tr th {\n",
       "        vertical-align: top;\n",
       "    }\n",
       "\n",
       "    .dataframe thead th {\n",
       "        text-align: right;\n",
       "    }\n",
       "</style>\n",
       "<table border=\"1\" class=\"dataframe\">\n",
       "  <thead>\n",
       "    <tr style=\"text-align: right;\">\n",
       "      <th></th>\n",
       "      <th>PassengerId</th>\n",
       "      <th>Pclass</th>\n",
       "      <th>Age</th>\n",
       "      <th>SibSp</th>\n",
       "      <th>Parch</th>\n",
       "      <th>Fare</th>\n",
       "    </tr>\n",
       "  </thead>\n",
       "  <tbody>\n",
       "    <tr>\n",
       "      <th>count</th>\n",
       "      <td>1309.000000</td>\n",
       "      <td>1309.000000</td>\n",
       "      <td>1046.000000</td>\n",
       "      <td>1309.000000</td>\n",
       "      <td>1309.000000</td>\n",
       "      <td>1308.000000</td>\n",
       "    </tr>\n",
       "    <tr>\n",
       "      <th>mean</th>\n",
       "      <td>655.000000</td>\n",
       "      <td>2.294882</td>\n",
       "      <td>29.881138</td>\n",
       "      <td>0.498854</td>\n",
       "      <td>0.385027</td>\n",
       "      <td>33.295479</td>\n",
       "    </tr>\n",
       "    <tr>\n",
       "      <th>std</th>\n",
       "      <td>378.020061</td>\n",
       "      <td>0.837836</td>\n",
       "      <td>14.413493</td>\n",
       "      <td>1.041658</td>\n",
       "      <td>0.865560</td>\n",
       "      <td>51.758668</td>\n",
       "    </tr>\n",
       "    <tr>\n",
       "      <th>min</th>\n",
       "      <td>1.000000</td>\n",
       "      <td>1.000000</td>\n",
       "      <td>0.170000</td>\n",
       "      <td>0.000000</td>\n",
       "      <td>0.000000</td>\n",
       "      <td>0.000000</td>\n",
       "    </tr>\n",
       "    <tr>\n",
       "      <th>25%</th>\n",
       "      <td>328.000000</td>\n",
       "      <td>2.000000</td>\n",
       "      <td>21.000000</td>\n",
       "      <td>0.000000</td>\n",
       "      <td>0.000000</td>\n",
       "      <td>7.895800</td>\n",
       "    </tr>\n",
       "    <tr>\n",
       "      <th>50%</th>\n",
       "      <td>655.000000</td>\n",
       "      <td>3.000000</td>\n",
       "      <td>28.000000</td>\n",
       "      <td>0.000000</td>\n",
       "      <td>0.000000</td>\n",
       "      <td>14.454200</td>\n",
       "    </tr>\n",
       "    <tr>\n",
       "      <th>75%</th>\n",
       "      <td>982.000000</td>\n",
       "      <td>3.000000</td>\n",
       "      <td>39.000000</td>\n",
       "      <td>1.000000</td>\n",
       "      <td>0.000000</td>\n",
       "      <td>31.275000</td>\n",
       "    </tr>\n",
       "    <tr>\n",
       "      <th>max</th>\n",
       "      <td>1309.000000</td>\n",
       "      <td>3.000000</td>\n",
       "      <td>80.000000</td>\n",
       "      <td>8.000000</td>\n",
       "      <td>9.000000</td>\n",
       "      <td>512.329200</td>\n",
       "    </tr>\n",
       "  </tbody>\n",
       "</table>\n",
       "</div>"
      ],
      "text/plain": [
       "       PassengerId       Pclass          Age        SibSp        Parch  \\\n",
       "count  1309.000000  1309.000000  1046.000000  1309.000000  1309.000000   \n",
       "mean    655.000000     2.294882    29.881138     0.498854     0.385027   \n",
       "std     378.020061     0.837836    14.413493     1.041658     0.865560   \n",
       "min       1.000000     1.000000     0.170000     0.000000     0.000000   \n",
       "25%     328.000000     2.000000    21.000000     0.000000     0.000000   \n",
       "50%     655.000000     3.000000    28.000000     0.000000     0.000000   \n",
       "75%     982.000000     3.000000    39.000000     1.000000     0.000000   \n",
       "max    1309.000000     3.000000    80.000000     8.000000     9.000000   \n",
       "\n",
       "              Fare  \n",
       "count  1308.000000  \n",
       "mean     33.295479  \n",
       "std      51.758668  \n",
       "min       0.000000  \n",
       "25%       7.895800  \n",
       "50%      14.454200  \n",
       "75%      31.275000  \n",
       "max     512.329200  "
      ]
     },
     "execution_count": 10,
     "metadata": {},
     "output_type": "execute_result"
    }
   ],
   "source": [
    "merged_data.describe() # Taking an overview of continuous variables (Age, Fare, etc.)"
   ]
  },
  {
   "cell_type": "markdown",
   "id": "b92dafe2",
   "metadata": {
    "papermill": {
     "duration": 0.023624,
     "end_time": "2022-08-20T14:25:29.544577",
     "exception": false,
     "start_time": "2022-08-20T14:25:29.520953",
     "status": "completed"
    },
    "tags": []
   },
   "source": [
    "**Observation :** It seems data contains some anomalous points. Because, There are Age like 0.17, Fare = 0, etc"
   ]
  },
  {
   "cell_type": "code",
   "execution_count": 11,
   "id": "a7af1d65",
   "metadata": {
    "execution": {
     "iopub.execute_input": "2022-08-20T14:25:29.594955Z",
     "iopub.status.busy": "2022-08-20T14:25:29.594553Z",
     "iopub.status.idle": "2022-08-20T14:25:29.603802Z",
     "shell.execute_reply": "2022-08-20T14:25:29.602790Z"
    },
    "papermill": {
     "duration": 0.037254,
     "end_time": "2022-08-20T14:25:29.606122",
     "exception": false,
     "start_time": "2022-08-20T14:25:29.568868",
     "status": "completed"
    },
    "tags": []
   },
   "outputs": [
    {
     "data": {
      "text/plain": [
       "PassengerId       0\n",
       "Pclass            0\n",
       "Name              0\n",
       "Sex               0\n",
       "Age             263\n",
       "SibSp             0\n",
       "Parch             0\n",
       "Ticket            0\n",
       "Fare              1\n",
       "Cabin          1014\n",
       "Embarked          2\n",
       "dtype: int64"
      ]
     },
     "execution_count": 11,
     "metadata": {},
     "output_type": "execute_result"
    }
   ],
   "source": [
    "# Confirming presence of missing values in each variable\n",
    "\n",
    "merged_data.isnull().sum()"
   ]
  },
  {
   "cell_type": "markdown",
   "id": "45e5eada",
   "metadata": {
    "papermill": {
     "duration": 0.024136,
     "end_time": "2022-08-20T14:25:29.655121",
     "exception": false,
     "start_time": "2022-08-20T14:25:29.630985",
     "status": "completed"
    },
    "tags": []
   },
   "source": [
    "Observation: High Nulls observed in Cabin and Age"
   ]
  },
  {
   "cell_type": "markdown",
   "id": "facce435",
   "metadata": {
    "papermill": {
     "duration": 0.023913,
     "end_time": "2022-08-20T14:25:29.703552",
     "exception": false,
     "start_time": "2022-08-20T14:25:29.679639",
     "status": "completed"
    },
    "tags": []
   },
   "source": [
    "Treating Nulls in the above mentioned columns:"
   ]
  },
  {
   "cell_type": "code",
   "execution_count": 12,
   "id": "4aa093d0",
   "metadata": {
    "execution": {
     "iopub.execute_input": "2022-08-20T14:25:29.754324Z",
     "iopub.status.busy": "2022-08-20T14:25:29.753929Z",
     "iopub.status.idle": "2022-08-20T14:25:29.759406Z",
     "shell.execute_reply": "2022-08-20T14:25:29.758329Z"
    },
    "papermill": {
     "duration": 0.033231,
     "end_time": "2022-08-20T14:25:29.761456",
     "exception": false,
     "start_time": "2022-08-20T14:25:29.728225",
     "status": "completed"
    },
    "tags": []
   },
   "outputs": [],
   "source": [
    "# Converting all Nulls to N/A\n",
    "\n",
    "merged_data['Cabin'].fillna('N/A', inplace = True)"
   ]
  },
  {
   "cell_type": "markdown",
   "id": "f9779222",
   "metadata": {
    "papermill": {
     "duration": 0.024037,
     "end_time": "2022-08-20T14:25:29.810054",
     "exception": false,
     "start_time": "2022-08-20T14:25:29.786017",
     "status": "completed"
    },
    "tags": []
   },
   "source": [
    "**Note :** This is to highlight that no null rows for 'Cabin' column has been removed. This is because, the nulls are quite high in number and we cant just remove the rows directly as that will impact the overall dataset and modelling outputs in future. Hence we have replaced the nulls with string named 'N/A' so that we can explore the possibility of \"Cabin\" as a potential predictor of \"Survival\" in later stage\n"
   ]
  },
  {
   "cell_type": "code",
   "execution_count": 13,
   "id": "2f4901bc",
   "metadata": {
    "execution": {
     "iopub.execute_input": "2022-08-20T14:25:29.859938Z",
     "iopub.status.busy": "2022-08-20T14:25:29.859260Z",
     "iopub.status.idle": "2022-08-20T14:25:29.870319Z",
     "shell.execute_reply": "2022-08-20T14:25:29.869602Z"
    },
    "papermill": {
     "duration": 0.03869,
     "end_time": "2022-08-20T14:25:29.872619",
     "exception": false,
     "start_time": "2022-08-20T14:25:29.833929",
     "status": "completed"
    },
    "tags": []
   },
   "outputs": [
    {
     "data": {
      "text/plain": [
       "Cabin\n",
       "N/A                1014\n",
       "C23 C25 C27           6\n",
       "G6                    5\n",
       "B57 B59 B63 B66       5\n",
       "B96 B98               4\n",
       "                   ... \n",
       "B82 B84               1\n",
       "B80                   1\n",
       "B79                   1\n",
       "B73                   1\n",
       "T                     1\n",
       "Length: 187, dtype: int64"
      ]
     },
     "execution_count": 13,
     "metadata": {},
     "output_type": "execute_result"
    }
   ],
   "source": [
    "# Valoidating correct data manipulation in merged_data\n",
    "\n",
    "cabin_distr = merged_data.groupby(\"Cabin\").size().sort_values(ascending = False)\n",
    "cabin_distr"
   ]
  },
  {
   "cell_type": "markdown",
   "id": "1719c92d",
   "metadata": {
    "papermill": {
     "duration": 0.02392,
     "end_time": "2022-08-20T14:25:29.921158",
     "exception": false,
     "start_time": "2022-08-20T14:25:29.897238",
     "status": "completed"
    },
    "tags": []
   },
   "source": [
    "**QC :** N/A = 1014 which matches count of Null values in Cabin column previously. Result: **PASSED**"
   ]
  },
  {
   "cell_type": "code",
   "execution_count": 14,
   "id": "151a4db3",
   "metadata": {
    "execution": {
     "iopub.execute_input": "2022-08-20T14:25:29.971646Z",
     "iopub.status.busy": "2022-08-20T14:25:29.970894Z",
     "iopub.status.idle": "2022-08-20T14:25:29.976356Z",
     "shell.execute_reply": "2022-08-20T14:25:29.975634Z"
    },
    "papermill": {
     "duration": 0.033155,
     "end_time": "2022-08-20T14:25:29.978651",
     "exception": false,
     "start_time": "2022-08-20T14:25:29.945496",
     "status": "completed"
    },
    "tags": []
   },
   "outputs": [],
   "source": [
    "# Replacing the missing values of the embarked column with the mode of the column:\n",
    "\n",
    "merged_data['Embarked'].fillna((merged_data['Embarked'].mode()[0]), inplace = True)"
   ]
  },
  {
   "cell_type": "code",
   "execution_count": 15,
   "id": "9c9288b2",
   "metadata": {
    "execution": {
     "iopub.execute_input": "2022-08-20T14:25:30.030317Z",
     "iopub.status.busy": "2022-08-20T14:25:30.029071Z",
     "iopub.status.idle": "2022-08-20T14:25:30.035308Z",
     "shell.execute_reply": "2022-08-20T14:25:30.034583Z"
    },
    "papermill": {
     "duration": 0.034366,
     "end_time": "2022-08-20T14:25:30.037603",
     "exception": false,
     "start_time": "2022-08-20T14:25:30.003237",
     "status": "completed"
    },
    "tags": []
   },
   "outputs": [],
   "source": [
    "# Replacing missing values in Age column with the median of column\n",
    "\n",
    "merged_data['Age'].fillna((merged_data['Age'].median()), inplace = True)"
   ]
  },
  {
   "cell_type": "code",
   "execution_count": 16,
   "id": "5069388a",
   "metadata": {
    "execution": {
     "iopub.execute_input": "2022-08-20T14:25:30.088425Z",
     "iopub.status.busy": "2022-08-20T14:25:30.087754Z",
     "iopub.status.idle": "2022-08-20T14:25:30.092825Z",
     "shell.execute_reply": "2022-08-20T14:25:30.091992Z"
    },
    "papermill": {
     "duration": 0.032896,
     "end_time": "2022-08-20T14:25:30.094871",
     "exception": false,
     "start_time": "2022-08-20T14:25:30.061975",
     "status": "completed"
    },
    "tags": []
   },
   "outputs": [],
   "source": [
    "# Replacing missing values in Fare column with the mean of column\n",
    "\n",
    "merged_data['Fare'].fillna((merged_data['Fare'].mean()), inplace = True)"
   ]
  },
  {
   "cell_type": "code",
   "execution_count": 17,
   "id": "28286817",
   "metadata": {
    "execution": {
     "iopub.execute_input": "2022-08-20T14:25:30.145999Z",
     "iopub.status.busy": "2022-08-20T14:25:30.145231Z",
     "iopub.status.idle": "2022-08-20T14:25:30.153259Z",
     "shell.execute_reply": "2022-08-20T14:25:30.152599Z"
    },
    "papermill": {
     "duration": 0.03611,
     "end_time": "2022-08-20T14:25:30.155249",
     "exception": false,
     "start_time": "2022-08-20T14:25:30.119139",
     "status": "completed"
    },
    "tags": []
   },
   "outputs": [
    {
     "data": {
      "text/plain": [
       "PassengerId    0\n",
       "Pclass         0\n",
       "Name           0\n",
       "Sex            0\n",
       "Age            0\n",
       "SibSp          0\n",
       "Parch          0\n",
       "Ticket         0\n",
       "Fare           0\n",
       "Cabin          0\n",
       "Embarked       0\n",
       "dtype: int64"
      ]
     },
     "execution_count": 17,
     "metadata": {},
     "output_type": "execute_result"
    }
   ],
   "source": [
    "# Validating any presence of Nulls after missing data manipulation\n",
    "\n",
    "merged_data.isnull().sum()"
   ]
  },
  {
   "cell_type": "markdown",
   "id": "8f749868",
   "metadata": {
    "papermill": {
     "duration": 0.023696,
     "end_time": "2022-08-20T14:25:30.202866",
     "exception": false,
     "start_time": "2022-08-20T14:25:30.179170",
     "status": "completed"
    },
    "tags": []
   },
   "source": [
    "**Note:** No Nulls present"
   ]
  },
  {
   "cell_type": "code",
   "execution_count": 18,
   "id": "da68a5dd",
   "metadata": {
    "execution": {
     "iopub.execute_input": "2022-08-20T14:25:30.253287Z",
     "iopub.status.busy": "2022-08-20T14:25:30.252595Z",
     "iopub.status.idle": "2022-08-20T14:25:30.286448Z",
     "shell.execute_reply": "2022-08-20T14:25:30.285057Z"
    },
    "papermill": {
     "duration": 0.062468,
     "end_time": "2022-08-20T14:25:30.289563",
     "exception": false,
     "start_time": "2022-08-20T14:25:30.227095",
     "status": "completed"
    },
    "tags": []
   },
   "outputs": [
    {
     "name": "stdout",
     "output_type": "stream",
     "text": [
      "Number of Age anomalous cases: 45\n"
     ]
    },
    {
     "data": {
      "text/html": [
       "<div>\n",
       "<style scoped>\n",
       "    .dataframe tbody tr th:only-of-type {\n",
       "        vertical-align: middle;\n",
       "    }\n",
       "\n",
       "    .dataframe tbody tr th {\n",
       "        vertical-align: top;\n",
       "    }\n",
       "\n",
       "    .dataframe thead th {\n",
       "        text-align: right;\n",
       "    }\n",
       "</style>\n",
       "<table border=\"1\" class=\"dataframe\">\n",
       "  <thead>\n",
       "    <tr style=\"text-align: right;\">\n",
       "      <th></th>\n",
       "      <th>PassengerId</th>\n",
       "      <th>Pclass</th>\n",
       "      <th>Name</th>\n",
       "      <th>Sex</th>\n",
       "      <th>Age</th>\n",
       "      <th>SibSp</th>\n",
       "      <th>Parch</th>\n",
       "      <th>Ticket</th>\n",
       "      <th>Fare</th>\n",
       "      <th>Cabin</th>\n",
       "      <th>Embarked</th>\n",
       "    </tr>\n",
       "  </thead>\n",
       "  <tbody>\n",
       "    <tr>\n",
       "      <th>57</th>\n",
       "      <td>58</td>\n",
       "      <td>3</td>\n",
       "      <td>Novel, Mr. Mansouer</td>\n",
       "      <td>male</td>\n",
       "      <td>28.50</td>\n",
       "      <td>0</td>\n",
       "      <td>0</td>\n",
       "      <td>2697</td>\n",
       "      <td>7.229200</td>\n",
       "      <td>N/A</td>\n",
       "      <td>C</td>\n",
       "    </tr>\n",
       "    <tr>\n",
       "      <th>78</th>\n",
       "      <td>79</td>\n",
       "      <td>2</td>\n",
       "      <td>Caldwell, Master. Alden Gates</td>\n",
       "      <td>male</td>\n",
       "      <td>0.83</td>\n",
       "      <td>0</td>\n",
       "      <td>2</td>\n",
       "      <td>248738</td>\n",
       "      <td>29.000000</td>\n",
       "      <td>N/A</td>\n",
       "      <td>S</td>\n",
       "    </tr>\n",
       "    <tr>\n",
       "      <th>111</th>\n",
       "      <td>112</td>\n",
       "      <td>3</td>\n",
       "      <td>Zabour, Miss. Hileni</td>\n",
       "      <td>female</td>\n",
       "      <td>14.50</td>\n",
       "      <td>1</td>\n",
       "      <td>0</td>\n",
       "      <td>2665</td>\n",
       "      <td>14.454200</td>\n",
       "      <td>N/A</td>\n",
       "      <td>C</td>\n",
       "    </tr>\n",
       "    <tr>\n",
       "      <th>116</th>\n",
       "      <td>117</td>\n",
       "      <td>3</td>\n",
       "      <td>Connors, Mr. Patrick</td>\n",
       "      <td>male</td>\n",
       "      <td>70.50</td>\n",
       "      <td>0</td>\n",
       "      <td>0</td>\n",
       "      <td>370369</td>\n",
       "      <td>7.750000</td>\n",
       "      <td>N/A</td>\n",
       "      <td>Q</td>\n",
       "    </tr>\n",
       "    <tr>\n",
       "      <th>122</th>\n",
       "      <td>123</td>\n",
       "      <td>2</td>\n",
       "      <td>Nasser, Mr. Nicholas</td>\n",
       "      <td>male</td>\n",
       "      <td>32.50</td>\n",
       "      <td>1</td>\n",
       "      <td>0</td>\n",
       "      <td>237736</td>\n",
       "      <td>30.070800</td>\n",
       "      <td>N/A</td>\n",
       "      <td>C</td>\n",
       "    </tr>\n",
       "    <tr>\n",
       "      <th>123</th>\n",
       "      <td>124</td>\n",
       "      <td>2</td>\n",
       "      <td>Webber, Miss. Susan</td>\n",
       "      <td>female</td>\n",
       "      <td>32.50</td>\n",
       "      <td>0</td>\n",
       "      <td>0</td>\n",
       "      <td>27267</td>\n",
       "      <td>13.000000</td>\n",
       "      <td>E101</td>\n",
       "      <td>S</td>\n",
       "    </tr>\n",
       "    <tr>\n",
       "      <th>148</th>\n",
       "      <td>149</td>\n",
       "      <td>2</td>\n",
       "      <td>Navratil, Mr. Michel (\"Louis M Hoffman\")</td>\n",
       "      <td>male</td>\n",
       "      <td>36.50</td>\n",
       "      <td>0</td>\n",
       "      <td>2</td>\n",
       "      <td>230080</td>\n",
       "      <td>26.000000</td>\n",
       "      <td>F2</td>\n",
       "      <td>S</td>\n",
       "    </tr>\n",
       "    <tr>\n",
       "      <th>152</th>\n",
       "      <td>153</td>\n",
       "      <td>3</td>\n",
       "      <td>Meo, Mr. Alfonzo</td>\n",
       "      <td>male</td>\n",
       "      <td>55.50</td>\n",
       "      <td>0</td>\n",
       "      <td>0</td>\n",
       "      <td>A.5. 11206</td>\n",
       "      <td>8.050000</td>\n",
       "      <td>N/A</td>\n",
       "      <td>S</td>\n",
       "    </tr>\n",
       "    <tr>\n",
       "      <th>153</th>\n",
       "      <td>154</td>\n",
       "      <td>3</td>\n",
       "      <td>van Billiard, Mr. Austin Blyler</td>\n",
       "      <td>male</td>\n",
       "      <td>40.50</td>\n",
       "      <td>0</td>\n",
       "      <td>2</td>\n",
       "      <td>A/5. 851</td>\n",
       "      <td>14.500000</td>\n",
       "      <td>N/A</td>\n",
       "      <td>S</td>\n",
       "    </tr>\n",
       "    <tr>\n",
       "      <th>203</th>\n",
       "      <td>204</td>\n",
       "      <td>3</td>\n",
       "      <td>Youseff, Mr. Gerious</td>\n",
       "      <td>male</td>\n",
       "      <td>45.50</td>\n",
       "      <td>0</td>\n",
       "      <td>0</td>\n",
       "      <td>2628</td>\n",
       "      <td>7.225000</td>\n",
       "      <td>N/A</td>\n",
       "      <td>C</td>\n",
       "    </tr>\n",
       "    <tr>\n",
       "      <th>227</th>\n",
       "      <td>228</td>\n",
       "      <td>3</td>\n",
       "      <td>Lovell, Mr. John Hall (\"Henry\")</td>\n",
       "      <td>male</td>\n",
       "      <td>20.50</td>\n",
       "      <td>0</td>\n",
       "      <td>0</td>\n",
       "      <td>A/5 21173</td>\n",
       "      <td>7.250000</td>\n",
       "      <td>N/A</td>\n",
       "      <td>S</td>\n",
       "    </tr>\n",
       "    <tr>\n",
       "      <th>296</th>\n",
       "      <td>297</td>\n",
       "      <td>3</td>\n",
       "      <td>Hanna, Mr. Mansour</td>\n",
       "      <td>male</td>\n",
       "      <td>23.50</td>\n",
       "      <td>0</td>\n",
       "      <td>0</td>\n",
       "      <td>2693</td>\n",
       "      <td>7.229200</td>\n",
       "      <td>N/A</td>\n",
       "      <td>C</td>\n",
       "    </tr>\n",
       "    <tr>\n",
       "      <th>305</th>\n",
       "      <td>306</td>\n",
       "      <td>1</td>\n",
       "      <td>Allison, Master. Hudson Trevor</td>\n",
       "      <td>male</td>\n",
       "      <td>0.92</td>\n",
       "      <td>1</td>\n",
       "      <td>2</td>\n",
       "      <td>113781</td>\n",
       "      <td>151.550000</td>\n",
       "      <td>C22 C26</td>\n",
       "      <td>S</td>\n",
       "    </tr>\n",
       "    <tr>\n",
       "      <th>331</th>\n",
       "      <td>332</td>\n",
       "      <td>1</td>\n",
       "      <td>Partner, Mr. Austen</td>\n",
       "      <td>male</td>\n",
       "      <td>45.50</td>\n",
       "      <td>0</td>\n",
       "      <td>0</td>\n",
       "      <td>113043</td>\n",
       "      <td>28.500000</td>\n",
       "      <td>C124</td>\n",
       "      <td>S</td>\n",
       "    </tr>\n",
       "    <tr>\n",
       "      <th>469</th>\n",
       "      <td>470</td>\n",
       "      <td>3</td>\n",
       "      <td>Baclini, Miss. Helene Barbara</td>\n",
       "      <td>female</td>\n",
       "      <td>0.75</td>\n",
       "      <td>2</td>\n",
       "      <td>1</td>\n",
       "      <td>2666</td>\n",
       "      <td>19.258300</td>\n",
       "      <td>N/A</td>\n",
       "      <td>C</td>\n",
       "    </tr>\n",
       "    <tr>\n",
       "      <th>525</th>\n",
       "      <td>526</td>\n",
       "      <td>3</td>\n",
       "      <td>Farrell, Mr. James</td>\n",
       "      <td>male</td>\n",
       "      <td>40.50</td>\n",
       "      <td>0</td>\n",
       "      <td>0</td>\n",
       "      <td>367232</td>\n",
       "      <td>7.750000</td>\n",
       "      <td>N/A</td>\n",
       "      <td>Q</td>\n",
       "    </tr>\n",
       "    <tr>\n",
       "      <th>644</th>\n",
       "      <td>645</td>\n",
       "      <td>3</td>\n",
       "      <td>Baclini, Miss. Eugenie</td>\n",
       "      <td>female</td>\n",
       "      <td>0.75</td>\n",
       "      <td>2</td>\n",
       "      <td>1</td>\n",
       "      <td>2666</td>\n",
       "      <td>19.258300</td>\n",
       "      <td>N/A</td>\n",
       "      <td>C</td>\n",
       "    </tr>\n",
       "    <tr>\n",
       "      <th>676</th>\n",
       "      <td>677</td>\n",
       "      <td>3</td>\n",
       "      <td>Sawyer, Mr. Frederick Charles</td>\n",
       "      <td>male</td>\n",
       "      <td>24.50</td>\n",
       "      <td>0</td>\n",
       "      <td>0</td>\n",
       "      <td>342826</td>\n",
       "      <td>8.050000</td>\n",
       "      <td>N/A</td>\n",
       "      <td>S</td>\n",
       "    </tr>\n",
       "    <tr>\n",
       "      <th>735</th>\n",
       "      <td>736</td>\n",
       "      <td>3</td>\n",
       "      <td>Williams, Mr. Leslie</td>\n",
       "      <td>male</td>\n",
       "      <td>28.50</td>\n",
       "      <td>0</td>\n",
       "      <td>0</td>\n",
       "      <td>54636</td>\n",
       "      <td>16.100000</td>\n",
       "      <td>N/A</td>\n",
       "      <td>S</td>\n",
       "    </tr>\n",
       "    <tr>\n",
       "      <th>755</th>\n",
       "      <td>756</td>\n",
       "      <td>2</td>\n",
       "      <td>Hamalainen, Master. Viljo</td>\n",
       "      <td>male</td>\n",
       "      <td>0.67</td>\n",
       "      <td>1</td>\n",
       "      <td>1</td>\n",
       "      <td>250649</td>\n",
       "      <td>14.500000</td>\n",
       "      <td>N/A</td>\n",
       "      <td>S</td>\n",
       "    </tr>\n",
       "    <tr>\n",
       "      <th>767</th>\n",
       "      <td>768</td>\n",
       "      <td>3</td>\n",
       "      <td>Mangan, Miss. Mary</td>\n",
       "      <td>female</td>\n",
       "      <td>30.50</td>\n",
       "      <td>0</td>\n",
       "      <td>0</td>\n",
       "      <td>364850</td>\n",
       "      <td>7.750000</td>\n",
       "      <td>N/A</td>\n",
       "      <td>Q</td>\n",
       "    </tr>\n",
       "    <tr>\n",
       "      <th>803</th>\n",
       "      <td>804</td>\n",
       "      <td>3</td>\n",
       "      <td>Thomas, Master. Assad Alexander</td>\n",
       "      <td>male</td>\n",
       "      <td>0.42</td>\n",
       "      <td>0</td>\n",
       "      <td>1</td>\n",
       "      <td>2625</td>\n",
       "      <td>8.516700</td>\n",
       "      <td>N/A</td>\n",
       "      <td>C</td>\n",
       "    </tr>\n",
       "    <tr>\n",
       "      <th>814</th>\n",
       "      <td>815</td>\n",
       "      <td>3</td>\n",
       "      <td>Tomlin, Mr. Ernest Portage</td>\n",
       "      <td>male</td>\n",
       "      <td>30.50</td>\n",
       "      <td>0</td>\n",
       "      <td>0</td>\n",
       "      <td>364499</td>\n",
       "      <td>8.050000</td>\n",
       "      <td>N/A</td>\n",
       "      <td>S</td>\n",
       "    </tr>\n",
       "    <tr>\n",
       "      <th>831</th>\n",
       "      <td>832</td>\n",
       "      <td>2</td>\n",
       "      <td>Richards, Master. George Sibley</td>\n",
       "      <td>male</td>\n",
       "      <td>0.83</td>\n",
       "      <td>1</td>\n",
       "      <td>1</td>\n",
       "      <td>29106</td>\n",
       "      <td>18.750000</td>\n",
       "      <td>N/A</td>\n",
       "      <td>S</td>\n",
       "    </tr>\n",
       "    <tr>\n",
       "      <th>843</th>\n",
       "      <td>844</td>\n",
       "      <td>3</td>\n",
       "      <td>Lemberopolous, Mr. Peter L</td>\n",
       "      <td>male</td>\n",
       "      <td>34.50</td>\n",
       "      <td>0</td>\n",
       "      <td>0</td>\n",
       "      <td>2683</td>\n",
       "      <td>6.437500</td>\n",
       "      <td>N/A</td>\n",
       "      <td>C</td>\n",
       "    </tr>\n",
       "    <tr>\n",
       "      <th>891</th>\n",
       "      <td>892</td>\n",
       "      <td>3</td>\n",
       "      <td>Kelly, Mr. James</td>\n",
       "      <td>male</td>\n",
       "      <td>34.50</td>\n",
       "      <td>0</td>\n",
       "      <td>0</td>\n",
       "      <td>330911</td>\n",
       "      <td>7.829200</td>\n",
       "      <td>N/A</td>\n",
       "      <td>Q</td>\n",
       "    </tr>\n",
       "    <tr>\n",
       "      <th>918</th>\n",
       "      <td>919</td>\n",
       "      <td>3</td>\n",
       "      <td>Daher, Mr. Shedid</td>\n",
       "      <td>male</td>\n",
       "      <td>22.50</td>\n",
       "      <td>0</td>\n",
       "      <td>0</td>\n",
       "      <td>2698</td>\n",
       "      <td>7.225000</td>\n",
       "      <td>N/A</td>\n",
       "      <td>C</td>\n",
       "    </tr>\n",
       "    <tr>\n",
       "      <th>926</th>\n",
       "      <td>927</td>\n",
       "      <td>3</td>\n",
       "      <td>Katavelas, Mr. Vassilios (Catavelas Vassilios\")\"</td>\n",
       "      <td>male</td>\n",
       "      <td>18.50</td>\n",
       "      <td>0</td>\n",
       "      <td>0</td>\n",
       "      <td>2682</td>\n",
       "      <td>7.229200</td>\n",
       "      <td>N/A</td>\n",
       "      <td>C</td>\n",
       "    </tr>\n",
       "    <tr>\n",
       "      <th>964</th>\n",
       "      <td>965</td>\n",
       "      <td>1</td>\n",
       "      <td>Ovies y Rodriguez, Mr. Servando</td>\n",
       "      <td>male</td>\n",
       "      <td>28.50</td>\n",
       "      <td>0</td>\n",
       "      <td>0</td>\n",
       "      <td>PC 17562</td>\n",
       "      <td>27.720800</td>\n",
       "      <td>D43</td>\n",
       "      <td>C</td>\n",
       "    </tr>\n",
       "    <tr>\n",
       "      <th>966</th>\n",
       "      <td>967</td>\n",
       "      <td>1</td>\n",
       "      <td>Keeping, Mr. Edwin</td>\n",
       "      <td>male</td>\n",
       "      <td>32.50</td>\n",
       "      <td>0</td>\n",
       "      <td>0</td>\n",
       "      <td>113503</td>\n",
       "      <td>211.500000</td>\n",
       "      <td>C132</td>\n",
       "      <td>C</td>\n",
       "    </tr>\n",
       "    <tr>\n",
       "      <th>1000</th>\n",
       "      <td>1001</td>\n",
       "      <td>2</td>\n",
       "      <td>Swane, Mr. George</td>\n",
       "      <td>male</td>\n",
       "      <td>18.50</td>\n",
       "      <td>0</td>\n",
       "      <td>0</td>\n",
       "      <td>248734</td>\n",
       "      <td>13.000000</td>\n",
       "      <td>F</td>\n",
       "      <td>S</td>\n",
       "    </tr>\n",
       "    <tr>\n",
       "      <th>1004</th>\n",
       "      <td>1005</td>\n",
       "      <td>3</td>\n",
       "      <td>Buckley, Miss. Katherine</td>\n",
       "      <td>female</td>\n",
       "      <td>18.50</td>\n",
       "      <td>0</td>\n",
       "      <td>0</td>\n",
       "      <td>329944</td>\n",
       "      <td>7.283300</td>\n",
       "      <td>N/A</td>\n",
       "      <td>Q</td>\n",
       "    </tr>\n",
       "    <tr>\n",
       "      <th>1027</th>\n",
       "      <td>1028</td>\n",
       "      <td>3</td>\n",
       "      <td>Zakarian, Mr. Mapriededer</td>\n",
       "      <td>male</td>\n",
       "      <td>26.50</td>\n",
       "      <td>0</td>\n",
       "      <td>0</td>\n",
       "      <td>2656</td>\n",
       "      <td>7.225000</td>\n",
       "      <td>N/A</td>\n",
       "      <td>C</td>\n",
       "    </tr>\n",
       "    <tr>\n",
       "      <th>1043</th>\n",
       "      <td>1044</td>\n",
       "      <td>3</td>\n",
       "      <td>Storey, Mr. Thomas</td>\n",
       "      <td>male</td>\n",
       "      <td>60.50</td>\n",
       "      <td>0</td>\n",
       "      <td>0</td>\n",
       "      <td>3701</td>\n",
       "      <td>33.295479</td>\n",
       "      <td>N/A</td>\n",
       "      <td>S</td>\n",
       "    </tr>\n",
       "    <tr>\n",
       "      <th>1083</th>\n",
       "      <td>1084</td>\n",
       "      <td>3</td>\n",
       "      <td>van Billiard, Master. Walter John</td>\n",
       "      <td>male</td>\n",
       "      <td>11.50</td>\n",
       "      <td>1</td>\n",
       "      <td>1</td>\n",
       "      <td>A/5. 851</td>\n",
       "      <td>14.500000</td>\n",
       "      <td>N/A</td>\n",
       "      <td>S</td>\n",
       "    </tr>\n",
       "    <tr>\n",
       "      <th>1092</th>\n",
       "      <td>1093</td>\n",
       "      <td>3</td>\n",
       "      <td>Danbom, Master. Gilbert Sigvard Emanuel</td>\n",
       "      <td>male</td>\n",
       "      <td>0.33</td>\n",
       "      <td>0</td>\n",
       "      <td>2</td>\n",
       "      <td>347080</td>\n",
       "      <td>14.400000</td>\n",
       "      <td>N/A</td>\n",
       "      <td>S</td>\n",
       "    </tr>\n",
       "    <tr>\n",
       "      <th>1119</th>\n",
       "      <td>1120</td>\n",
       "      <td>3</td>\n",
       "      <td>Everett, Mr. Thomas James</td>\n",
       "      <td>male</td>\n",
       "      <td>40.50</td>\n",
       "      <td>0</td>\n",
       "      <td>0</td>\n",
       "      <td>C.A. 6212</td>\n",
       "      <td>15.100000</td>\n",
       "      <td>N/A</td>\n",
       "      <td>S</td>\n",
       "    </tr>\n",
       "    <tr>\n",
       "      <th>1141</th>\n",
       "      <td>1142</td>\n",
       "      <td>2</td>\n",
       "      <td>West, Miss. Barbara J</td>\n",
       "      <td>female</td>\n",
       "      <td>0.92</td>\n",
       "      <td>1</td>\n",
       "      <td>2</td>\n",
       "      <td>C.A. 34651</td>\n",
       "      <td>27.750000</td>\n",
       "      <td>N/A</td>\n",
       "      <td>S</td>\n",
       "    </tr>\n",
       "    <tr>\n",
       "      <th>1145</th>\n",
       "      <td>1146</td>\n",
       "      <td>3</td>\n",
       "      <td>Wenzel, Mr. Linhart</td>\n",
       "      <td>male</td>\n",
       "      <td>32.50</td>\n",
       "      <td>0</td>\n",
       "      <td>0</td>\n",
       "      <td>345775</td>\n",
       "      <td>9.500000</td>\n",
       "      <td>N/A</td>\n",
       "      <td>S</td>\n",
       "    </tr>\n",
       "    <tr>\n",
       "      <th>1151</th>\n",
       "      <td>1152</td>\n",
       "      <td>3</td>\n",
       "      <td>de Messemaeker, Mr. Guillaume Joseph</td>\n",
       "      <td>male</td>\n",
       "      <td>36.50</td>\n",
       "      <td>1</td>\n",
       "      <td>0</td>\n",
       "      <td>345572</td>\n",
       "      <td>17.400000</td>\n",
       "      <td>N/A</td>\n",
       "      <td>S</td>\n",
       "    </tr>\n",
       "    <tr>\n",
       "      <th>1172</th>\n",
       "      <td>1173</td>\n",
       "      <td>3</td>\n",
       "      <td>Peacock, Master. Alfred Edward</td>\n",
       "      <td>male</td>\n",
       "      <td>0.75</td>\n",
       "      <td>1</td>\n",
       "      <td>1</td>\n",
       "      <td>SOTON/O.Q. 3101315</td>\n",
       "      <td>13.775000</td>\n",
       "      <td>N/A</td>\n",
       "      <td>S</td>\n",
       "    </tr>\n",
       "    <tr>\n",
       "      <th>1198</th>\n",
       "      <td>1199</td>\n",
       "      <td>3</td>\n",
       "      <td>Aks, Master. Philip Frank</td>\n",
       "      <td>male</td>\n",
       "      <td>0.83</td>\n",
       "      <td>0</td>\n",
       "      <td>1</td>\n",
       "      <td>392091</td>\n",
       "      <td>9.350000</td>\n",
       "      <td>N/A</td>\n",
       "      <td>S</td>\n",
       "    </tr>\n",
       "    <tr>\n",
       "      <th>1245</th>\n",
       "      <td>1246</td>\n",
       "      <td>3</td>\n",
       "      <td>Dean, Miss. Elizabeth Gladys Millvina\"\"</td>\n",
       "      <td>female</td>\n",
       "      <td>0.17</td>\n",
       "      <td>1</td>\n",
       "      <td>2</td>\n",
       "      <td>C.A. 2315</td>\n",
       "      <td>20.575000</td>\n",
       "      <td>N/A</td>\n",
       "      <td>S</td>\n",
       "    </tr>\n",
       "    <tr>\n",
       "      <th>1251</th>\n",
       "      <td>1252</td>\n",
       "      <td>3</td>\n",
       "      <td>Sage, Master. William Henry</td>\n",
       "      <td>male</td>\n",
       "      <td>14.50</td>\n",
       "      <td>8</td>\n",
       "      <td>2</td>\n",
       "      <td>CA. 2343</td>\n",
       "      <td>69.550000</td>\n",
       "      <td>N/A</td>\n",
       "      <td>S</td>\n",
       "    </tr>\n",
       "    <tr>\n",
       "      <th>1306</th>\n",
       "      <td>1307</td>\n",
       "      <td>3</td>\n",
       "      <td>Saether, Mr. Simon Sivertsen</td>\n",
       "      <td>male</td>\n",
       "      <td>38.50</td>\n",
       "      <td>0</td>\n",
       "      <td>0</td>\n",
       "      <td>SOTON/O.Q. 3101262</td>\n",
       "      <td>7.250000</td>\n",
       "      <td>N/A</td>\n",
       "      <td>S</td>\n",
       "    </tr>\n",
       "  </tbody>\n",
       "</table>\n",
       "</div>"
      ],
      "text/plain": [
       "      PassengerId  Pclass                                              Name  \\\n",
       "57             58       3                               Novel, Mr. Mansouer   \n",
       "78             79       2                     Caldwell, Master. Alden Gates   \n",
       "111           112       3                              Zabour, Miss. Hileni   \n",
       "116           117       3                              Connors, Mr. Patrick   \n",
       "122           123       2                              Nasser, Mr. Nicholas   \n",
       "123           124       2                               Webber, Miss. Susan   \n",
       "148           149       2          Navratil, Mr. Michel (\"Louis M Hoffman\")   \n",
       "152           153       3                                  Meo, Mr. Alfonzo   \n",
       "153           154       3                   van Billiard, Mr. Austin Blyler   \n",
       "203           204       3                              Youseff, Mr. Gerious   \n",
       "227           228       3                   Lovell, Mr. John Hall (\"Henry\")   \n",
       "296           297       3                                Hanna, Mr. Mansour   \n",
       "305           306       1                    Allison, Master. Hudson Trevor   \n",
       "331           332       1                               Partner, Mr. Austen   \n",
       "469           470       3                     Baclini, Miss. Helene Barbara   \n",
       "525           526       3                                Farrell, Mr. James   \n",
       "644           645       3                            Baclini, Miss. Eugenie   \n",
       "676           677       3                     Sawyer, Mr. Frederick Charles   \n",
       "735           736       3                              Williams, Mr. Leslie   \n",
       "755           756       2                         Hamalainen, Master. Viljo   \n",
       "767           768       3                                Mangan, Miss. Mary   \n",
       "803           804       3                   Thomas, Master. Assad Alexander   \n",
       "814           815       3                        Tomlin, Mr. Ernest Portage   \n",
       "831           832       2                   Richards, Master. George Sibley   \n",
       "843           844       3                        Lemberopolous, Mr. Peter L   \n",
       "891           892       3                                  Kelly, Mr. James   \n",
       "918           919       3                                 Daher, Mr. Shedid   \n",
       "926           927       3  Katavelas, Mr. Vassilios (Catavelas Vassilios\")\"   \n",
       "964           965       1                   Ovies y Rodriguez, Mr. Servando   \n",
       "966           967       1                                Keeping, Mr. Edwin   \n",
       "1000         1001       2                                 Swane, Mr. George   \n",
       "1004         1005       3                          Buckley, Miss. Katherine   \n",
       "1027         1028       3                         Zakarian, Mr. Mapriededer   \n",
       "1043         1044       3                                Storey, Mr. Thomas   \n",
       "1083         1084       3                 van Billiard, Master. Walter John   \n",
       "1092         1093       3           Danbom, Master. Gilbert Sigvard Emanuel   \n",
       "1119         1120       3                         Everett, Mr. Thomas James   \n",
       "1141         1142       2                             West, Miss. Barbara J   \n",
       "1145         1146       3                               Wenzel, Mr. Linhart   \n",
       "1151         1152       3              de Messemaeker, Mr. Guillaume Joseph   \n",
       "1172         1173       3                    Peacock, Master. Alfred Edward   \n",
       "1198         1199       3                         Aks, Master. Philip Frank   \n",
       "1245         1246       3           Dean, Miss. Elizabeth Gladys Millvina\"\"   \n",
       "1251         1252       3                       Sage, Master. William Henry   \n",
       "1306         1307       3                      Saether, Mr. Simon Sivertsen   \n",
       "\n",
       "         Sex    Age  SibSp  Parch              Ticket        Fare    Cabin  \\\n",
       "57      male  28.50      0      0                2697    7.229200      N/A   \n",
       "78      male   0.83      0      2              248738   29.000000      N/A   \n",
       "111   female  14.50      1      0                2665   14.454200      N/A   \n",
       "116     male  70.50      0      0              370369    7.750000      N/A   \n",
       "122     male  32.50      1      0              237736   30.070800      N/A   \n",
       "123   female  32.50      0      0               27267   13.000000     E101   \n",
       "148     male  36.50      0      2              230080   26.000000       F2   \n",
       "152     male  55.50      0      0          A.5. 11206    8.050000      N/A   \n",
       "153     male  40.50      0      2            A/5. 851   14.500000      N/A   \n",
       "203     male  45.50      0      0                2628    7.225000      N/A   \n",
       "227     male  20.50      0      0           A/5 21173    7.250000      N/A   \n",
       "296     male  23.50      0      0                2693    7.229200      N/A   \n",
       "305     male   0.92      1      2              113781  151.550000  C22 C26   \n",
       "331     male  45.50      0      0              113043   28.500000     C124   \n",
       "469   female   0.75      2      1                2666   19.258300      N/A   \n",
       "525     male  40.50      0      0              367232    7.750000      N/A   \n",
       "644   female   0.75      2      1                2666   19.258300      N/A   \n",
       "676     male  24.50      0      0              342826    8.050000      N/A   \n",
       "735     male  28.50      0      0               54636   16.100000      N/A   \n",
       "755     male   0.67      1      1              250649   14.500000      N/A   \n",
       "767   female  30.50      0      0              364850    7.750000      N/A   \n",
       "803     male   0.42      0      1                2625    8.516700      N/A   \n",
       "814     male  30.50      0      0              364499    8.050000      N/A   \n",
       "831     male   0.83      1      1               29106   18.750000      N/A   \n",
       "843     male  34.50      0      0                2683    6.437500      N/A   \n",
       "891     male  34.50      0      0              330911    7.829200      N/A   \n",
       "918     male  22.50      0      0                2698    7.225000      N/A   \n",
       "926     male  18.50      0      0                2682    7.229200      N/A   \n",
       "964     male  28.50      0      0            PC 17562   27.720800      D43   \n",
       "966     male  32.50      0      0              113503  211.500000     C132   \n",
       "1000    male  18.50      0      0              248734   13.000000        F   \n",
       "1004  female  18.50      0      0              329944    7.283300      N/A   \n",
       "1027    male  26.50      0      0                2656    7.225000      N/A   \n",
       "1043    male  60.50      0      0                3701   33.295479      N/A   \n",
       "1083    male  11.50      1      1            A/5. 851   14.500000      N/A   \n",
       "1092    male   0.33      0      2              347080   14.400000      N/A   \n",
       "1119    male  40.50      0      0           C.A. 6212   15.100000      N/A   \n",
       "1141  female   0.92      1      2          C.A. 34651   27.750000      N/A   \n",
       "1145    male  32.50      0      0              345775    9.500000      N/A   \n",
       "1151    male  36.50      1      0              345572   17.400000      N/A   \n",
       "1172    male   0.75      1      1  SOTON/O.Q. 3101315   13.775000      N/A   \n",
       "1198    male   0.83      0      1              392091    9.350000      N/A   \n",
       "1245  female   0.17      1      2           C.A. 2315   20.575000      N/A   \n",
       "1251    male  14.50      8      2            CA. 2343   69.550000      N/A   \n",
       "1306    male  38.50      0      0  SOTON/O.Q. 3101262    7.250000      N/A   \n",
       "\n",
       "     Embarked  \n",
       "57          C  \n",
       "78          S  \n",
       "111         C  \n",
       "116         Q  \n",
       "122         C  \n",
       "123         S  \n",
       "148         S  \n",
       "152         S  \n",
       "153         S  \n",
       "203         C  \n",
       "227         S  \n",
       "296         C  \n",
       "305         S  \n",
       "331         S  \n",
       "469         C  \n",
       "525         Q  \n",
       "644         C  \n",
       "676         S  \n",
       "735         S  \n",
       "755         S  \n",
       "767         Q  \n",
       "803         C  \n",
       "814         S  \n",
       "831         S  \n",
       "843         C  \n",
       "891         Q  \n",
       "918         C  \n",
       "926         C  \n",
       "964         C  \n",
       "966         C  \n",
       "1000        S  \n",
       "1004        Q  \n",
       "1027        C  \n",
       "1043        S  \n",
       "1083        S  \n",
       "1092        S  \n",
       "1119        S  \n",
       "1141        S  \n",
       "1145        S  \n",
       "1151        S  \n",
       "1172        S  \n",
       "1198        S  \n",
       "1245        S  \n",
       "1251        S  \n",
       "1306        S  "
      ]
     },
     "execution_count": 18,
     "metadata": {},
     "output_type": "execute_result"
    }
   ],
   "source": [
    "age_anom_check = merged_data.query(\"Age % 1 != 0\")\n",
    "print(\"Number of Age anomalous cases:\", len(age_anom_check))\n",
    "age_anom_check\n"
   ]
  },
  {
   "cell_type": "markdown",
   "id": "6f9a44e9",
   "metadata": {
    "papermill": {
     "duration": 0.025037,
     "end_time": "2022-08-20T14:25:30.341234",
     "exception": false,
     "start_time": "2022-08-20T14:25:30.316197",
     "status": "completed"
    },
    "tags": []
   },
   "source": [
    "Observation: \n",
    "* Age can't have decimal values\n",
    "* Some cases include age as 0.33 or 0.75 which are assumed to be incorrect data"
   ]
  },
  {
   "cell_type": "markdown",
   "id": "681846cf",
   "metadata": {
    "papermill": {
     "duration": 0.024813,
     "end_time": "2022-08-20T14:25:30.391204",
     "exception": false,
     "start_time": "2022-08-20T14:25:30.366391",
     "status": "completed"
    },
    "tags": []
   },
   "source": [
    "Assumptions:\n",
    "* Case such as 0.33 or 0.75 are actually 33 or 75 respectively\n",
    "* Rest all will be rounded to the nearest whole number"
   ]
  },
  {
   "cell_type": "markdown",
   "id": "9484493f",
   "metadata": {
    "papermill": {
     "duration": 0.024735,
     "end_time": "2022-08-20T14:25:30.441630",
     "exception": false,
     "start_time": "2022-08-20T14:25:30.416895",
     "status": "completed"
    },
    "tags": []
   },
   "source": [
    "### **Step - 2.2 :** Anomaly Treatment - Age"
   ]
  },
  {
   "cell_type": "code",
   "execution_count": 19,
   "id": "694ef243",
   "metadata": {
    "execution": {
     "iopub.execute_input": "2022-08-20T14:25:30.493748Z",
     "iopub.status.busy": "2022-08-20T14:25:30.493090Z",
     "iopub.status.idle": "2022-08-20T14:25:30.512368Z",
     "shell.execute_reply": "2022-08-20T14:25:30.511712Z"
    },
    "papermill": {
     "duration": 0.047815,
     "end_time": "2022-08-20T14:25:30.514450",
     "exception": false,
     "start_time": "2022-08-20T14:25:30.466635",
     "status": "completed"
    },
    "tags": []
   },
   "outputs": [
    {
     "data": {
      "text/html": [
       "<div>\n",
       "<style scoped>\n",
       "    .dataframe tbody tr th:only-of-type {\n",
       "        vertical-align: middle;\n",
       "    }\n",
       "\n",
       "    .dataframe tbody tr th {\n",
       "        vertical-align: top;\n",
       "    }\n",
       "\n",
       "    .dataframe thead th {\n",
       "        text-align: right;\n",
       "    }\n",
       "</style>\n",
       "<table border=\"1\" class=\"dataframe\">\n",
       "  <thead>\n",
       "    <tr style=\"text-align: right;\">\n",
       "      <th></th>\n",
       "      <th>PassengerId</th>\n",
       "      <th>Pclass</th>\n",
       "      <th>Name</th>\n",
       "      <th>Age_mod</th>\n",
       "      <th>Sex</th>\n",
       "      <th>Age</th>\n",
       "      <th>SibSp</th>\n",
       "      <th>Parch</th>\n",
       "      <th>Ticket</th>\n",
       "      <th>Fare</th>\n",
       "      <th>Cabin</th>\n",
       "      <th>Embarked</th>\n",
       "    </tr>\n",
       "  </thead>\n",
       "  <tbody>\n",
       "    <tr>\n",
       "      <th>0</th>\n",
       "      <td>1</td>\n",
       "      <td>3</td>\n",
       "      <td>Braund, Mr. Owen Harris</td>\n",
       "      <td>22</td>\n",
       "      <td>male</td>\n",
       "      <td>22.0</td>\n",
       "      <td>1</td>\n",
       "      <td>0</td>\n",
       "      <td>A/5 21171</td>\n",
       "      <td>7.2500</td>\n",
       "      <td>N/A</td>\n",
       "      <td>S</td>\n",
       "    </tr>\n",
       "    <tr>\n",
       "      <th>1</th>\n",
       "      <td>2</td>\n",
       "      <td>1</td>\n",
       "      <td>Cumings, Mrs. John Bradley (Florence Briggs Th...</td>\n",
       "      <td>38</td>\n",
       "      <td>female</td>\n",
       "      <td>38.0</td>\n",
       "      <td>1</td>\n",
       "      <td>0</td>\n",
       "      <td>PC 17599</td>\n",
       "      <td>71.2833</td>\n",
       "      <td>C85</td>\n",
       "      <td>C</td>\n",
       "    </tr>\n",
       "    <tr>\n",
       "      <th>2</th>\n",
       "      <td>3</td>\n",
       "      <td>3</td>\n",
       "      <td>Heikkinen, Miss. Laina</td>\n",
       "      <td>26</td>\n",
       "      <td>female</td>\n",
       "      <td>26.0</td>\n",
       "      <td>0</td>\n",
       "      <td>0</td>\n",
       "      <td>STON/O2. 3101282</td>\n",
       "      <td>7.9250</td>\n",
       "      <td>N/A</td>\n",
       "      <td>S</td>\n",
       "    </tr>\n",
       "    <tr>\n",
       "      <th>3</th>\n",
       "      <td>4</td>\n",
       "      <td>1</td>\n",
       "      <td>Futrelle, Mrs. Jacques Heath (Lily May Peel)</td>\n",
       "      <td>35</td>\n",
       "      <td>female</td>\n",
       "      <td>35.0</td>\n",
       "      <td>1</td>\n",
       "      <td>0</td>\n",
       "      <td>113803</td>\n",
       "      <td>53.1000</td>\n",
       "      <td>C123</td>\n",
       "      <td>S</td>\n",
       "    </tr>\n",
       "    <tr>\n",
       "      <th>4</th>\n",
       "      <td>5</td>\n",
       "      <td>3</td>\n",
       "      <td>Allen, Mr. William Henry</td>\n",
       "      <td>35</td>\n",
       "      <td>male</td>\n",
       "      <td>35.0</td>\n",
       "      <td>0</td>\n",
       "      <td>0</td>\n",
       "      <td>373450</td>\n",
       "      <td>8.0500</td>\n",
       "      <td>N/A</td>\n",
       "      <td>S</td>\n",
       "    </tr>\n",
       "  </tbody>\n",
       "</table>\n",
       "</div>"
      ],
      "text/plain": [
       "   PassengerId  Pclass                                               Name  \\\n",
       "0            1       3                            Braund, Mr. Owen Harris   \n",
       "1            2       1  Cumings, Mrs. John Bradley (Florence Briggs Th...   \n",
       "2            3       3                             Heikkinen, Miss. Laina   \n",
       "3            4       1       Futrelle, Mrs. Jacques Heath (Lily May Peel)   \n",
       "4            5       3                           Allen, Mr. William Henry   \n",
       "\n",
       "   Age_mod     Sex   Age  SibSp  Parch            Ticket     Fare Cabin  \\\n",
       "0       22    male  22.0      1      0         A/5 21171   7.2500   N/A   \n",
       "1       38  female  38.0      1      0          PC 17599  71.2833   C85   \n",
       "2       26  female  26.0      0      0  STON/O2. 3101282   7.9250   N/A   \n",
       "3       35  female  35.0      1      0            113803  53.1000  C123   \n",
       "4       35    male  35.0      0      0            373450   8.0500   N/A   \n",
       "\n",
       "  Embarked  \n",
       "0        S  \n",
       "1        C  \n",
       "2        S  \n",
       "3        S  \n",
       "4        S  "
      ]
     },
     "execution_count": 19,
     "metadata": {},
     "output_type": "execute_result"
    }
   ],
   "source": [
    "def age_treatment(Age): # Creating a user-defined function for treating Age\n",
    "    Age_mod = [] # Array declartion\n",
    "    if Age < 1: \n",
    "        Age_mod = str(Age).split('.')[1] # Considering values after decimal poiint\n",
    "        Age_mod = int(Age_mod) # Converting to int type\n",
    "    else:\n",
    "        Age_mod = int(Age) # Converting to int type\n",
    "\n",
    "    return Age_mod\n",
    "\n",
    "\n",
    "age_manipulated = [age_treatment(Age) for Age in merged_data.Age] # Function call\n",
    "age_manipulated\n",
    "\n",
    "value = merged_data # Cloning merged_data to avoid data tampering\n",
    "\n",
    "value.insert(3, \"Age_mod\", age_manipulated) # Adding new column in data-set\n",
    "value.head()"
   ]
  },
  {
   "cell_type": "markdown",
   "id": "2e8fb1f0",
   "metadata": {
    "papermill": {
     "duration": 0.02535,
     "end_time": "2022-08-20T14:25:30.565124",
     "exception": false,
     "start_time": "2022-08-20T14:25:30.539774",
     "status": "completed"
    },
    "tags": []
   },
   "source": [
    "**Note:** New Column ('Age_mod') got created"
   ]
  },
  {
   "cell_type": "code",
   "execution_count": 20,
   "id": "db6829e5",
   "metadata": {
    "execution": {
     "iopub.execute_input": "2022-08-20T14:25:30.617847Z",
     "iopub.status.busy": "2022-08-20T14:25:30.617303Z",
     "iopub.status.idle": "2022-08-20T14:25:30.631855Z",
     "shell.execute_reply": "2022-08-20T14:25:30.630094Z"
    },
    "papermill": {
     "duration": 0.043332,
     "end_time": "2022-08-20T14:25:30.634278",
     "exception": false,
     "start_time": "2022-08-20T14:25:30.590946",
     "status": "completed"
    },
    "tags": []
   },
   "outputs": [
    {
     "name": "stdout",
     "output_type": "stream",
     "text": [
      "<class 'pandas.core.frame.DataFrame'>\n",
      "RangeIndex: 1309 entries, 0 to 1308\n",
      "Data columns (total 12 columns):\n",
      " #   Column       Non-Null Count  Dtype  \n",
      "---  ------       --------------  -----  \n",
      " 0   PassengerId  1309 non-null   int64  \n",
      " 1   Pclass       1309 non-null   int64  \n",
      " 2   Name         1309 non-null   object \n",
      " 3   Age_mod      1309 non-null   int64  \n",
      " 4   Sex          1309 non-null   object \n",
      " 5   Age          1309 non-null   float64\n",
      " 6   SibSp        1309 non-null   int64  \n",
      " 7   Parch        1309 non-null   int64  \n",
      " 8   Ticket       1309 non-null   object \n",
      " 9   Fare         1309 non-null   float64\n",
      " 10  Cabin        1309 non-null   object \n",
      " 11  Embarked     1309 non-null   object \n",
      "dtypes: float64(2), int64(5), object(5)\n",
      "memory usage: 122.8+ KB\n"
     ]
    }
   ],
   "source": [
    "value.info() # Validating data type of newly created column"
   ]
  },
  {
   "cell_type": "code",
   "execution_count": 21,
   "id": "c45a9932",
   "metadata": {
    "execution": {
     "iopub.execute_input": "2022-08-20T14:25:30.688365Z",
     "iopub.status.busy": "2022-08-20T14:25:30.687939Z",
     "iopub.status.idle": "2022-08-20T14:25:30.697159Z",
     "shell.execute_reply": "2022-08-20T14:25:30.696141Z"
    },
    "papermill": {
     "duration": 0.03893,
     "end_time": "2022-08-20T14:25:30.699237",
     "exception": false,
     "start_time": "2022-08-20T14:25:30.660307",
     "status": "completed"
    },
    "tags": []
   },
   "outputs": [
    {
     "name": "stdout",
     "output_type": "stream",
     "text": [
      "Number of Age anomalous cases: 45\n"
     ]
    }
   ],
   "source": [
    "age_anom_valid = value.query(\"Age % 1 != 0\") # Checking Age with decimal points\n",
    "print(\"Number of Age anomalous cases:\", len(age_anom_valid))\n"
   ]
  },
  {
   "cell_type": "code",
   "execution_count": 22,
   "id": "e29d6791",
   "metadata": {
    "execution": {
     "iopub.execute_input": "2022-08-20T14:25:30.752844Z",
     "iopub.status.busy": "2022-08-20T14:25:30.752414Z",
     "iopub.status.idle": "2022-08-20T14:25:30.761898Z",
     "shell.execute_reply": "2022-08-20T14:25:30.760603Z"
    },
    "papermill": {
     "duration": 0.038929,
     "end_time": "2022-08-20T14:25:30.764020",
     "exception": false,
     "start_time": "2022-08-20T14:25:30.725091",
     "status": "completed"
    },
    "tags": []
   },
   "outputs": [
    {
     "name": "stdout",
     "output_type": "stream",
     "text": [
      "Number of anomalous age data points =  0\n"
     ]
    }
   ],
   "source": [
    "age_validation = value.query(\"Age_mod % 1 != 0\")\n",
    "print(\"Number of anomalous age data points = \", len(age_validation))"
   ]
  },
  {
   "cell_type": "markdown",
   "id": "16c14b10",
   "metadata": {
    "papermill": {
     "duration": 0.025961,
     "end_time": "2022-08-20T14:25:30.815664",
     "exception": false,
     "start_time": "2022-08-20T14:25:30.789703",
     "status": "completed"
    },
    "tags": []
   },
   "source": [
    "**QC :** Validating implementation of Age_mod column. Result : **Passed**"
   ]
  },
  {
   "cell_type": "markdown",
   "id": "dbcd6f35",
   "metadata": {
    "papermill": {
     "duration": 0.025149,
     "end_time": "2022-08-20T14:25:30.866721",
     "exception": false,
     "start_time": "2022-08-20T14:25:30.841572",
     "status": "completed"
    },
    "tags": []
   },
   "source": [
    "## Step - 3 : Analytic Data Set Creation "
   ]
  },
  {
   "cell_type": "markdown",
   "id": "225d4fed",
   "metadata": {
    "papermill": {
     "duration": 0.025429,
     "end_time": "2022-08-20T14:25:30.918596",
     "exception": false,
     "start_time": "2022-08-20T14:25:30.893167",
     "status": "completed"
    },
    "tags": []
   },
   "source": [
    "### **Step - 3.1 :** Creating master dataset"
   ]
  },
  {
   "cell_type": "code",
   "execution_count": 23,
   "id": "9202bed3",
   "metadata": {
    "execution": {
     "iopub.execute_input": "2022-08-20T14:25:30.972261Z",
     "iopub.status.busy": "2022-08-20T14:25:30.971646Z",
     "iopub.status.idle": "2022-08-20T14:25:30.986137Z",
     "shell.execute_reply": "2022-08-20T14:25:30.984754Z"
    },
    "papermill": {
     "duration": 0.044346,
     "end_time": "2022-08-20T14:25:30.988464",
     "exception": false,
     "start_time": "2022-08-20T14:25:30.944118",
     "status": "completed"
    },
    "tags": []
   },
   "outputs": [
    {
     "name": "stdout",
     "output_type": "stream",
     "text": [
      "<class 'pandas.core.frame.DataFrame'>\n",
      "RangeIndex: 1309 entries, 0 to 1308\n",
      "Data columns (total 11 columns):\n",
      " #   Column       Non-Null Count  Dtype  \n",
      "---  ------       --------------  -----  \n",
      " 0   PassengerId  1309 non-null   int64  \n",
      " 1   Pclass       1309 non-null   int64  \n",
      " 2   Name         1309 non-null   object \n",
      " 3   Age          1309 non-null   int64  \n",
      " 4   Sex          1309 non-null   object \n",
      " 5   SibSp        1309 non-null   int64  \n",
      " 6   Parch        1309 non-null   int64  \n",
      " 7   Ticket       1309 non-null   object \n",
      " 8   Fare         1309 non-null   float64\n",
      " 9   Cabin        1309 non-null   object \n",
      " 10  Embarked     1309 non-null   object \n",
      "dtypes: float64(1), int64(5), object(5)\n",
      "memory usage: 112.6+ KB\n"
     ]
    }
   ],
   "source": [
    "titan_ads = value.drop([\"Age\"], axis = 1)\n",
    "titan_ads.rename(columns={'Age_mod': 'Age'}, inplace=True)\n",
    "titan_ads.info()"
   ]
  },
  {
   "cell_type": "markdown",
   "id": "e92c32f7",
   "metadata": {
    "papermill": {
     "duration": 0.025627,
     "end_time": "2022-08-20T14:25:31.040350",
     "exception": false,
     "start_time": "2022-08-20T14:25:31.014723",
     "status": "completed"
    },
    "tags": []
   },
   "source": [
    "### **Step - 3.2 :** Treated Train dataset"
   ]
  },
  {
   "cell_type": "code",
   "execution_count": 24,
   "id": "d1a3f6f0",
   "metadata": {
    "execution": {
     "iopub.execute_input": "2022-08-20T14:25:31.095767Z",
     "iopub.status.busy": "2022-08-20T14:25:31.095307Z",
     "iopub.status.idle": "2022-08-20T14:25:31.117081Z",
     "shell.execute_reply": "2022-08-20T14:25:31.115939Z"
    },
    "papermill": {
     "duration": 0.052744,
     "end_time": "2022-08-20T14:25:31.119638",
     "exception": false,
     "start_time": "2022-08-20T14:25:31.066894",
     "status": "completed"
    },
    "tags": []
   },
   "outputs": [
    {
     "data": {
      "text/html": [
       "<div>\n",
       "<style scoped>\n",
       "    .dataframe tbody tr th:only-of-type {\n",
       "        vertical-align: middle;\n",
       "    }\n",
       "\n",
       "    .dataframe tbody tr th {\n",
       "        vertical-align: top;\n",
       "    }\n",
       "\n",
       "    .dataframe thead th {\n",
       "        text-align: right;\n",
       "    }\n",
       "</style>\n",
       "<table border=\"1\" class=\"dataframe\">\n",
       "  <thead>\n",
       "    <tr style=\"text-align: right;\">\n",
       "      <th></th>\n",
       "      <th>PassengerId</th>\n",
       "      <th>Pclass</th>\n",
       "      <th>Name</th>\n",
       "      <th>Age</th>\n",
       "      <th>Sex</th>\n",
       "      <th>SibSp</th>\n",
       "      <th>Parch</th>\n",
       "      <th>Ticket</th>\n",
       "      <th>Fare</th>\n",
       "      <th>Cabin</th>\n",
       "      <th>Embarked</th>\n",
       "      <th>Survived</th>\n",
       "    </tr>\n",
       "  </thead>\n",
       "  <tbody>\n",
       "    <tr>\n",
       "      <th>886</th>\n",
       "      <td>887</td>\n",
       "      <td>2</td>\n",
       "      <td>Montvila, Rev. Juozas</td>\n",
       "      <td>27</td>\n",
       "      <td>male</td>\n",
       "      <td>0</td>\n",
       "      <td>0</td>\n",
       "      <td>211536</td>\n",
       "      <td>13.00</td>\n",
       "      <td>N/A</td>\n",
       "      <td>S</td>\n",
       "      <td>0</td>\n",
       "    </tr>\n",
       "    <tr>\n",
       "      <th>887</th>\n",
       "      <td>888</td>\n",
       "      <td>1</td>\n",
       "      <td>Graham, Miss. Margaret Edith</td>\n",
       "      <td>19</td>\n",
       "      <td>female</td>\n",
       "      <td>0</td>\n",
       "      <td>0</td>\n",
       "      <td>112053</td>\n",
       "      <td>30.00</td>\n",
       "      <td>B42</td>\n",
       "      <td>S</td>\n",
       "      <td>1</td>\n",
       "    </tr>\n",
       "    <tr>\n",
       "      <th>888</th>\n",
       "      <td>889</td>\n",
       "      <td>3</td>\n",
       "      <td>Johnston, Miss. Catherine Helen \"Carrie\"</td>\n",
       "      <td>28</td>\n",
       "      <td>female</td>\n",
       "      <td>1</td>\n",
       "      <td>2</td>\n",
       "      <td>W./C. 6607</td>\n",
       "      <td>23.45</td>\n",
       "      <td>N/A</td>\n",
       "      <td>S</td>\n",
       "      <td>0</td>\n",
       "    </tr>\n",
       "    <tr>\n",
       "      <th>889</th>\n",
       "      <td>890</td>\n",
       "      <td>1</td>\n",
       "      <td>Behr, Mr. Karl Howell</td>\n",
       "      <td>26</td>\n",
       "      <td>male</td>\n",
       "      <td>0</td>\n",
       "      <td>0</td>\n",
       "      <td>111369</td>\n",
       "      <td>30.00</td>\n",
       "      <td>C148</td>\n",
       "      <td>C</td>\n",
       "      <td>1</td>\n",
       "    </tr>\n",
       "    <tr>\n",
       "      <th>890</th>\n",
       "      <td>891</td>\n",
       "      <td>3</td>\n",
       "      <td>Dooley, Mr. Patrick</td>\n",
       "      <td>32</td>\n",
       "      <td>male</td>\n",
       "      <td>0</td>\n",
       "      <td>0</td>\n",
       "      <td>370376</td>\n",
       "      <td>7.75</td>\n",
       "      <td>N/A</td>\n",
       "      <td>Q</td>\n",
       "      <td>0</td>\n",
       "    </tr>\n",
       "  </tbody>\n",
       "</table>\n",
       "</div>"
      ],
      "text/plain": [
       "     PassengerId  Pclass                                      Name  Age  \\\n",
       "886          887       2                     Montvila, Rev. Juozas   27   \n",
       "887          888       1              Graham, Miss. Margaret Edith   19   \n",
       "888          889       3  Johnston, Miss. Catherine Helen \"Carrie\"   28   \n",
       "889          890       1                     Behr, Mr. Karl Howell   26   \n",
       "890          891       3                       Dooley, Mr. Patrick   32   \n",
       "\n",
       "        Sex  SibSp  Parch      Ticket   Fare Cabin Embarked  Survived  \n",
       "886    male      0      0      211536  13.00   N/A        S         0  \n",
       "887  female      0      0      112053  30.00   B42        S         1  \n",
       "888  female      1      2  W./C. 6607  23.45   N/A        S         0  \n",
       "889    male      0      0      111369  30.00  C148        C         1  \n",
       "890    male      0      0      370376   7.75   N/A        Q         0  "
      ]
     },
     "execution_count": 24,
     "metadata": {},
     "output_type": "execute_result"
    }
   ],
   "source": [
    "titan_fixed_train = pd.concat([titan_ads.sort_index().iloc[:891], y_train], axis = 1)\n",
    "titan_fixed_train.tail()"
   ]
  },
  {
   "cell_type": "code",
   "execution_count": 25,
   "id": "302a333d",
   "metadata": {
    "execution": {
     "iopub.execute_input": "2022-08-20T14:25:31.173958Z",
     "iopub.status.busy": "2022-08-20T14:25:31.173508Z",
     "iopub.status.idle": "2022-08-20T14:25:31.189759Z",
     "shell.execute_reply": "2022-08-20T14:25:31.188913Z"
    },
    "papermill": {
     "duration": 0.04623,
     "end_time": "2022-08-20T14:25:31.192368",
     "exception": false,
     "start_time": "2022-08-20T14:25:31.146138",
     "status": "completed"
    },
    "tags": []
   },
   "outputs": [
    {
     "name": "stdout",
     "output_type": "stream",
     "text": [
      "<class 'pandas.core.frame.DataFrame'>\n",
      "RangeIndex: 891 entries, 0 to 890\n",
      "Data columns (total 12 columns):\n",
      " #   Column       Non-Null Count  Dtype  \n",
      "---  ------       --------------  -----  \n",
      " 0   PassengerId  891 non-null    int64  \n",
      " 1   Pclass       891 non-null    int64  \n",
      " 2   Name         891 non-null    object \n",
      " 3   Age          891 non-null    int64  \n",
      " 4   Sex          891 non-null    object \n",
      " 5   SibSp        891 non-null    int64  \n",
      " 6   Parch        891 non-null    int64  \n",
      " 7   Ticket       891 non-null    object \n",
      " 8   Fare         891 non-null    float64\n",
      " 9   Cabin        891 non-null    object \n",
      " 10  Embarked     891 non-null    object \n",
      " 11  Survived     891 non-null    int64  \n",
      "dtypes: float64(1), int64(6), object(5)\n",
      "memory usage: 83.7+ KB\n"
     ]
    }
   ],
   "source": [
    "titan_fixed_train.info()"
   ]
  },
  {
   "cell_type": "markdown",
   "id": "fae3fcdc",
   "metadata": {
    "papermill": {
     "duration": 0.02593,
     "end_time": "2022-08-20T14:25:31.245949",
     "exception": false,
     "start_time": "2022-08-20T14:25:31.220019",
     "status": "completed"
    },
    "tags": []
   },
   "source": [
    "## **Step - 4 :** Feature Selection and EDA"
   ]
  },
  {
   "cell_type": "markdown",
   "id": "7d388175",
   "metadata": {
    "papermill": {
     "duration": 0.025815,
     "end_time": "2022-08-20T14:25:31.298165",
     "exception": false,
     "start_time": "2022-08-20T14:25:31.272350",
     "status": "completed"
    },
    "tags": []
   },
   "source": [
    "### **Step - 4.1 :** Analysis on Pclass"
   ]
  },
  {
   "cell_type": "code",
   "execution_count": 26,
   "id": "44d228f1",
   "metadata": {
    "execution": {
     "iopub.execute_input": "2022-08-20T14:25:31.354333Z",
     "iopub.status.busy": "2022-08-20T14:25:31.353680Z",
     "iopub.status.idle": "2022-08-20T14:25:31.729625Z",
     "shell.execute_reply": "2022-08-20T14:25:31.728608Z"
    },
    "papermill": {
     "duration": 0.407374,
     "end_time": "2022-08-20T14:25:31.731960",
     "exception": false,
     "start_time": "2022-08-20T14:25:31.324586",
     "status": "completed"
    },
    "tags": []
   },
   "outputs": [
    {
     "data": {
      "image/png": "[encoded data removed]",
      "text/plain": [
       "<Figure size 720x360 with 1 Axes>"
      ]
     },
     "metadata": {
      "needs_background": "light"
     },
     "output_type": "display_data"
    }
   ],
   "source": [
    "# Relationship between Survival and Ticket Class \n",
    "\n",
    "# Creating onject containing Ticket distribution\n",
    "feature_pc = titan_fixed_train.groupby(by = 'Pclass')['Survived'].value_counts()\n",
    "\n",
    "# Declaring figure size\n",
    "plt.figure(figsize = (10, 5))\n",
    "\n",
    "# Declaring color parameters\n",
    "sns.countplot(data = titan_fixed_train, x = 'Pclass',  hue = 'Survived', palette = 'magma')\n",
    "\n",
    "# Customised percentage labels for each instance\n",
    "\n",
    "plt.text(x = -0.27, y = feature_pc[1][0] + 3, s = \"{} %\".format(((feature_pc[1][0]/feature_pc[1].sum())*100).round(2)), fontsize = 10)\n",
    "plt.text(x = 0.12, y = feature_pc[1][1] + 3, s = \"{} %\".format(((feature_pc[1][1]/feature_pc[1].sum())*100).round(2)), fontsize = 10)\n",
    "plt.text(x = -0.27 + 1, y = feature_pc[2][0] + 3, s = \"{} %\".format(((feature_pc[2][0]/feature_pc[2].sum())*100).round(2)), fontsize = 10)\n",
    "plt.text(x = 0.12 + 1, y = feature_pc[2][1] + 3, s = \"{} %\".format(((feature_pc[2][1]/feature_pc[2].sum())*100).round(2)), fontsize = 10)\n",
    "plt.text(x = -0.27 + 2, y = feature_pc[3][0] + 3, s = \"{} %\".format(((feature_pc[3][0]/feature_pc[3].sum())*100).round(2)), fontsize = 10)\n",
    "plt.text(x = 0.12 + 2, y = feature_pc[3][1] + 3, s = \"{} %\".format(((feature_pc[3][1]/feature_pc[3].sum())*100).round(2)), fontsize = 10)\n",
    "\n",
    "# Plot title:\n",
    "plt.title('Survival Distribution among different Passenger Ticket Classes', fontsize = 16)\n",
    "\n",
    "# Label Editing\n",
    "\n",
    "plt.xticks([0, 1, 2], ['First Class', 'Second Class', 'Third Class'], fontsize = 10)\n",
    "plt.xlabel('Passenger Ticket Class', fontsize = 15)\n",
    "plt.ylabel('Count', fontsize = 15)\n",
    "\n",
    "# Padding\n",
    "plt.tight_layout(pad = -3)\n",
    "\n",
    "# SHow graph\n",
    "plt.show()"
   ]
  },
  {
   "cell_type": "markdown",
   "id": "783cb8da",
   "metadata": {
    "papermill": {
     "duration": 0.026491,
     "end_time": "2022-08-20T14:25:31.785408",
     "exception": false,
     "start_time": "2022-08-20T14:25:31.758917",
     "status": "completed"
    },
    "tags": []
   },
   "source": [
    "**Observation:**\n",
    "* As ticket classes increases from First Class to Third Class, survival rate also increases. Thus, it can be concluded that higher the class, more are the chances of passesnger survival\n",
    "* 'Pclass' has been selected as an important feature as it has direct relationship with Survival"
   ]
  },
  {
   "cell_type": "markdown",
   "id": "26ad7b35",
   "metadata": {
    "papermill": {
     "duration": 0.027323,
     "end_time": "2022-08-20T14:25:31.840255",
     "exception": false,
     "start_time": "2022-08-20T14:25:31.812932",
     "status": "completed"
    },
    "tags": []
   },
   "source": [
    "### **Step - 4.2 :** Analysis on Sex"
   ]
  },
  {
   "cell_type": "code",
   "execution_count": 27,
   "id": "653514c7",
   "metadata": {
    "execution": {
     "iopub.execute_input": "2022-08-20T14:25:31.895688Z",
     "iopub.status.busy": "2022-08-20T14:25:31.894995Z",
     "iopub.status.idle": "2022-08-20T14:25:32.170108Z",
     "shell.execute_reply": "2022-08-20T14:25:32.168926Z"
    },
    "papermill": {
     "duration": 0.305493,
     "end_time": "2022-08-20T14:25:32.172661",
     "exception": false,
     "start_time": "2022-08-20T14:25:31.867168",
     "status": "completed"
    },
    "tags": []
   },
   "outputs": [
    {
     "data": {
      "image/png": "[encoded data removed]",
      "text/plain": [
       "<Figure size 720x360 with 1 Axes>"
      ]
     },
     "metadata": {
      "needs_background": "light"
     },
     "output_type": "display_data"
    }
   ],
   "source": [
    "# Relationship between Survival and Sex \n",
    "\n",
    "# Creating onject containing Sex distribution\n",
    "feature_sex = titan_fixed_train.groupby(by = 'Sex')['Survived'].value_counts()\n",
    "\n",
    "# Declaring figure size\n",
    "plt.figure(figsize = (10, 5))\n",
    "\n",
    "# Declaring color parameters\n",
    "sns.countplot(data = titan_fixed_train, x = 'Sex',  hue = 'Survived', palette = 'magma')\n",
    "\n",
    "# Customised percentage labels for each instance\n",
    "\n",
    "plt.text(x = -0.27, y = feature_sex['male'][0] + 3, s = \"{} %\".format(((feature_sex['male'][0]/feature_sex['male'].sum())*100).round(2)), fontsize = 10)\n",
    "plt.text(x = 0.12, y = feature_sex['male'][1] + 3, s = \"{} %\".format(((feature_sex['male'][1]/feature_sex['male'].sum())*100).round(2)), fontsize = 10)\n",
    "plt.text(x = -0.27 + 1, y = feature_sex['female'][0] + 3, s = \"{} %\".format(((feature_sex['female'][0]/feature_sex['female'].sum())*100).round(2)), fontsize = 10)\n",
    "plt.text(x = 0.12 + 1, y = feature_sex['female'][1] + 3, s = \"{} %\".format(((feature_sex['female'][1]/feature_sex['female'].sum())*100).round(2)), fontsize = 10)\n",
    "\n",
    "# Plot title:\n",
    "plt.title('Survival Distribution between Sex', fontsize = 16)\n",
    "\n",
    "# Label Editing\n",
    "\n",
    "plt.xticks([0, 1], ['Male', 'Female'], fontsize = 10)\n",
    "plt.xlabel('Sex', fontsize = 15)\n",
    "plt.ylabel('Count', fontsize = 15)\n",
    "\n",
    "# Padding\n",
    "plt.tight_layout(pad = -3)\n",
    "\n",
    "# SHow graph\n",
    "plt.show()"
   ]
  },
  {
   "cell_type": "markdown",
   "id": "17eb46f6",
   "metadata": {
    "papermill": {
     "duration": 0.028379,
     "end_time": "2022-08-20T14:25:32.228294",
     "exception": false,
     "start_time": "2022-08-20T14:25:32.199915",
     "status": "completed"
    },
    "tags": []
   },
   "source": [
    "**Observation:**\n",
    "* Male has more survival rate in compare to Female\n",
    "* 'Sex' has been selected as an important feature as it has gender specific relationship with Survival"
   ]
  },
  {
   "cell_type": "markdown",
   "id": "e65c38d0",
   "metadata": {
    "papermill": {
     "duration": 0.026758,
     "end_time": "2022-08-20T14:25:32.283338",
     "exception": false,
     "start_time": "2022-08-20T14:25:32.256580",
     "status": "completed"
    },
    "tags": []
   },
   "source": [
    "### **Step - 4.3 :** Analysis on Embarked"
   ]
  },
  {
   "cell_type": "code",
   "execution_count": 28,
   "id": "341d8183",
   "metadata": {
    "execution": {
     "iopub.execute_input": "2022-08-20T14:25:32.339967Z",
     "iopub.status.busy": "2022-08-20T14:25:32.339286Z",
     "iopub.status.idle": "2022-08-20T14:25:32.656875Z",
     "shell.execute_reply": "2022-08-20T14:25:32.655587Z"
    },
    "papermill": {
     "duration": 0.34927,
     "end_time": "2022-08-20T14:25:32.659815",
     "exception": false,
     "start_time": "2022-08-20T14:25:32.310545",
     "status": "completed"
    },
    "tags": []
   },
   "outputs": [
    {
     "data": {
      "image/png": "[encoded data removed]",
      "text/plain": [
       "<Figure size 720x360 with 1 Axes>"
      ]
     },
     "metadata": {
      "needs_background": "light"
     },
     "output_type": "display_data"
    }
   ],
   "source": [
    "# Relationship between Survival and Embarked \n",
    "\n",
    "# Creating onject containing Embarked distribution\n",
    "feature_embarked = titan_fixed_train.groupby(by = 'Embarked')['Survived'].value_counts()\n",
    "\n",
    "# Declaring figure size\n",
    "plt.figure(figsize = (10, 5))\n",
    "\n",
    "# Declaring color parameters\n",
    "sns.countplot(data = titan_fixed_train, x = 'Embarked',  hue = 'Survived', palette = 'magma')\n",
    "\n",
    "# Customised percentage labels for each instance\n",
    "\n",
    "plt.text(x = -0.27, y = feature_embarked['S'][0] + 3, s = \"{}%\".format(((feature_embarked['S'][0]/feature_embarked['S'].sum())*100).round(2)), fontsize = 10)\n",
    "plt.text(x = 0.12, y = feature_embarked['S'][1] + 3, s = \"{}%\".format(((feature_embarked['S'][1]/feature_embarked['S'].sum())*100).round(2)), fontsize = 10)\n",
    "plt.text(x = -0.27 + 1, y = feature_embarked['C'][0] + 3, s = \"{}%\".format(((feature_embarked['C'][0]/feature_embarked['C'].sum())*100).round(2)), fontsize = 10)\n",
    "plt.text(x = 0.12 + 1, y = feature_embarked['C'][1] + 3, s = \"{}%\".format(((feature_embarked['C'][1]/feature_embarked['C'].sum())*100).round(2)), fontsize = 10)\n",
    "plt.text(x = -0.27 + 2, y = feature_embarked['Q'][0] + 3, s = \"{}%\".format(((feature_embarked['Q'][0]/feature_embarked['Q'].sum())*100).round(2)), fontsize = 10)\n",
    "plt.text(x = 0.12 + 2, y = feature_embarked['Q'][1] + 3, s = \"{}%\".format(((feature_embarked['Q'][1]/feature_embarked['Q'].sum())*100).round(2)), fontsize = 10)\n",
    "\n",
    "# Plot title:\n",
    "plt.title('Survival Distribution between City of Embarkment', fontsize = 16)\n",
    "\n",
    "# Label Editing\n",
    "\n",
    "plt.xticks([0, 1, 2], ['Southampton', 'Cherbourg', 'Queenstown'], fontsize = 10)\n",
    "plt.xlabel('City of Embarkment', fontsize = 15)\n",
    "plt.ylabel('Count', fontsize = 15)\n",
    "\n",
    "# Padding\n",
    "plt.tight_layout(pad = -3)\n",
    "\n",
    "# SHow graph\n",
    "plt.show()\n"
   ]
  },
  {
   "cell_type": "markdown",
   "id": "489de983",
   "metadata": {
    "papermill": {
     "duration": 0.027303,
     "end_time": "2022-08-20T14:25:32.716352",
     "exception": false,
     "start_time": "2022-08-20T14:25:32.689049",
     "status": "completed"
    },
    "tags": []
   },
   "source": [
    "**Observation:**\n",
    "* There is a clear differemce in different cities as per survival rate\n",
    "* 'Embarked' has been selected as an important feature"
   ]
  },
  {
   "cell_type": "markdown",
   "id": "54a1062f",
   "metadata": {
    "papermill": {
     "duration": 0.027235,
     "end_time": "2022-08-20T14:25:32.772317",
     "exception": false,
     "start_time": "2022-08-20T14:25:32.745082",
     "status": "completed"
    },
    "tags": []
   },
   "source": [
    "### **Step - 4.4 :** Analysis on Cabin"
   ]
  },
  {
   "cell_type": "code",
   "execution_count": 29,
   "id": "032501e0",
   "metadata": {
    "execution": {
     "iopub.execute_input": "2022-08-20T14:25:32.830454Z",
     "iopub.status.busy": "2022-08-20T14:25:32.829273Z",
     "iopub.status.idle": "2022-08-20T14:25:32.840069Z",
     "shell.execute_reply": "2022-08-20T14:25:32.838972Z"
    },
    "papermill": {
     "duration": 0.042021,
     "end_time": "2022-08-20T14:25:32.842263",
     "exception": false,
     "start_time": "2022-08-20T14:25:32.800242",
     "status": "completed"
    },
    "tags": []
   },
   "outputs": [
    {
     "data": {
      "text/plain": [
       "Cabin\n",
       "N/A            687\n",
       "G6               4\n",
       "C23 C25 C27      4\n",
       "B96 B98          4\n",
       "E101             3\n",
       "              ... \n",
       "C103             1\n",
       "C101             1\n",
       "B94              1\n",
       "B86              1\n",
       "T                1\n",
       "Length: 148, dtype: int64"
      ]
     },
     "execution_count": 29,
     "metadata": {},
     "output_type": "execute_result"
    }
   ],
   "source": [
    "# Creating object containing Cabin distribution\n",
    "\n",
    "feature_cabin = titan_fixed_train.groupby(by = 'Cabin').size().sort_values(ascending = False)\n",
    "feature_cabin"
   ]
  },
  {
   "cell_type": "markdown",
   "id": "e830f26a",
   "metadata": {
    "papermill": {
     "duration": 0.028535,
     "end_time": "2022-08-20T14:25:32.898907",
     "exception": false,
     "start_time": "2022-08-20T14:25:32.870372",
     "status": "completed"
    },
    "tags": []
   },
   "source": [
    "**Observation:**\n",
    "* As there are too many categorical values in cabin, no relation can be deduced w.r.t Survival\n",
    "* **Next Step:** We can create a binary column with availability of cabin information as the number of N/A values are quite too high\n"
   ]
  },
  {
   "cell_type": "code",
   "execution_count": 30,
   "id": "9296799a",
   "metadata": {
    "execution": {
     "iopub.execute_input": "2022-08-20T14:25:32.958753Z",
     "iopub.status.busy": "2022-08-20T14:25:32.958075Z",
     "iopub.status.idle": "2022-08-20T14:25:32.975345Z",
     "shell.execute_reply": "2022-08-20T14:25:32.974615Z"
    },
    "papermill": {
     "duration": 0.050841,
     "end_time": "2022-08-20T14:25:32.978907",
     "exception": false,
     "start_time": "2022-08-20T14:25:32.928066",
     "status": "completed"
    },
    "tags": []
   },
   "outputs": [
    {
     "data": {
      "text/html": [
       "<div>\n",
       "<style scoped>\n",
       "    .dataframe tbody tr th:only-of-type {\n",
       "        vertical-align: middle;\n",
       "    }\n",
       "\n",
       "    .dataframe tbody tr th {\n",
       "        vertical-align: top;\n",
       "    }\n",
       "\n",
       "    .dataframe thead th {\n",
       "        text-align: right;\n",
       "    }\n",
       "</style>\n",
       "<table border=\"1\" class=\"dataframe\">\n",
       "  <thead>\n",
       "    <tr style=\"text-align: right;\">\n",
       "      <th></th>\n",
       "      <th>PassengerId</th>\n",
       "      <th>Pclass</th>\n",
       "      <th>Name</th>\n",
       "      <th>Age</th>\n",
       "      <th>Sex</th>\n",
       "      <th>SibSp</th>\n",
       "      <th>Parch</th>\n",
       "      <th>Ticket</th>\n",
       "      <th>Fare</th>\n",
       "      <th>Cabin</th>\n",
       "      <th>Embarked</th>\n",
       "    </tr>\n",
       "  </thead>\n",
       "  <tbody>\n",
       "    <tr>\n",
       "      <th>0</th>\n",
       "      <td>1</td>\n",
       "      <td>3</td>\n",
       "      <td>Braund, Mr. Owen Harris</td>\n",
       "      <td>22</td>\n",
       "      <td>male</td>\n",
       "      <td>1</td>\n",
       "      <td>0</td>\n",
       "      <td>A/5 21171</td>\n",
       "      <td>7.2500</td>\n",
       "      <td>Not Present</td>\n",
       "      <td>S</td>\n",
       "    </tr>\n",
       "    <tr>\n",
       "      <th>1</th>\n",
       "      <td>2</td>\n",
       "      <td>1</td>\n",
       "      <td>Cumings, Mrs. John Bradley (Florence Briggs Th...</td>\n",
       "      <td>38</td>\n",
       "      <td>female</td>\n",
       "      <td>1</td>\n",
       "      <td>0</td>\n",
       "      <td>PC 17599</td>\n",
       "      <td>71.2833</td>\n",
       "      <td>Present</td>\n",
       "      <td>C</td>\n",
       "    </tr>\n",
       "    <tr>\n",
       "      <th>2</th>\n",
       "      <td>3</td>\n",
       "      <td>3</td>\n",
       "      <td>Heikkinen, Miss. Laina</td>\n",
       "      <td>26</td>\n",
       "      <td>female</td>\n",
       "      <td>0</td>\n",
       "      <td>0</td>\n",
       "      <td>STON/O2. 3101282</td>\n",
       "      <td>7.9250</td>\n",
       "      <td>Not Present</td>\n",
       "      <td>S</td>\n",
       "    </tr>\n",
       "    <tr>\n",
       "      <th>3</th>\n",
       "      <td>4</td>\n",
       "      <td>1</td>\n",
       "      <td>Futrelle, Mrs. Jacques Heath (Lily May Peel)</td>\n",
       "      <td>35</td>\n",
       "      <td>female</td>\n",
       "      <td>1</td>\n",
       "      <td>0</td>\n",
       "      <td>113803</td>\n",
       "      <td>53.1000</td>\n",
       "      <td>Present</td>\n",
       "      <td>S</td>\n",
       "    </tr>\n",
       "    <tr>\n",
       "      <th>4</th>\n",
       "      <td>5</td>\n",
       "      <td>3</td>\n",
       "      <td>Allen, Mr. William Henry</td>\n",
       "      <td>35</td>\n",
       "      <td>male</td>\n",
       "      <td>0</td>\n",
       "      <td>0</td>\n",
       "      <td>373450</td>\n",
       "      <td>8.0500</td>\n",
       "      <td>Not Present</td>\n",
       "      <td>S</td>\n",
       "    </tr>\n",
       "  </tbody>\n",
       "</table>\n",
       "</div>"
      ],
      "text/plain": [
       "   PassengerId  Pclass                                               Name  \\\n",
       "0            1       3                            Braund, Mr. Owen Harris   \n",
       "1            2       1  Cumings, Mrs. John Bradley (Florence Briggs Th...   \n",
       "2            3       3                             Heikkinen, Miss. Laina   \n",
       "3            4       1       Futrelle, Mrs. Jacques Heath (Lily May Peel)   \n",
       "4            5       3                           Allen, Mr. William Henry   \n",
       "\n",
       "   Age     Sex  SibSp  Parch            Ticket     Fare        Cabin Embarked  \n",
       "0   22    male      1      0         A/5 21171   7.2500  Not Present        S  \n",
       "1   38  female      1      0          PC 17599  71.2833      Present        C  \n",
       "2   26  female      0      0  STON/O2. 3101282   7.9250  Not Present        S  \n",
       "3   35  female      1      0            113803  53.1000      Present        S  \n",
       "4   35    male      0      0            373450   8.0500  Not Present        S  "
      ]
     },
     "execution_count": 30,
     "metadata": {},
     "output_type": "execute_result"
    }
   ],
   "source": [
    "titan_ads['Cabin'] = ['Present' if cabin != 'N/A' else 'Not Present' for cabin in titan_ads.Cabin]\n",
    "titan_ads.head(5)"
   ]
  },
  {
   "cell_type": "code",
   "execution_count": 31,
   "id": "0b866947",
   "metadata": {
    "execution": {
     "iopub.execute_input": "2022-08-20T14:25:33.039235Z",
     "iopub.status.busy": "2022-08-20T14:25:33.038858Z",
     "iopub.status.idle": "2022-08-20T14:25:33.048412Z",
     "shell.execute_reply": "2022-08-20T14:25:33.047298Z"
    },
    "papermill": {
     "duration": 0.041308,
     "end_time": "2022-08-20T14:25:33.050685",
     "exception": false,
     "start_time": "2022-08-20T14:25:33.009377",
     "status": "completed"
    },
    "tags": []
   },
   "outputs": [
    {
     "data": {
      "text/plain": [
       "Cabin\n",
       "Not Present    1014\n",
       "Present         295\n",
       "dtype: int64"
      ]
     },
     "execution_count": 31,
     "metadata": {},
     "output_type": "execute_result"
    }
   ],
   "source": [
    "feature_cabin = titan_ads.groupby(by = 'Cabin').size().sort_values(ascending = False)\n",
    "feature_cabin"
   ]
  },
  {
   "cell_type": "code",
   "execution_count": 32,
   "id": "1e0ddd46",
   "metadata": {
    "execution": {
     "iopub.execute_input": "2022-08-20T14:25:33.109743Z",
     "iopub.status.busy": "2022-08-20T14:25:33.108996Z",
     "iopub.status.idle": "2022-08-20T14:25:33.398786Z",
     "shell.execute_reply": "2022-08-20T14:25:33.397802Z"
    },
    "papermill": {
     "duration": 0.322026,
     "end_time": "2022-08-20T14:25:33.401106",
     "exception": false,
     "start_time": "2022-08-20T14:25:33.079080",
     "status": "completed"
    },
    "tags": []
   },
   "outputs": [
    {
     "data": {
      "image/png": "[encoded data removed]",
      "text/plain": [
       "<Figure size 720x360 with 1 Axes>"
      ]
     },
     "metadata": {
      "needs_background": "light"
     },
     "output_type": "display_data"
    }
   ],
   "source": [
    "# Relationship between Survival and Presence of Cabin \n",
    "train_collated = pd.concat([titan_ads.sort_index().iloc[:891], y_train], axis = 1)\n",
    "cabSurvival = train_collated.groupby(by = 'Cabin')['Survived'].value_counts()\n",
    "\n",
    "plt.figure(figsize = (10, 5))\n",
    "sns.countplot(data = train_collated, x = 'Cabin',  hue = 'Survived', palette = 'magma')\n",
    "\n",
    "plt.text(x = -0.27, y = cabSurvival['Not Present'][0] + 3, s = \"{}%\".format(((cabSurvival['Not Present'][0]/cabSurvival['Not Present'].sum())*100).round(2)), fontsize = 10)\n",
    "plt.text(x = 0.12, y = cabSurvival['Not Present'][1] + 3, s = \"{}%\".format(((cabSurvival['Not Present'][1]/cabSurvival['Not Present'].sum())*100).round(2)), fontsize = 10)\n",
    "plt.text(x = -0.27 + 1, y = cabSurvival['Present'][0] + 3, s = \"{}%\".format(((cabSurvival['Present'][0]/cabSurvival['Present'].sum())*100).round(2)), fontsize = 10)\n",
    "plt.text(x = 0.12 + 1, y = cabSurvival['Present'][1] + 3, s = \"{}%\".format(((cabSurvival['Present'][1]/cabSurvival['Present'].sum())*100).round(2)), fontsize = 10)\n",
    "\n",
    "plt.title('Survival Distribution based on Presence of Cabin Values', fontsize = 18)\n",
    "plt.xticks([0, 1], ['No Cabin Value', 'Cabin Value Present'], fontsize = 10)\n",
    "\n",
    "plt.xlabel('Cabin Value Presence', fontsize = 15)\n",
    "plt.ylabel('Count', fontsize = 15)\n",
    "\n",
    "plt.tight_layout(pad = -5)\n",
    "plt.show()"
   ]
  },
  {
   "cell_type": "markdown",
   "id": "0929c61e",
   "metadata": {
    "papermill": {
     "duration": 0.027922,
     "end_time": "2022-08-20T14:25:33.457270",
     "exception": false,
     "start_time": "2022-08-20T14:25:33.429348",
     "status": "completed"
    },
    "tags": []
   },
   "source": [
    "**Observation:**\n",
    "* Significant differences can be noticed in Cabin and No-Cabin values w.r.t Survival\n",
    "* 'Cabin' has been considered as an important feature for modelling"
   ]
  },
  {
   "cell_type": "markdown",
   "id": "452dd402",
   "metadata": {
    "papermill": {
     "duration": 0.028038,
     "end_time": "2022-08-20T14:25:33.513383",
     "exception": false,
     "start_time": "2022-08-20T14:25:33.485345",
     "status": "completed"
    },
    "tags": []
   },
   "source": [
    "### **Step - 4.5 :** Analysis on Fare"
   ]
  },
  {
   "cell_type": "code",
   "execution_count": 33,
   "id": "e86ef3e1",
   "metadata": {
    "execution": {
     "iopub.execute_input": "2022-08-20T14:25:33.571944Z",
     "iopub.status.busy": "2022-08-20T14:25:33.570972Z",
     "iopub.status.idle": "2022-08-20T14:25:34.284794Z",
     "shell.execute_reply": "2022-08-20T14:25:34.283500Z"
    },
    "papermill": {
     "duration": 0.745602,
     "end_time": "2022-08-20T14:25:34.287166",
     "exception": false,
     "start_time": "2022-08-20T14:25:33.541564",
     "status": "completed"
    },
    "tags": []
   },
   "outputs": [
    {
     "data": {
      "image/png": "[encoded data removed]",
      "text/plain": [
       "<Figure size 1152x648 with 1 Axes>"
      ]
     },
     "metadata": {
      "needs_background": "light"
     },
     "output_type": "display_data"
    }
   ],
   "source": [
    "#Visualising the fare distribution w.r.t survival:\n",
    "plt.figure(figsize = (16, 9))\n",
    "sns.histplot(x = 'Fare', data = train_collated, hue = 'Survived', multiple = 'stack', palette = 'magma')\n",
    "plt.xlabel('Fare', fontsize = 18)\n",
    "plt.ylabel('Count', fontsize = 15)\n",
    "plt.show()"
   ]
  },
  {
   "cell_type": "markdown",
   "id": "92a3b417",
   "metadata": {
    "papermill": {
     "duration": 0.031848,
     "end_time": "2022-08-20T14:25:34.349451",
     "exception": false,
     "start_time": "2022-08-20T14:25:34.317603",
     "status": "completed"
    },
    "tags": []
   },
   "source": [
    "**Observation:** : Nothing conclusive between Survuval and Fare can be deduced from the above graph"
   ]
  },
  {
   "cell_type": "code",
   "execution_count": 34,
   "id": "1360325b",
   "metadata": {
    "execution": {
     "iopub.execute_input": "2022-08-20T14:25:34.412882Z",
     "iopub.status.busy": "2022-08-20T14:25:34.412467Z",
     "iopub.status.idle": "2022-08-20T14:25:34.449314Z",
     "shell.execute_reply": "2022-08-20T14:25:34.448084Z"
    },
    "papermill": {
     "duration": 0.071094,
     "end_time": "2022-08-20T14:25:34.451706",
     "exception": false,
     "start_time": "2022-08-20T14:25:34.380612",
     "status": "completed"
    },
    "tags": []
   },
   "outputs": [
    {
     "name": "stdout",
     "output_type": "stream",
     "text": [
      "\n",
      "'Very Low Fare' Range: 0 - 7.9\n",
      "\n",
      "'Low Fare' Range: 7.9 - 14.45\n",
      "\n",
      "'Medium Fare' Range: 14.45 - 31.28\n",
      "\n",
      "'High Fare' Range: 31.275 - 512.33 \n",
      "\n",
      "\n"
     ]
    },
    {
     "data": {
      "text/html": [
       "<div>\n",
       "<style scoped>\n",
       "    .dataframe tbody tr th:only-of-type {\n",
       "        vertical-align: middle;\n",
       "    }\n",
       "\n",
       "    .dataframe tbody tr th {\n",
       "        vertical-align: top;\n",
       "    }\n",
       "\n",
       "    .dataframe thead th {\n",
       "        text-align: right;\n",
       "    }\n",
       "</style>\n",
       "<table border=\"1\" class=\"dataframe\">\n",
       "  <thead>\n",
       "    <tr style=\"text-align: right;\">\n",
       "      <th></th>\n",
       "      <th>PassengerId</th>\n",
       "      <th>Pclass</th>\n",
       "      <th>Name</th>\n",
       "      <th>Age</th>\n",
       "      <th>Sex</th>\n",
       "      <th>SibSp</th>\n",
       "      <th>Parch</th>\n",
       "      <th>Ticket</th>\n",
       "      <th>Fare</th>\n",
       "      <th>Cabin</th>\n",
       "      <th>FareGroup</th>\n",
       "      <th>Embarked</th>\n",
       "    </tr>\n",
       "  </thead>\n",
       "  <tbody>\n",
       "    <tr>\n",
       "      <th>0</th>\n",
       "      <td>1</td>\n",
       "      <td>3</td>\n",
       "      <td>Braund, Mr. Owen Harris</td>\n",
       "      <td>22</td>\n",
       "      <td>male</td>\n",
       "      <td>1</td>\n",
       "      <td>0</td>\n",
       "      <td>A/5 21171</td>\n",
       "      <td>7.2500</td>\n",
       "      <td>Not Present</td>\n",
       "      <td>VeryLowFare</td>\n",
       "      <td>S</td>\n",
       "    </tr>\n",
       "    <tr>\n",
       "      <th>1</th>\n",
       "      <td>2</td>\n",
       "      <td>1</td>\n",
       "      <td>Cumings, Mrs. John Bradley (Florence Briggs Th...</td>\n",
       "      <td>38</td>\n",
       "      <td>female</td>\n",
       "      <td>1</td>\n",
       "      <td>0</td>\n",
       "      <td>PC 17599</td>\n",
       "      <td>71.2833</td>\n",
       "      <td>Present</td>\n",
       "      <td>HighFare</td>\n",
       "      <td>C</td>\n",
       "    </tr>\n",
       "    <tr>\n",
       "      <th>2</th>\n",
       "      <td>3</td>\n",
       "      <td>3</td>\n",
       "      <td>Heikkinen, Miss. Laina</td>\n",
       "      <td>26</td>\n",
       "      <td>female</td>\n",
       "      <td>0</td>\n",
       "      <td>0</td>\n",
       "      <td>STON/O2. 3101282</td>\n",
       "      <td>7.9250</td>\n",
       "      <td>Not Present</td>\n",
       "      <td>LowFare</td>\n",
       "      <td>S</td>\n",
       "    </tr>\n",
       "    <tr>\n",
       "      <th>3</th>\n",
       "      <td>4</td>\n",
       "      <td>1</td>\n",
       "      <td>Futrelle, Mrs. Jacques Heath (Lily May Peel)</td>\n",
       "      <td>35</td>\n",
       "      <td>female</td>\n",
       "      <td>1</td>\n",
       "      <td>0</td>\n",
       "      <td>113803</td>\n",
       "      <td>53.1000</td>\n",
       "      <td>Present</td>\n",
       "      <td>HighFare</td>\n",
       "      <td>S</td>\n",
       "    </tr>\n",
       "    <tr>\n",
       "      <th>4</th>\n",
       "      <td>5</td>\n",
       "      <td>3</td>\n",
       "      <td>Allen, Mr. William Henry</td>\n",
       "      <td>35</td>\n",
       "      <td>male</td>\n",
       "      <td>0</td>\n",
       "      <td>0</td>\n",
       "      <td>373450</td>\n",
       "      <td>8.0500</td>\n",
       "      <td>Not Present</td>\n",
       "      <td>LowFare</td>\n",
       "      <td>S</td>\n",
       "    </tr>\n",
       "    <tr>\n",
       "      <th>...</th>\n",
       "      <td>...</td>\n",
       "      <td>...</td>\n",
       "      <td>...</td>\n",
       "      <td>...</td>\n",
       "      <td>...</td>\n",
       "      <td>...</td>\n",
       "      <td>...</td>\n",
       "      <td>...</td>\n",
       "      <td>...</td>\n",
       "      <td>...</td>\n",
       "      <td>...</td>\n",
       "      <td>...</td>\n",
       "    </tr>\n",
       "    <tr>\n",
       "      <th>1304</th>\n",
       "      <td>1305</td>\n",
       "      <td>3</td>\n",
       "      <td>Spector, Mr. Woolf</td>\n",
       "      <td>28</td>\n",
       "      <td>male</td>\n",
       "      <td>0</td>\n",
       "      <td>0</td>\n",
       "      <td>A.5. 3236</td>\n",
       "      <td>8.0500</td>\n",
       "      <td>Not Present</td>\n",
       "      <td>LowFare</td>\n",
       "      <td>S</td>\n",
       "    </tr>\n",
       "    <tr>\n",
       "      <th>1305</th>\n",
       "      <td>1306</td>\n",
       "      <td>1</td>\n",
       "      <td>Oliva y Ocana, Dona. Fermina</td>\n",
       "      <td>39</td>\n",
       "      <td>female</td>\n",
       "      <td>0</td>\n",
       "      <td>0</td>\n",
       "      <td>PC 17758</td>\n",
       "      <td>108.9000</td>\n",
       "      <td>Present</td>\n",
       "      <td>HighFare</td>\n",
       "      <td>C</td>\n",
       "    </tr>\n",
       "    <tr>\n",
       "      <th>1306</th>\n",
       "      <td>1307</td>\n",
       "      <td>3</td>\n",
       "      <td>Saether, Mr. Simon Sivertsen</td>\n",
       "      <td>38</td>\n",
       "      <td>male</td>\n",
       "      <td>0</td>\n",
       "      <td>0</td>\n",
       "      <td>SOTON/O.Q. 3101262</td>\n",
       "      <td>7.2500</td>\n",
       "      <td>Not Present</td>\n",
       "      <td>VeryLowFare</td>\n",
       "      <td>S</td>\n",
       "    </tr>\n",
       "    <tr>\n",
       "      <th>1307</th>\n",
       "      <td>1308</td>\n",
       "      <td>3</td>\n",
       "      <td>Ware, Mr. Frederick</td>\n",
       "      <td>28</td>\n",
       "      <td>male</td>\n",
       "      <td>0</td>\n",
       "      <td>0</td>\n",
       "      <td>359309</td>\n",
       "      <td>8.0500</td>\n",
       "      <td>Not Present</td>\n",
       "      <td>LowFare</td>\n",
       "      <td>S</td>\n",
       "    </tr>\n",
       "    <tr>\n",
       "      <th>1308</th>\n",
       "      <td>1309</td>\n",
       "      <td>3</td>\n",
       "      <td>Peter, Master. Michael J</td>\n",
       "      <td>28</td>\n",
       "      <td>male</td>\n",
       "      <td>1</td>\n",
       "      <td>1</td>\n",
       "      <td>2668</td>\n",
       "      <td>22.3583</td>\n",
       "      <td>Not Present</td>\n",
       "      <td>MediumFare</td>\n",
       "      <td>C</td>\n",
       "    </tr>\n",
       "  </tbody>\n",
       "</table>\n",
       "<p>1309 rows × 12 columns</p>\n",
       "</div>"
      ],
      "text/plain": [
       "      PassengerId  Pclass                                               Name  \\\n",
       "0               1       3                            Braund, Mr. Owen Harris   \n",
       "1               2       1  Cumings, Mrs. John Bradley (Florence Briggs Th...   \n",
       "2               3       3                             Heikkinen, Miss. Laina   \n",
       "3               4       1       Futrelle, Mrs. Jacques Heath (Lily May Peel)   \n",
       "4               5       3                           Allen, Mr. William Henry   \n",
       "...           ...     ...                                                ...   \n",
       "1304         1305       3                                 Spector, Mr. Woolf   \n",
       "1305         1306       1                       Oliva y Ocana, Dona. Fermina   \n",
       "1306         1307       3                       Saether, Mr. Simon Sivertsen   \n",
       "1307         1308       3                                Ware, Mr. Frederick   \n",
       "1308         1309       3                           Peter, Master. Michael J   \n",
       "\n",
       "      Age     Sex  SibSp  Parch              Ticket      Fare        Cabin  \\\n",
       "0      22    male      1      0           A/5 21171    7.2500  Not Present   \n",
       "1      38  female      1      0            PC 17599   71.2833      Present   \n",
       "2      26  female      0      0    STON/O2. 3101282    7.9250  Not Present   \n",
       "3      35  female      1      0              113803   53.1000      Present   \n",
       "4      35    male      0      0              373450    8.0500  Not Present   \n",
       "...   ...     ...    ...    ...                 ...       ...          ...   \n",
       "1304   28    male      0      0           A.5. 3236    8.0500  Not Present   \n",
       "1305   39  female      0      0            PC 17758  108.9000      Present   \n",
       "1306   38    male      0      0  SOTON/O.Q. 3101262    7.2500  Not Present   \n",
       "1307   28    male      0      0              359309    8.0500  Not Present   \n",
       "1308   28    male      1      1                2668   22.3583  Not Present   \n",
       "\n",
       "        FareGroup Embarked  \n",
       "0     VeryLowFare        S  \n",
       "1        HighFare        C  \n",
       "2         LowFare        S  \n",
       "3        HighFare        S  \n",
       "4         LowFare        S  \n",
       "...           ...      ...  \n",
       "1304      LowFare        S  \n",
       "1305     HighFare        C  \n",
       "1306  VeryLowFare        S  \n",
       "1307      LowFare        S  \n",
       "1308   MediumFare        C  \n",
       "\n",
       "[1309 rows x 12 columns]"
      ]
     },
     "execution_count": 34,
     "metadata": {},
     "output_type": "execute_result"
    }
   ],
   "source": [
    "#Calculating the quartiles of 'Fare':\n",
    "\n",
    "Q1 = titan_ads.Fare.quantile(0.25)\n",
    "Q2 = titan_ads.Fare.quantile(0.50)\n",
    "Q3 = titan_ads.Fare.quantile(0.75)\n",
    "\n",
    "print(\"\\n'Very Low Fare' Range:\", 0, \"-\", Q1.round(2))\n",
    "print(\"\\n'Low Fare' Range:\", Q1.round(2), \"-\", Q2.round(2))\n",
    "print(\"\\n'Medium Fare' Range:\", Q2.round(2), \"-\", Q3.round(2))\n",
    "print(\"\\n'High Fare' Range:\", Q3, \"-\", round(max(titan_ads.Fare), 2), '\\n\\n')\n",
    "\n",
    "#Creating fare groups\n",
    "titan_ads.insert(10, 'FareGroup', np.nan)\n",
    "\n",
    "titan_ads.loc[(titan_ads.Fare <= Q1), 'FareGroup'] = 'VeryLowFare'\n",
    "titan_ads.loc[(titan_ads.Fare > Q1) & (titan_ads.Fare <= Q2), 'FareGroup'] = 'LowFare'\n",
    "titan_ads.loc[(titan_ads.Fare > Q2) & (titan_ads.Fare <= Q3), 'FareGroup'] = 'MediumFare'\n",
    "titan_ads.loc[(titan_ads.Fare > Q3), 'FareGroup'] = 'HighFare'\n",
    "\n",
    "titan_ads"
   ]
  },
  {
   "cell_type": "code",
   "execution_count": 35,
   "id": "c3f2b30d",
   "metadata": {
    "execution": {
     "iopub.execute_input": "2022-08-20T14:25:34.512368Z",
     "iopub.status.busy": "2022-08-20T14:25:34.511858Z",
     "iopub.status.idle": "2022-08-20T14:25:34.852421Z",
     "shell.execute_reply": "2022-08-20T14:25:34.851630Z"
    },
    "papermill": {
     "duration": 0.373291,
     "end_time": "2022-08-20T14:25:34.854522",
     "exception": false,
     "start_time": "2022-08-20T14:25:34.481231",
     "status": "completed"
    },
    "tags": []
   },
   "outputs": [
    {
     "data": {
      "image/png": "[encoded data removed]",
      "text/plain": [
       "<Figure size 720x360 with 1 Axes>"
      ]
     },
     "metadata": {
      "needs_background": "light"
     },
     "output_type": "display_data"
    }
   ],
   "source": [
    "# Relationship between Survival and Fare Groups \n",
    "\n",
    "train_collated = pd.concat([titan_ads.sort_index().iloc[:891], y_train], axis = 1)\n",
    "fgSurvival = train_collated.groupby(by = 'FareGroup')['Survived'].value_counts()\n",
    "\n",
    "plt.figure(figsize = (10, 5))\n",
    "sns.countplot(data = train_collated, x = 'FareGroup',  hue = 'Survived', order = ['VeryLowFare', 'LowFare', 'MediumFare', 'HighFare'], palette = 'magma')\n",
    "\n",
    "plt.text(x = -0.30, y = fgSurvival['VeryLowFare'][0] + 2, s = \"{}%\".format(((fgSurvival['VeryLowFare'][0]/fgSurvival['VeryLowFare'].sum())*100).round(2)), fontsize = 10)\n",
    "plt.text(x = 0.08, y = fgSurvival['VeryLowFare'][1] + 2, s = \"{}%\".format(((fgSurvival['VeryLowFare'][1]/fgSurvival['VeryLowFare'].sum())*100).round(2)), fontsize = 10)\n",
    "plt.text(x = -0.30 + 1, y = fgSurvival['LowFare'][0] + 2, s = \"{}%\".format(((fgSurvival['LowFare'][0]/fgSurvival['LowFare'].sum())*100).round(2)), fontsize = 10)\n",
    "plt.text(x = 0.08 + 1, y = fgSurvival['LowFare'][1] + 2, s = \"{}%\".format(((fgSurvival['LowFare'][1]/fgSurvival['LowFare'].sum())*100).round(2)), fontsize = 10)\n",
    "plt.text(x = -0.30 + 2, y = fgSurvival['MediumFare'][0] + 2, s = \"{}%\".format(((fgSurvival['MediumFare'][0]/fgSurvival['MediumFare'].sum())*100).round(2)), fontsize = 10)\n",
    "plt.text(x = 0.08 + 2, y = fgSurvival['MediumFare'][1] + 2, s = \"{}%\".format(((fgSurvival['MediumFare'][1]/fgSurvival['MediumFare'].sum())*100).round(2)), fontsize = 10)\n",
    "plt.text(x = -0.30 + 3, y = fgSurvival['HighFare'][0] + 2, s = \"{}%\".format(((fgSurvival['HighFare'][0]/fgSurvival['HighFare'].sum())*100).round(2)), fontsize = 10)\n",
    "plt.text(x = 0.08 + 3, y = fgSurvival['HighFare'][1] + 2, s = \"{}%\".format(((fgSurvival['HighFare'][1]/fgSurvival['HighFare'].sum())*100).round(2)), fontsize = 10)\n",
    "\n",
    "plt.xlabel('Fare Group', fontsize = 15)\n",
    "plt.ylabel('Count', fontsize = 15)\n",
    "\n",
    "plt.xticks([0, 1, 2, 3], ['Very Low Fare', 'Low Fare', 'Medium Fare', 'High Fare'], fontsize = 10)\n",
    "plt.title('Survival Distribution among different Fare Groups', fontsize = 16)\n",
    "\n",
    "plt.tight_layout(pad = -5)\n",
    "plt.show()"
   ]
  },
  {
   "cell_type": "markdown",
   "id": "dd7b7cbc",
   "metadata": {
    "papermill": {
     "duration": 0.029948,
     "end_time": "2022-08-20T14:25:34.914548",
     "exception": false,
     "start_time": "2022-08-20T14:25:34.884600",
     "status": "completed"
    },
    "tags": []
   },
   "source": [
    "**Observation:**\n",
    "* More the Fare, higher is the Survival rate\n",
    "* 'Fare' has been considered as an important feature for modelling"
   ]
  },
  {
   "cell_type": "markdown",
   "id": "5de96c32",
   "metadata": {
    "papermill": {
     "duration": 0.029982,
     "end_time": "2022-08-20T14:25:34.974219",
     "exception": false,
     "start_time": "2022-08-20T14:25:34.944237",
     "status": "completed"
    },
    "tags": []
   },
   "source": [
    "### **Step - 4.6 :** Analysis on Parch and Sibsp"
   ]
  },
  {
   "cell_type": "code",
   "execution_count": 36,
   "id": "8d664b5c",
   "metadata": {
    "execution": {
     "iopub.execute_input": "2022-08-20T14:25:35.035670Z",
     "iopub.status.busy": "2022-08-20T14:25:35.035061Z",
     "iopub.status.idle": "2022-08-20T14:25:35.582358Z",
     "shell.execute_reply": "2022-08-20T14:25:35.581577Z"
    },
    "papermill": {
     "duration": 0.580313,
     "end_time": "2022-08-20T14:25:35.584360",
     "exception": false,
     "start_time": "2022-08-20T14:25:35.004047",
     "status": "completed"
    },
    "tags": []
   },
   "outputs": [
    {
     "data": {
      "image/png": "[encoded data removed]",
      "text/plain": [
       "<Figure size 1080x360 with 2 Axes>"
      ]
     },
     "metadata": {
      "needs_background": "light"
     },
     "output_type": "display_data"
    }
   ],
   "source": [
    "train_collated = pd.concat([titan_ads.sort_index().iloc[:891], y_train], axis = 1) # Adding Survived Column in train dataset for Comaparison\n",
    "cols = ['Parch', 'SibSp']\n",
    "\n",
    "fig, ax = plt.subplots(nrows = 1, ncols = 2, figsize = (15, 5))\n",
    "\n",
    "for col, subplot in zip(cols, ax.flatten()):\n",
    "    sns.countplot(data = train_collated, x = col,  hue = 'Survived', ax = subplot, palette = 'magma')\n",
    "    subplot.legend(loc = 'upper right', title = 'Survived')\n",
    "    \n",
    "plt.show()"
   ]
  },
  {
   "cell_type": "markdown",
   "id": "a7d309ca",
   "metadata": {
    "papermill": {
     "duration": 0.029574,
     "end_time": "2022-08-20T14:25:35.643988",
     "exception": false,
     "start_time": "2022-08-20T14:25:35.614414",
     "status": "completed"
    },
    "tags": []
   },
   "source": [
    "**Observation:** : Both Parch and SibSp shows similar Survival trends  \n",
    "\n",
    "**Next Step :** Lets create a new variable called 'Family_Count' which will help to describe these variables better"
   ]
  },
  {
   "cell_type": "code",
   "execution_count": 37,
   "id": "694be808",
   "metadata": {
    "execution": {
     "iopub.execute_input": "2022-08-20T14:25:35.705543Z",
     "iopub.status.busy": "2022-08-20T14:25:35.705093Z",
     "iopub.status.idle": "2022-08-20T14:25:35.723384Z",
     "shell.execute_reply": "2022-08-20T14:25:35.722625Z"
    },
    "papermill": {
     "duration": 0.051631,
     "end_time": "2022-08-20T14:25:35.725409",
     "exception": false,
     "start_time": "2022-08-20T14:25:35.673778",
     "status": "completed"
    },
    "tags": []
   },
   "outputs": [
    {
     "data": {
      "text/html": [
       "<div>\n",
       "<style scoped>\n",
       "    .dataframe tbody tr th:only-of-type {\n",
       "        vertical-align: middle;\n",
       "    }\n",
       "\n",
       "    .dataframe tbody tr th {\n",
       "        vertical-align: top;\n",
       "    }\n",
       "\n",
       "    .dataframe thead th {\n",
       "        text-align: right;\n",
       "    }\n",
       "</style>\n",
       "<table border=\"1\" class=\"dataframe\">\n",
       "  <thead>\n",
       "    <tr style=\"text-align: right;\">\n",
       "      <th></th>\n",
       "      <th>PassengerId</th>\n",
       "      <th>Pclass</th>\n",
       "      <th>Name</th>\n",
       "      <th>Age</th>\n",
       "      <th>Sex</th>\n",
       "      <th>SibSp</th>\n",
       "      <th>Parch</th>\n",
       "      <th>Ticket</th>\n",
       "      <th>Fare</th>\n",
       "      <th>Cabin</th>\n",
       "      <th>FareGroup</th>\n",
       "      <th>Embarked</th>\n",
       "      <th>FamilyCount</th>\n",
       "    </tr>\n",
       "  </thead>\n",
       "  <tbody>\n",
       "    <tr>\n",
       "      <th>0</th>\n",
       "      <td>1</td>\n",
       "      <td>3</td>\n",
       "      <td>Braund, Mr. Owen Harris</td>\n",
       "      <td>22</td>\n",
       "      <td>male</td>\n",
       "      <td>1</td>\n",
       "      <td>0</td>\n",
       "      <td>A/5 21171</td>\n",
       "      <td>7.2500</td>\n",
       "      <td>Not Present</td>\n",
       "      <td>VeryLowFare</td>\n",
       "      <td>S</td>\n",
       "      <td>2</td>\n",
       "    </tr>\n",
       "    <tr>\n",
       "      <th>1</th>\n",
       "      <td>2</td>\n",
       "      <td>1</td>\n",
       "      <td>Cumings, Mrs. John Bradley (Florence Briggs Th...</td>\n",
       "      <td>38</td>\n",
       "      <td>female</td>\n",
       "      <td>1</td>\n",
       "      <td>0</td>\n",
       "      <td>PC 17599</td>\n",
       "      <td>71.2833</td>\n",
       "      <td>Present</td>\n",
       "      <td>HighFare</td>\n",
       "      <td>C</td>\n",
       "      <td>2</td>\n",
       "    </tr>\n",
       "    <tr>\n",
       "      <th>2</th>\n",
       "      <td>3</td>\n",
       "      <td>3</td>\n",
       "      <td>Heikkinen, Miss. Laina</td>\n",
       "      <td>26</td>\n",
       "      <td>female</td>\n",
       "      <td>0</td>\n",
       "      <td>0</td>\n",
       "      <td>STON/O2. 3101282</td>\n",
       "      <td>7.9250</td>\n",
       "      <td>Not Present</td>\n",
       "      <td>LowFare</td>\n",
       "      <td>S</td>\n",
       "      <td>1</td>\n",
       "    </tr>\n",
       "    <tr>\n",
       "      <th>3</th>\n",
       "      <td>4</td>\n",
       "      <td>1</td>\n",
       "      <td>Futrelle, Mrs. Jacques Heath (Lily May Peel)</td>\n",
       "      <td>35</td>\n",
       "      <td>female</td>\n",
       "      <td>1</td>\n",
       "      <td>0</td>\n",
       "      <td>113803</td>\n",
       "      <td>53.1000</td>\n",
       "      <td>Present</td>\n",
       "      <td>HighFare</td>\n",
       "      <td>S</td>\n",
       "      <td>2</td>\n",
       "    </tr>\n",
       "    <tr>\n",
       "      <th>4</th>\n",
       "      <td>5</td>\n",
       "      <td>3</td>\n",
       "      <td>Allen, Mr. William Henry</td>\n",
       "      <td>35</td>\n",
       "      <td>male</td>\n",
       "      <td>0</td>\n",
       "      <td>0</td>\n",
       "      <td>373450</td>\n",
       "      <td>8.0500</td>\n",
       "      <td>Not Present</td>\n",
       "      <td>LowFare</td>\n",
       "      <td>S</td>\n",
       "      <td>1</td>\n",
       "    </tr>\n",
       "  </tbody>\n",
       "</table>\n",
       "</div>"
      ],
      "text/plain": [
       "   PassengerId  Pclass                                               Name  \\\n",
       "0            1       3                            Braund, Mr. Owen Harris   \n",
       "1            2       1  Cumings, Mrs. John Bradley (Florence Briggs Th...   \n",
       "2            3       3                             Heikkinen, Miss. Laina   \n",
       "3            4       1       Futrelle, Mrs. Jacques Heath (Lily May Peel)   \n",
       "4            5       3                           Allen, Mr. William Henry   \n",
       "\n",
       "   Age     Sex  SibSp  Parch            Ticket     Fare        Cabin  \\\n",
       "0   22    male      1      0         A/5 21171   7.2500  Not Present   \n",
       "1   38  female      1      0          PC 17599  71.2833      Present   \n",
       "2   26  female      0      0  STON/O2. 3101282   7.9250  Not Present   \n",
       "3   35  female      1      0            113803  53.1000      Present   \n",
       "4   35    male      0      0            373450   8.0500  Not Present   \n",
       "\n",
       "     FareGroup Embarked  FamilyCount  \n",
       "0  VeryLowFare        S            2  \n",
       "1     HighFare        C            2  \n",
       "2      LowFare        S            1  \n",
       "3     HighFare        S            2  \n",
       "4      LowFare        S            1  "
      ]
     },
     "execution_count": 37,
     "metadata": {},
     "output_type": "execute_result"
    }
   ],
   "source": [
    "#Creating FamilyCount out of Parch and SibSp:\n",
    "titan_ads['FamilyCount'] = 1 + titan_ads['SibSp'] + titan_ads['Parch'] ## Passenger + Parents + Sibilings_Spose\n",
    "titan_ads.head(5)"
   ]
  },
  {
   "cell_type": "code",
   "execution_count": 38,
   "id": "57006e7a",
   "metadata": {
    "execution": {
     "iopub.execute_input": "2022-08-20T14:25:35.787973Z",
     "iopub.status.busy": "2022-08-20T14:25:35.787226Z",
     "iopub.status.idle": "2022-08-20T14:25:36.079270Z",
     "shell.execute_reply": "2022-08-20T14:25:36.077597Z"
    },
    "papermill": {
     "duration": 0.326795,
     "end_time": "2022-08-20T14:25:36.082340",
     "exception": false,
     "start_time": "2022-08-20T14:25:35.755545",
     "status": "completed"
    },
    "tags": []
   },
   "outputs": [
    {
     "data": {
      "image/png": "[encoded data removed]",
      "text/plain": [
       "<Figure size 864x288 with 1 Axes>"
      ]
     },
     "metadata": {
      "needs_background": "light"
     },
     "output_type": "display_data"
    }
   ],
   "source": [
    "#Visualising number of family members w.r.t survival:\n",
    "train_collated = pd.concat([titan_ads.sort_index().iloc[:891], y_train], axis = 1)\n",
    "plt.figure(figsize = (12, 4))\n",
    "sns.countplot(data = train_collated, x = 'FamilyCount', hue = 'Survived', palette = 'magma')\n",
    "plt.legend(loc = 'upper right', title = 'Survived')\n",
    "plt.show()"
   ]
  },
  {
   "cell_type": "markdown",
   "id": "f0a20eba",
   "metadata": {
    "papermill": {
     "duration": 0.030559,
     "end_time": "2022-08-20T14:25:36.144970",
     "exception": false,
     "start_time": "2022-08-20T14:25:36.114411",
     "status": "completed"
    },
    "tags": []
   },
   "source": [
    "**Observation:** : \n",
    "* When FamilyCount = 1, Survival rate is low however for FamilyCount between 2-4, there is an increase in rate of survival and the trend drops as the FamilyCount increases\n",
    "* **Next Step :** Lets create groups for these Family count range buckets"
   ]
  },
  {
   "cell_type": "code",
   "execution_count": 39,
   "id": "ad36ac12",
   "metadata": {
    "execution": {
     "iopub.execute_input": "2022-08-20T14:25:36.208489Z",
     "iopub.status.busy": "2022-08-20T14:25:36.207323Z",
     "iopub.status.idle": "2022-08-20T14:25:36.220477Z",
     "shell.execute_reply": "2022-08-20T14:25:36.219326Z"
    },
    "papermill": {
     "duration": 0.047007,
     "end_time": "2022-08-20T14:25:36.222513",
     "exception": false,
     "start_time": "2022-08-20T14:25:36.175506",
     "status": "completed"
    },
    "tags": []
   },
   "outputs": [
    {
     "data": {
      "text/plain": [
       "FamilyGroup\n",
       "Single    790\n",
       "Medium    437\n",
       "Large      82\n",
       "dtype: int64"
      ]
     },
     "execution_count": 39,
     "metadata": {},
     "output_type": "execute_result"
    }
   ],
   "source": [
    "def familygroupcreation(FG): # Creating a user-defined function for creating Family buckets\n",
    "    FamilyGroup = [] # Array declartion\n",
    "    if FG == 1 : \n",
    "        FamilyGroup = \"Single\" \n",
    "    if FG > 1 and FG < 5 : \n",
    "        FamilyGroup = \"Medium\"       \n",
    "    if FG >= 5 :\n",
    "        FamilyGroup = \"Large\"\n",
    "\n",
    "    return FamilyGroup\n",
    "\n",
    "Family_Group = [familygroupcreation(FG) for FG in titan_ads.FamilyCount] # Function call\n",
    "\n",
    "\n",
    "titan_ads.insert(3, \"FamilyGroup\", Family_Group) # Adding new column in data-set\n",
    "\n",
    "Family_Group_distr = titan_ads.groupby(\"FamilyGroup\").size().sort_values(ascending = False)\n",
    "Family_Group_distr"
   ]
  },
  {
   "cell_type": "code",
   "execution_count": 40,
   "id": "b8cc95a6",
   "metadata": {
    "execution": {
     "iopub.execute_input": "2022-08-20T14:25:36.285768Z",
     "iopub.status.busy": "2022-08-20T14:25:36.285278Z",
     "iopub.status.idle": "2022-08-20T14:25:36.511655Z",
     "shell.execute_reply": "2022-08-20T14:25:36.510945Z"
    },
    "papermill": {
     "duration": 0.260263,
     "end_time": "2022-08-20T14:25:36.513540",
     "exception": false,
     "start_time": "2022-08-20T14:25:36.253277",
     "status": "completed"
    },
    "tags": []
   },
   "outputs": [
    {
     "data": {
      "image/png": "[encoded data removed]",
      "text/plain": [
       "<Figure size 720x360 with 1 Axes>"
      ]
     },
     "metadata": {
      "needs_background": "light"
     },
     "output_type": "display_data"
    }
   ],
   "source": [
    "# Relationship between Survival and Family Groups \n",
    "\n",
    "\n",
    "train_collated = pd.concat([titan_ads.sort_index().iloc[:891], y_train], axis = 1)\n",
    "fsSurvival = train_collated.groupby(by = 'FamilyGroup')['Survived'].value_counts()\n",
    "\n",
    "plt.figure(figsize = (10, 5))\n",
    "sns.countplot(data = train_collated, x = 'FamilyGroup', hue = 'Survived', order = ['Single', 'Medium', 'Large'], palette = 'magma')\n",
    "\n",
    "plt.text(x = -0.27, y = fsSurvival['Single'][0] + 3, s = \"{}%\".format(((fsSurvival['Single'][0]/fsSurvival['Single'].sum())*100).round(2)), fontsize = 10)\n",
    "plt.text(x = 0.11, y = fsSurvival['Single'][1] + 3, s = \"{}%\".format(((fsSurvival['Single'][1]/fsSurvival['Single'].sum())*100).round(2)), fontsize = 10)\n",
    "plt.text(x = -0.27 + 1, y = fsSurvival['Medium'][0] + 3, s = \"{}%\".format(((fsSurvival['Medium'][0]/fsSurvival['Medium'].sum())*100).round(2)), fontsize = 10)\n",
    "plt.text(x = 0.11 + 1, y = fsSurvival['Medium'][1] + 3, s = \"{}%\".format(((fsSurvival['Medium'][1]/fsSurvival['Medium'].sum())*100).round(2)), fontsize = 10)\n",
    "plt.text(x = -0.27 + 2, y = fsSurvival['Large'][0] + 3, s = \"{}%\".format(((fsSurvival['Large'][0]/fsSurvival['Large'].sum())*100).round(2)), fontsize = 10)\n",
    "plt.text(x = 0.11 + 2, y = fsSurvival['Large'][1] + 3, s = \"{}%\".format(((fsSurvival['Large'][1]/fsSurvival['Large'].sum())*100).round(2)), fontsize = 10)\n",
    "\n",
    "plt.xlabel('Family Group', fontsize = 15)\n",
    "plt.ylabel('Count', fontsize = 15)\n",
    "\n",
    "plt.xticks([0, 1, 2], ['No Family (Single)', 'Medium Sized Family', 'Large Family'], fontsize = 10)\n",
    "plt.title('Survival Distribution among different Family Group', fontsize = 18)\n",
    "\n",
    "plt.tight_layout(pad = -5)\n",
    "plt.show()"
   ]
  },
  {
   "cell_type": "markdown",
   "id": "6e54873e",
   "metadata": {
    "papermill": {
     "duration": 0.034909,
     "end_time": "2022-08-20T14:25:36.580060",
     "exception": false,
     "start_time": "2022-08-20T14:25:36.545151",
     "status": "completed"
    },
    "tags": []
   },
   "source": [
    "**Observation:**\n",
    "* Distinct corelation can be observed among Family Groups w.r.t Survival\n",
    "* 'FamilyGroup' has been considered as an important feature for modelling"
   ]
  },
  {
   "cell_type": "markdown",
   "id": "0d3655f8",
   "metadata": {
    "papermill": {
     "duration": 0.030736,
     "end_time": "2022-08-20T14:25:36.642957",
     "exception": false,
     "start_time": "2022-08-20T14:25:36.612221",
     "status": "completed"
    },
    "tags": []
   },
   "source": [
    "### **Step - 4.7 :** Analysis on Age"
   ]
  },
  {
   "cell_type": "code",
   "execution_count": 41,
   "id": "8e316b45",
   "metadata": {
    "execution": {
     "iopub.execute_input": "2022-08-20T14:25:36.707018Z",
     "iopub.status.busy": "2022-08-20T14:25:36.706467Z",
     "iopub.status.idle": "2022-08-20T14:25:37.250489Z",
     "shell.execute_reply": "2022-08-20T14:25:37.249438Z"
    },
    "papermill": {
     "duration": 0.578827,
     "end_time": "2022-08-20T14:25:37.252938",
     "exception": false,
     "start_time": "2022-08-20T14:25:36.674111",
     "status": "completed"
    },
    "tags": []
   },
   "outputs": [
    {
     "data": {
      "image/png": "[encoded data removed]",
      "text/plain": [
       "<Figure size 1080x576 with 1 Axes>"
      ]
     },
     "metadata": {
      "needs_background": "light"
     },
     "output_type": "display_data"
    }
   ],
   "source": [
    "train_collated = pd.concat([titan_ads.sort_index().iloc[:891], y_train], axis = 1)\n",
    "\n",
    "plt.figure(figsize = (15, 8))\n",
    "sns.histplot(data = train_collated, x = 'Age', hue = 'Survived', multiple = 'stack', bins = 80, palette = 'magma')\n",
    "plt.show()"
   ]
  },
  {
   "cell_type": "markdown",
   "id": "330815fb",
   "metadata": {
    "papermill": {
     "duration": 0.031235,
     "end_time": "2022-08-20T14:25:37.316147",
     "exception": false,
     "start_time": "2022-08-20T14:25:37.284912",
     "status": "completed"
    },
    "tags": []
   },
   "source": [
    "**Note :** Lets create buckets to understand age better"
   ]
  },
  {
   "cell_type": "code",
   "execution_count": 42,
   "id": "c41424ff",
   "metadata": {
    "execution": {
     "iopub.execute_input": "2022-08-20T14:25:37.380661Z",
     "iopub.status.busy": "2022-08-20T14:25:37.380249Z",
     "iopub.status.idle": "2022-08-20T14:25:37.393953Z",
     "shell.execute_reply": "2022-08-20T14:25:37.392953Z"
    },
    "papermill": {
     "duration": 0.048536,
     "end_time": "2022-08-20T14:25:37.396094",
     "exception": false,
     "start_time": "2022-08-20T14:25:37.347558",
     "status": "completed"
    },
    "tags": []
   },
   "outputs": [
    {
     "data": {
      "text/plain": [
       "AgeGroup\n",
       "Adult    1083\n",
       "Young     185\n",
       "Old        41\n",
       "dtype: int64"
      ]
     },
     "execution_count": 42,
     "metadata": {},
     "output_type": "execute_result"
    }
   ],
   "source": [
    "def age_bucket(AG): # Creating a user-defined function for creating Age buckets\n",
    "    AgeGroup = [] # Array declartion\n",
    "    if AG > 0 and AG <= 18 : \n",
    "        AgeGroup = \"Young\" \n",
    "    if AG > 18 and AG <= 60 : \n",
    "        AgeGroup = \"Adult\"       \n",
    "    if AG > 60 :\n",
    "        AgeGroup = \"Old\"\n",
    "\n",
    "    return AgeGroup\n",
    "\n",
    "Age_Group = [age_bucket(AG) for AG in titan_ads.Age] # Function call\n",
    "\n",
    "\n",
    "titan_ads.insert(3, \"AgeGroup\", Age_Group) # Adding new column in data-set\n",
    "\n",
    "Age_Group_distr = titan_ads.groupby(\"AgeGroup\").size().sort_values(ascending = False)\n",
    "Age_Group_distr"
   ]
  },
  {
   "cell_type": "code",
   "execution_count": 43,
   "id": "af94f855",
   "metadata": {
    "execution": {
     "iopub.execute_input": "2022-08-20T14:25:37.460837Z",
     "iopub.status.busy": "2022-08-20T14:25:37.460401Z",
     "iopub.status.idle": "2022-08-20T14:25:37.757694Z",
     "shell.execute_reply": "2022-08-20T14:25:37.756611Z"
    },
    "papermill": {
     "duration": 0.332601,
     "end_time": "2022-08-20T14:25:37.760048",
     "exception": false,
     "start_time": "2022-08-20T14:25:37.427447",
     "status": "completed"
    },
    "tags": []
   },
   "outputs": [
    {
     "data": {
      "image/png": "[encoded data removed]",
      "text/plain": [
       "<Figure size 720x360 with 1 Axes>"
      ]
     },
     "metadata": {
      "needs_background": "light"
     },
     "output_type": "display_data"
    }
   ],
   "source": [
    "# Relationship between Survival and Age Groups \n",
    "\n",
    "train_collated = pd.concat([titan_ads.sort_index().iloc[:891], y_train], axis = 1)\n",
    "agSurvival = train_collated.groupby(by = 'AgeGroup')['Survived'].value_counts()\n",
    "\n",
    "plt.figure(figsize = (10, 5))\n",
    "sns.countplot(data = train_collated, x = 'AgeGroup', hue = 'Survived', order = ['Young', 'Adult', 'Old'], palette = 'magma')\n",
    "\n",
    "plt.text(x = -0.27, y = agSurvival['Young'][0] + 3, s = \"{}%\".format(((agSurvival['Young'][0]/agSurvival['Young'].sum())*100).round(2)), fontsize = 10)\n",
    "plt.text(x = 0.11, y = agSurvival['Young'][1] + 3, s = \"{}%\".format(((agSurvival['Young'][1]/agSurvival['Young'].sum())*100).round(2)), fontsize = 10)\n",
    "plt.text(x = -0.27 + 1, y = agSurvival['Adult'][0] + 3, s = \"{}%\".format(((agSurvival['Adult'][0]/agSurvival['Adult'].sum())*100).round(2)), fontsize = 10)\n",
    "plt.text(x = 0.11 + 1, y = agSurvival['Adult'][1] + 3, s = \"{}%\".format(((agSurvival['Adult'][1]/agSurvival['Adult'].sum())*100).round(2)), fontsize = 10)\n",
    "plt.text(x = -0.27 + 2, y = agSurvival['Old'][0] + 3, s = \"{}%\".format(((agSurvival['Old'][0]/agSurvival['Old'].sum())*100).round(2)), fontsize = 10)\n",
    "plt.text(x = 0.11 + 2, y = agSurvival['Old'][1] + 3, s = \"{}%\".format(((agSurvival['Old'][1]/agSurvival['Old'].sum())*100).round(2)), fontsize = 10)\n",
    "\n",
    "plt.xlabel('Age Group', fontsize = 15)\n",
    "plt.ylabel('Count', fontsize = 15)\n",
    "\n",
    "plt.xticks([0, 1, 2], ['Young', 'Adult', 'Old'], fontsize = 10)\n",
    "plt.title('Survival Distribution among different Age Groups', fontsize = 16)\n",
    "\n",
    "plt.tight_layout(pad = -5)\n",
    "plt.show()"
   ]
  },
  {
   "cell_type": "markdown",
   "id": "aa32be36",
   "metadata": {
    "papermill": {
     "duration": 0.031886,
     "end_time": "2022-08-20T14:25:37.824069",
     "exception": false,
     "start_time": "2022-08-20T14:25:37.792183",
     "status": "completed"
    },
    "tags": []
   },
   "source": [
    "**Observation:**\n",
    "* As age increases, rate of survival decreases\n",
    "* 'AgeGroup' has been considered as an important feature for modelling"
   ]
  },
  {
   "cell_type": "markdown",
   "id": "316eb0ce",
   "metadata": {
    "papermill": {
     "duration": 0.031766,
     "end_time": "2022-08-20T14:25:37.887723",
     "exception": false,
     "start_time": "2022-08-20T14:25:37.855957",
     "status": "completed"
    },
    "tags": []
   },
   "source": [
    "**Note :** Passenger_Id, Name and Ticket were not selected as necessary features because they donot share distinct relatioship with Survival"
   ]
  },
  {
   "cell_type": "markdown",
   "id": "4fa16a59",
   "metadata": {
    "papermill": {
     "duration": 0.031956,
     "end_time": "2022-08-20T14:25:37.953612",
     "exception": false,
     "start_time": "2022-08-20T14:25:37.921656",
     "status": "completed"
    },
    "tags": []
   },
   "source": [
    "### **Step - 4.8 :** Selecting Important Features"
   ]
  },
  {
   "cell_type": "code",
   "execution_count": 44,
   "id": "c530885d",
   "metadata": {
    "execution": {
     "iopub.execute_input": "2022-08-20T14:25:38.020309Z",
     "iopub.status.busy": "2022-08-20T14:25:38.019904Z",
     "iopub.status.idle": "2022-08-20T14:25:38.035616Z",
     "shell.execute_reply": "2022-08-20T14:25:38.034779Z"
    },
    "papermill": {
     "duration": 0.052213,
     "end_time": "2022-08-20T14:25:38.037751",
     "exception": false,
     "start_time": "2022-08-20T14:25:37.985538",
     "status": "completed"
    },
    "tags": []
   },
   "outputs": [
    {
     "data": {
      "text/html": [
       "<div>\n",
       "<style scoped>\n",
       "    .dataframe tbody tr th:only-of-type {\n",
       "        vertical-align: middle;\n",
       "    }\n",
       "\n",
       "    .dataframe tbody tr th {\n",
       "        vertical-align: top;\n",
       "    }\n",
       "\n",
       "    .dataframe thead th {\n",
       "        text-align: right;\n",
       "    }\n",
       "</style>\n",
       "<table border=\"1\" class=\"dataframe\">\n",
       "  <thead>\n",
       "    <tr style=\"text-align: right;\">\n",
       "      <th></th>\n",
       "      <th>Pclass</th>\n",
       "      <th>AgeGroup</th>\n",
       "      <th>FamilyGroup</th>\n",
       "      <th>Sex</th>\n",
       "      <th>Cabin</th>\n",
       "      <th>FareGroup</th>\n",
       "      <th>Embarked</th>\n",
       "    </tr>\n",
       "  </thead>\n",
       "  <tbody>\n",
       "    <tr>\n",
       "      <th>0</th>\n",
       "      <td>3</td>\n",
       "      <td>Adult</td>\n",
       "      <td>Medium</td>\n",
       "      <td>male</td>\n",
       "      <td>Not Present</td>\n",
       "      <td>VeryLowFare</td>\n",
       "      <td>S</td>\n",
       "    </tr>\n",
       "    <tr>\n",
       "      <th>1</th>\n",
       "      <td>1</td>\n",
       "      <td>Adult</td>\n",
       "      <td>Medium</td>\n",
       "      <td>female</td>\n",
       "      <td>Present</td>\n",
       "      <td>HighFare</td>\n",
       "      <td>C</td>\n",
       "    </tr>\n",
       "    <tr>\n",
       "      <th>2</th>\n",
       "      <td>3</td>\n",
       "      <td>Adult</td>\n",
       "      <td>Single</td>\n",
       "      <td>female</td>\n",
       "      <td>Not Present</td>\n",
       "      <td>LowFare</td>\n",
       "      <td>S</td>\n",
       "    </tr>\n",
       "    <tr>\n",
       "      <th>3</th>\n",
       "      <td>1</td>\n",
       "      <td>Adult</td>\n",
       "      <td>Medium</td>\n",
       "      <td>female</td>\n",
       "      <td>Present</td>\n",
       "      <td>HighFare</td>\n",
       "      <td>S</td>\n",
       "    </tr>\n",
       "    <tr>\n",
       "      <th>4</th>\n",
       "      <td>3</td>\n",
       "      <td>Adult</td>\n",
       "      <td>Single</td>\n",
       "      <td>male</td>\n",
       "      <td>Not Present</td>\n",
       "      <td>LowFare</td>\n",
       "      <td>S</td>\n",
       "    </tr>\n",
       "  </tbody>\n",
       "</table>\n",
       "</div>"
      ],
      "text/plain": [
       "   Pclass AgeGroup FamilyGroup     Sex        Cabin    FareGroup Embarked\n",
       "0       3    Adult      Medium    male  Not Present  VeryLowFare        S\n",
       "1       1    Adult      Medium  female      Present     HighFare        C\n",
       "2       3    Adult      Single  female  Not Present      LowFare        S\n",
       "3       1    Adult      Medium  female      Present     HighFare        S\n",
       "4       3    Adult      Single    male  Not Present      LowFare        S"
      ]
     },
     "execution_count": 44,
     "metadata": {},
     "output_type": "execute_result"
    }
   ],
   "source": [
    "titan_features = titan_ads # Cloning to avoid any data tampering\n",
    "\n",
    "titan_features.drop(['PassengerId', 'Name', 'Ticket', 'Parch', 'SibSp', 'FamilyCount', 'Fare', 'Age'], axis  = 1, inplace = True) # Dropping all the unnecessary features\n",
    "titan_features.head(5)"
   ]
  },
  {
   "cell_type": "markdown",
   "id": "bcfdea6a",
   "metadata": {
    "papermill": {
     "duration": 0.032601,
     "end_time": "2022-08-20T14:25:38.102939",
     "exception": false,
     "start_time": "2022-08-20T14:25:38.070338",
     "status": "completed"
    },
    "tags": []
   },
   "source": [
    "**Step - 4.9 :** Encoding"
   ]
  },
  {
   "cell_type": "code",
   "execution_count": 45,
   "id": "089e8a4a",
   "metadata": {
    "execution": {
     "iopub.execute_input": "2022-08-20T14:25:38.171066Z",
     "iopub.status.busy": "2022-08-20T14:25:38.170098Z",
     "iopub.status.idle": "2022-08-20T14:25:38.193296Z",
     "shell.execute_reply": "2022-08-20T14:25:38.192593Z"
    },
    "papermill": {
     "duration": 0.059161,
     "end_time": "2022-08-20T14:25:38.195238",
     "exception": false,
     "start_time": "2022-08-20T14:25:38.136077",
     "status": "completed"
    },
    "tags": []
   },
   "outputs": [
    {
     "data": {
      "text/html": [
       "<div>\n",
       "<style scoped>\n",
       "    .dataframe tbody tr th:only-of-type {\n",
       "        vertical-align: middle;\n",
       "    }\n",
       "\n",
       "    .dataframe tbody tr th {\n",
       "        vertical-align: top;\n",
       "    }\n",
       "\n",
       "    .dataframe thead th {\n",
       "        text-align: right;\n",
       "    }\n",
       "</style>\n",
       "<table border=\"1\" class=\"dataframe\">\n",
       "  <thead>\n",
       "    <tr style=\"text-align: right;\">\n",
       "      <th></th>\n",
       "      <th>Pclass</th>\n",
       "      <th>AgeGroup_Adult</th>\n",
       "      <th>AgeGroup_Old</th>\n",
       "      <th>AgeGroup_Young</th>\n",
       "      <th>FamilyGroup_Large</th>\n",
       "      <th>FamilyGroup_Medium</th>\n",
       "      <th>FamilyGroup_Single</th>\n",
       "      <th>Sex_female</th>\n",
       "      <th>Sex_male</th>\n",
       "      <th>Cabin_Not Present</th>\n",
       "      <th>Cabin_Present</th>\n",
       "      <th>FareGroup_HighFare</th>\n",
       "      <th>FareGroup_LowFare</th>\n",
       "      <th>FareGroup_MediumFare</th>\n",
       "      <th>FareGroup_VeryLowFare</th>\n",
       "      <th>Embarked_C</th>\n",
       "      <th>Embarked_Q</th>\n",
       "      <th>Embarked_S</th>\n",
       "    </tr>\n",
       "  </thead>\n",
       "  <tbody>\n",
       "    <tr>\n",
       "      <th>0</th>\n",
       "      <td>3</td>\n",
       "      <td>1</td>\n",
       "      <td>0</td>\n",
       "      <td>0</td>\n",
       "      <td>0</td>\n",
       "      <td>1</td>\n",
       "      <td>0</td>\n",
       "      <td>0</td>\n",
       "      <td>1</td>\n",
       "      <td>1</td>\n",
       "      <td>0</td>\n",
       "      <td>0</td>\n",
       "      <td>0</td>\n",
       "      <td>0</td>\n",
       "      <td>1</td>\n",
       "      <td>0</td>\n",
       "      <td>0</td>\n",
       "      <td>1</td>\n",
       "    </tr>\n",
       "    <tr>\n",
       "      <th>1</th>\n",
       "      <td>1</td>\n",
       "      <td>1</td>\n",
       "      <td>0</td>\n",
       "      <td>0</td>\n",
       "      <td>0</td>\n",
       "      <td>1</td>\n",
       "      <td>0</td>\n",
       "      <td>1</td>\n",
       "      <td>0</td>\n",
       "      <td>0</td>\n",
       "      <td>1</td>\n",
       "      <td>1</td>\n",
       "      <td>0</td>\n",
       "      <td>0</td>\n",
       "      <td>0</td>\n",
       "      <td>1</td>\n",
       "      <td>0</td>\n",
       "      <td>0</td>\n",
       "    </tr>\n",
       "    <tr>\n",
       "      <th>2</th>\n",
       "      <td>3</td>\n",
       "      <td>1</td>\n",
       "      <td>0</td>\n",
       "      <td>0</td>\n",
       "      <td>0</td>\n",
       "      <td>0</td>\n",
       "      <td>1</td>\n",
       "      <td>1</td>\n",
       "      <td>0</td>\n",
       "      <td>1</td>\n",
       "      <td>0</td>\n",
       "      <td>0</td>\n",
       "      <td>1</td>\n",
       "      <td>0</td>\n",
       "      <td>0</td>\n",
       "      <td>0</td>\n",
       "      <td>0</td>\n",
       "      <td>1</td>\n",
       "    </tr>\n",
       "    <tr>\n",
       "      <th>3</th>\n",
       "      <td>1</td>\n",
       "      <td>1</td>\n",
       "      <td>0</td>\n",
       "      <td>0</td>\n",
       "      <td>0</td>\n",
       "      <td>1</td>\n",
       "      <td>0</td>\n",
       "      <td>1</td>\n",
       "      <td>0</td>\n",
       "      <td>0</td>\n",
       "      <td>1</td>\n",
       "      <td>1</td>\n",
       "      <td>0</td>\n",
       "      <td>0</td>\n",
       "      <td>0</td>\n",
       "      <td>0</td>\n",
       "      <td>0</td>\n",
       "      <td>1</td>\n",
       "    </tr>\n",
       "    <tr>\n",
       "      <th>4</th>\n",
       "      <td>3</td>\n",
       "      <td>1</td>\n",
       "      <td>0</td>\n",
       "      <td>0</td>\n",
       "      <td>0</td>\n",
       "      <td>0</td>\n",
       "      <td>1</td>\n",
       "      <td>0</td>\n",
       "      <td>1</td>\n",
       "      <td>1</td>\n",
       "      <td>0</td>\n",
       "      <td>0</td>\n",
       "      <td>1</td>\n",
       "      <td>0</td>\n",
       "      <td>0</td>\n",
       "      <td>0</td>\n",
       "      <td>0</td>\n",
       "      <td>1</td>\n",
       "    </tr>\n",
       "  </tbody>\n",
       "</table>\n",
       "</div>"
      ],
      "text/plain": [
       "   Pclass  AgeGroup_Adult  AgeGroup_Old  AgeGroup_Young  FamilyGroup_Large  \\\n",
       "0       3               1             0               0                  0   \n",
       "1       1               1             0               0                  0   \n",
       "2       3               1             0               0                  0   \n",
       "3       1               1             0               0                  0   \n",
       "4       3               1             0               0                  0   \n",
       "\n",
       "   FamilyGroup_Medium  FamilyGroup_Single  Sex_female  Sex_male  \\\n",
       "0                   1                   0           0         1   \n",
       "1                   1                   0           1         0   \n",
       "2                   0                   1           1         0   \n",
       "3                   1                   0           1         0   \n",
       "4                   0                   1           0         1   \n",
       "\n",
       "   Cabin_Not Present  Cabin_Present  FareGroup_HighFare  FareGroup_LowFare  \\\n",
       "0                  1              0                   0                  0   \n",
       "1                  0              1                   1                  0   \n",
       "2                  1              0                   0                  1   \n",
       "3                  0              1                   1                  0   \n",
       "4                  1              0                   0                  1   \n",
       "\n",
       "   FareGroup_MediumFare  FareGroup_VeryLowFare  Embarked_C  Embarked_Q  \\\n",
       "0                     0                      1           0           0   \n",
       "1                     0                      0           1           0   \n",
       "2                     0                      0           0           0   \n",
       "3                     0                      0           0           0   \n",
       "4                     0                      0           0           0   \n",
       "\n",
       "   Embarked_S  \n",
       "0           1  \n",
       "1           0  \n",
       "2           1  \n",
       "3           1  \n",
       "4           1  "
      ]
     },
     "execution_count": 45,
     "metadata": {},
     "output_type": "execute_result"
    }
   ],
   "source": [
    "titan_encoded_features = pd.get_dummies(titan_features, drop_first = False) # Encoding categorical variables\n",
    "titan_encoded_features.head(5)"
   ]
  },
  {
   "cell_type": "markdown",
   "id": "9421a420",
   "metadata": {
    "papermill": {
     "duration": 0.032576,
     "end_time": "2022-08-20T14:25:38.261141",
     "exception": false,
     "start_time": "2022-08-20T14:25:38.228565",
     "status": "completed"
    },
    "tags": []
   },
   "source": [
    "**Step - 4.10 :** Finding Corelation among Important Features"
   ]
  },
  {
   "cell_type": "code",
   "execution_count": 46,
   "id": "593623c5",
   "metadata": {
    "execution": {
     "iopub.execute_input": "2022-08-20T14:25:38.329959Z",
     "iopub.status.busy": "2022-08-20T14:25:38.329208Z",
     "iopub.status.idle": "2022-08-20T14:25:40.015337Z",
     "shell.execute_reply": "2022-08-20T14:25:40.014307Z"
    },
    "papermill": {
     "duration": 1.725388,
     "end_time": "2022-08-20T14:25:40.019966",
     "exception": false,
     "start_time": "2022-08-20T14:25:38.294578",
     "status": "completed"
    },
    "tags": []
   },
   "outputs": [
    {
     "data": {
      "text/plain": [
       "<AxesSubplot:>"
      ]
     },
     "execution_count": 46,
     "metadata": {},
     "output_type": "execute_result"
    },
    {
     "data": {
      "image/png": "[encoded data removed]",
      "text/plain": [
       "<Figure size 1440x648 with 2 Axes>"
      ]
     },
     "metadata": {
      "needs_background": "light"
     },
     "output_type": "display_data"
    }
   ],
   "source": [
    "corrmat = titan_encoded_features.corr()\n",
    "  \n",
    "f, ax = plt.subplots(figsize =(20, 9))\n",
    "sns.heatmap(corrmat, ax = ax, cmap =\"YlGnBu\", linewidths = 0.1, annot=True)"
   ]
  },
  {
   "cell_type": "code",
   "execution_count": 47,
   "id": "06a4bfac",
   "metadata": {
    "execution": {
     "iopub.execute_input": "2022-08-20T14:25:40.095409Z",
     "iopub.status.busy": "2022-08-20T14:25:40.094698Z",
     "iopub.status.idle": "2022-08-20T14:25:40.110876Z",
     "shell.execute_reply": "2022-08-20T14:25:40.110044Z"
    },
    "papermill": {
     "duration": 0.056301,
     "end_time": "2022-08-20T14:25:40.113059",
     "exception": false,
     "start_time": "2022-08-20T14:25:40.056758",
     "status": "completed"
    },
    "tags": []
   },
   "outputs": [
    {
     "data": {
      "text/html": [
       "<div>\n",
       "<style scoped>\n",
       "    .dataframe tbody tr th:only-of-type {\n",
       "        vertical-align: middle;\n",
       "    }\n",
       "\n",
       "    .dataframe tbody tr th {\n",
       "        vertical-align: top;\n",
       "    }\n",
       "\n",
       "    .dataframe thead th {\n",
       "        text-align: right;\n",
       "    }\n",
       "</style>\n",
       "<table border=\"1\" class=\"dataframe\">\n",
       "  <thead>\n",
       "    <tr style=\"text-align: right;\">\n",
       "      <th></th>\n",
       "      <th>Pclass</th>\n",
       "      <th>AgeGroup_Adult</th>\n",
       "      <th>AgeGroup_Old</th>\n",
       "      <th>AgeGroup_Young</th>\n",
       "      <th>FamilyGroup_Large</th>\n",
       "      <th>FamilyGroup_Medium</th>\n",
       "      <th>FamilyGroup_Single</th>\n",
       "      <th>Sex_female</th>\n",
       "      <th>Cabin_Present</th>\n",
       "      <th>FareGroup_HighFare</th>\n",
       "      <th>FareGroup_LowFare</th>\n",
       "      <th>FareGroup_MediumFare</th>\n",
       "      <th>FareGroup_VeryLowFare</th>\n",
       "      <th>Embarked_C</th>\n",
       "      <th>Embarked_Q</th>\n",
       "      <th>Embarked_S</th>\n",
       "    </tr>\n",
       "  </thead>\n",
       "  <tbody>\n",
       "    <tr>\n",
       "      <th>0</th>\n",
       "      <td>3</td>\n",
       "      <td>1</td>\n",
       "      <td>0</td>\n",
       "      <td>0</td>\n",
       "      <td>0</td>\n",
       "      <td>1</td>\n",
       "      <td>0</td>\n",
       "      <td>0</td>\n",
       "      <td>0</td>\n",
       "      <td>0</td>\n",
       "      <td>0</td>\n",
       "      <td>0</td>\n",
       "      <td>1</td>\n",
       "      <td>0</td>\n",
       "      <td>0</td>\n",
       "      <td>1</td>\n",
       "    </tr>\n",
       "    <tr>\n",
       "      <th>1</th>\n",
       "      <td>1</td>\n",
       "      <td>1</td>\n",
       "      <td>0</td>\n",
       "      <td>0</td>\n",
       "      <td>0</td>\n",
       "      <td>1</td>\n",
       "      <td>0</td>\n",
       "      <td>1</td>\n",
       "      <td>1</td>\n",
       "      <td>1</td>\n",
       "      <td>0</td>\n",
       "      <td>0</td>\n",
       "      <td>0</td>\n",
       "      <td>1</td>\n",
       "      <td>0</td>\n",
       "      <td>0</td>\n",
       "    </tr>\n",
       "    <tr>\n",
       "      <th>2</th>\n",
       "      <td>3</td>\n",
       "      <td>1</td>\n",
       "      <td>0</td>\n",
       "      <td>0</td>\n",
       "      <td>0</td>\n",
       "      <td>0</td>\n",
       "      <td>1</td>\n",
       "      <td>1</td>\n",
       "      <td>0</td>\n",
       "      <td>0</td>\n",
       "      <td>1</td>\n",
       "      <td>0</td>\n",
       "      <td>0</td>\n",
       "      <td>0</td>\n",
       "      <td>0</td>\n",
       "      <td>1</td>\n",
       "    </tr>\n",
       "    <tr>\n",
       "      <th>3</th>\n",
       "      <td>1</td>\n",
       "      <td>1</td>\n",
       "      <td>0</td>\n",
       "      <td>0</td>\n",
       "      <td>0</td>\n",
       "      <td>1</td>\n",
       "      <td>0</td>\n",
       "      <td>1</td>\n",
       "      <td>1</td>\n",
       "      <td>1</td>\n",
       "      <td>0</td>\n",
       "      <td>0</td>\n",
       "      <td>0</td>\n",
       "      <td>0</td>\n",
       "      <td>0</td>\n",
       "      <td>1</td>\n",
       "    </tr>\n",
       "    <tr>\n",
       "      <th>4</th>\n",
       "      <td>3</td>\n",
       "      <td>1</td>\n",
       "      <td>0</td>\n",
       "      <td>0</td>\n",
       "      <td>0</td>\n",
       "      <td>0</td>\n",
       "      <td>1</td>\n",
       "      <td>0</td>\n",
       "      <td>0</td>\n",
       "      <td>0</td>\n",
       "      <td>1</td>\n",
       "      <td>0</td>\n",
       "      <td>0</td>\n",
       "      <td>0</td>\n",
       "      <td>0</td>\n",
       "      <td>1</td>\n",
       "    </tr>\n",
       "  </tbody>\n",
       "</table>\n",
       "</div>"
      ],
      "text/plain": [
       "   Pclass  AgeGroup_Adult  AgeGroup_Old  AgeGroup_Young  FamilyGroup_Large  \\\n",
       "0       3               1             0               0                  0   \n",
       "1       1               1             0               0                  0   \n",
       "2       3               1             0               0                  0   \n",
       "3       1               1             0               0                  0   \n",
       "4       3               1             0               0                  0   \n",
       "\n",
       "   FamilyGroup_Medium  FamilyGroup_Single  Sex_female  Cabin_Present  \\\n",
       "0                   1                   0           0              0   \n",
       "1                   1                   0           1              1   \n",
       "2                   0                   1           1              0   \n",
       "3                   1                   0           1              1   \n",
       "4                   0                   1           0              0   \n",
       "\n",
       "   FareGroup_HighFare  FareGroup_LowFare  FareGroup_MediumFare  \\\n",
       "0                   0                  0                     0   \n",
       "1                   1                  0                     0   \n",
       "2                   0                  1                     0   \n",
       "3                   1                  0                     0   \n",
       "4                   0                  1                     0   \n",
       "\n",
       "   FareGroup_VeryLowFare  Embarked_C  Embarked_Q  Embarked_S  \n",
       "0                      1           0           0           1  \n",
       "1                      0           1           0           0  \n",
       "2                      0           0           0           1  \n",
       "3                      0           0           0           1  \n",
       "4                      0           0           0           1  "
      ]
     },
     "execution_count": 47,
     "metadata": {},
     "output_type": "execute_result"
    }
   ],
   "source": [
    "# Droppinbg some unnecesary encoded features\n",
    "\n",
    "titan_encoded_features.drop(['Sex_male', 'Cabin_Not Present'], axis = 1, inplace = True)\n",
    "titan_encoded_features.head(5)"
   ]
  },
  {
   "cell_type": "code",
   "execution_count": 48,
   "id": "d7665374",
   "metadata": {
    "execution": {
     "iopub.execute_input": "2022-08-20T14:25:40.188762Z",
     "iopub.status.busy": "2022-08-20T14:25:40.188082Z",
     "iopub.status.idle": "2022-08-20T14:25:40.198398Z",
     "shell.execute_reply": "2022-08-20T14:25:40.197685Z"
    },
    "papermill": {
     "duration": 0.050742,
     "end_time": "2022-08-20T14:25:40.200589",
     "exception": false,
     "start_time": "2022-08-20T14:25:40.149847",
     "status": "completed"
    },
    "tags": []
   },
   "outputs": [],
   "source": [
    "#Scaling the independent features:\n",
    "scaler = StandardScaler()\n",
    "scaler.fit(titan_encoded_features)\n",
    "X = scaler.fit_transform(titan_encoded_features)"
   ]
  },
  {
   "cell_type": "markdown",
   "id": "fffcca38",
   "metadata": {
    "papermill": {
     "duration": 0.037094,
     "end_time": "2022-08-20T14:25:40.275405",
     "exception": false,
     "start_time": "2022-08-20T14:25:40.238311",
     "status": "completed"
    },
    "tags": []
   },
   "source": [
    "## **Step - 5 :** Creating Machine Learning Models"
   ]
  },
  {
   "cell_type": "code",
   "execution_count": 49,
   "id": "6362450d",
   "metadata": {
    "execution": {
     "iopub.execute_input": "2022-08-20T14:25:40.351366Z",
     "iopub.status.busy": "2022-08-20T14:25:40.350678Z",
     "iopub.status.idle": "2022-08-20T14:25:40.355077Z",
     "shell.execute_reply": "2022-08-20T14:25:40.354054Z"
    },
    "papermill": {
     "duration": 0.044843,
     "end_time": "2022-08-20T14:25:40.357232",
     "exception": false,
     "start_time": "2022-08-20T14:25:40.312389",
     "status": "completed"
    },
    "tags": []
   },
   "outputs": [],
   "source": [
    "#Splitting the transformed data back into training and testing sets:\n",
    "titan_train_final = X[:891]\n",
    "titan_test_final = X[891:]"
   ]
  },
  {
   "cell_type": "markdown",
   "id": "9ba287d9",
   "metadata": {
    "papermill": {
     "duration": 0.036977,
     "end_time": "2022-08-20T14:25:40.432191",
     "exception": false,
     "start_time": "2022-08-20T14:25:40.395214",
     "status": "completed"
    },
    "tags": []
   },
   "source": [
    "### **Step - 5.1 :** Spliting train data into test-train to feed in model"
   ]
  },
  {
   "cell_type": "code",
   "execution_count": 50,
   "id": "fa17a831",
   "metadata": {
    "execution": {
     "iopub.execute_input": "2022-08-20T14:25:40.507755Z",
     "iopub.status.busy": "2022-08-20T14:25:40.507078Z",
     "iopub.status.idle": "2022-08-20T14:25:40.514165Z",
     "shell.execute_reply": "2022-08-20T14:25:40.513259Z"
    },
    "papermill": {
     "duration": 0.047413,
     "end_time": "2022-08-20T14:25:40.516430",
     "exception": false,
     "start_time": "2022-08-20T14:25:40.469017",
     "status": "completed"
    },
    "tags": []
   },
   "outputs": [],
   "source": [
    "X_train, X_test, y_train, y_test = train_test_split(titan_train_final, y_train, test_size = 0.20, random_state = 42) # test-train: 80-20 split"
   ]
  },
  {
   "cell_type": "markdown",
   "id": "5dafa7cd",
   "metadata": {
    "papermill": {
     "duration": 0.038546,
     "end_time": "2022-08-20T14:25:40.594852",
     "exception": false,
     "start_time": "2022-08-20T14:25:40.556306",
     "status": "completed"
    },
    "tags": []
   },
   "source": [
    "### **Step - 5.2 :** Logistic Regression"
   ]
  },
  {
   "cell_type": "code",
   "execution_count": 51,
   "id": "13d29f0b",
   "metadata": {
    "execution": {
     "iopub.execute_input": "2022-08-20T14:25:40.672231Z",
     "iopub.status.busy": "2022-08-20T14:25:40.671032Z",
     "iopub.status.idle": "2022-08-20T14:25:40.711170Z",
     "shell.execute_reply": "2022-08-20T14:25:40.709784Z"
    },
    "papermill": {
     "duration": 0.082254,
     "end_time": "2022-08-20T14:25:40.714743",
     "exception": false,
     "start_time": "2022-08-20T14:25:40.632489",
     "status": "completed"
    },
    "tags": []
   },
   "outputs": [
    {
     "name": "stdout",
     "output_type": "stream",
     "text": [
      "Training Accuracy of Logistic Regression is 0.8103932584269663\n",
      "Test Accuracy of Logistic Regression is 0.7821229050279329\n",
      "Confusion Matrix : \n",
      " [[86 19]\n",
      " [20 54]]\n",
      "Classification Report : \n",
      "               precision    recall  f1-score   support\n",
      "\n",
      "           0       0.81      0.82      0.82       105\n",
      "           1       0.74      0.73      0.73        74\n",
      "\n",
      "    accuracy                           0.78       179\n",
      "   macro avg       0.78      0.77      0.77       179\n",
      "weighted avg       0.78      0.78      0.78       179\n",
      "\n"
     ]
    }
   ],
   "source": [
    "lr = LogisticRegression()\n",
    "lr.fit(X_train, y_train)\n",
    "\n",
    "lr_acc = accuracy_score(y_test, lr.predict(X_test))\n",
    "\n",
    "print(f\"Training Accuracy of Logistic Regression is {accuracy_score(y_train, lr.predict(X_train))}\")\n",
    "print(f\"Test Accuracy of Logistic Regression is {lr_acc}\")\n",
    "\n",
    "print(f\"Confusion Matrix : \\n {confusion_matrix(y_test, lr.predict(X_test))}\")\n",
    "print(f\"Classification Report : \\n {classification_report(y_test, lr.predict(X_test))}\")"
   ]
  },
  {
   "cell_type": "markdown",
   "id": "06cc12aa",
   "metadata": {
    "papermill": {
     "duration": 0.042136,
     "end_time": "2022-08-20T14:25:40.848892",
     "exception": false,
     "start_time": "2022-08-20T14:25:40.806756",
     "status": "completed"
    },
    "tags": []
   },
   "source": [
    "### **Step - 5.3 :** Decision Tree Classifier"
   ]
  },
  {
   "cell_type": "code",
   "execution_count": 52,
   "id": "d01e7202",
   "metadata": {
    "execution": {
     "iopub.execute_input": "2022-08-20T14:25:40.926028Z",
     "iopub.status.busy": "2022-08-20T14:25:40.925634Z",
     "iopub.status.idle": "2022-08-20T14:25:40.941484Z",
     "shell.execute_reply": "2022-08-20T14:25:40.940433Z"
    },
    "papermill": {
     "duration": 0.05699,
     "end_time": "2022-08-20T14:25:40.943500",
     "exception": false,
     "start_time": "2022-08-20T14:25:40.886510",
     "status": "completed"
    },
    "tags": []
   },
   "outputs": [
    {
     "name": "stdout",
     "output_type": "stream",
     "text": [
      "Training Accuracy of Decision Tree Classifier is 0.8693820224719101\n",
      "Test Accuracy of Decision Tree Classifier is 0.7932960893854749 \n",
      "\n",
      "Confusion Matrix : \n",
      "[[88 17]\n",
      " [20 54]]\n",
      "\n",
      "Classification Report : \n",
      "               precision    recall  f1-score   support\n",
      "\n",
      "           0       0.81      0.84      0.83       105\n",
      "           1       0.76      0.73      0.74        74\n",
      "\n",
      "    accuracy                           0.79       179\n",
      "   macro avg       0.79      0.78      0.79       179\n",
      "weighted avg       0.79      0.79      0.79       179\n",
      "\n"
     ]
    }
   ],
   "source": [
    "dtc = DecisionTreeClassifier()\n",
    "dtc.fit(X_train, y_train)\n",
    "\n",
    "dtc_acc = accuracy_score(y_test, dtc.predict(X_test))\n",
    "\n",
    "print(f\"Training Accuracy of Decision Tree Classifier is {accuracy_score(y_train, dtc.predict(X_train))}\")\n",
    "print(f\"Test Accuracy of Decision Tree Classifier is {dtc_acc} \\n\")\n",
    "\n",
    "print(f\"Confusion Matrix : \\n{confusion_matrix(y_test, dtc.predict(X_test))}\\n\")\n",
    "print(f\"Classification Report : \\n {classification_report(y_test, dtc.predict(X_test))}\")"
   ]
  },
  {
   "cell_type": "markdown",
   "id": "84e185bc",
   "metadata": {
    "papermill": {
     "duration": 0.037005,
     "end_time": "2022-08-20T14:25:41.017176",
     "exception": false,
     "start_time": "2022-08-20T14:25:40.980171",
     "status": "completed"
    },
    "tags": []
   },
   "source": [
    "### **Step - 5.4 :** Random Forest Classifier"
   ]
  },
  {
   "cell_type": "code",
   "execution_count": 53,
   "id": "f5422cdb",
   "metadata": {
    "execution": {
     "iopub.execute_input": "2022-08-20T14:25:41.095690Z",
     "iopub.status.busy": "2022-08-20T14:25:41.095003Z",
     "iopub.status.idle": "2022-08-20T14:25:41.353415Z",
     "shell.execute_reply": "2022-08-20T14:25:41.351585Z"
    },
    "papermill": {
     "duration": 0.300511,
     "end_time": "2022-08-20T14:25:41.355852",
     "exception": false,
     "start_time": "2022-08-20T14:25:41.055341",
     "status": "completed"
    },
    "tags": []
   },
   "outputs": [
    {
     "name": "stdout",
     "output_type": "stream",
     "text": [
      "Training Accuracy of Random Forest Classifier is 0.8693820224719101\n",
      "Test Accuracy of Random Forest Classifier is 0.8044692737430168 \n",
      "\n",
      "Confusion Matrix : \n",
      "[[89 16]\n",
      " [19 55]]\n",
      "\n",
      "Classification Report : \n",
      "               precision    recall  f1-score   support\n",
      "\n",
      "           0       0.82      0.85      0.84       105\n",
      "           1       0.77      0.74      0.76        74\n",
      "\n",
      "    accuracy                           0.80       179\n",
      "   macro avg       0.80      0.80      0.80       179\n",
      "weighted avg       0.80      0.80      0.80       179\n",
      "\n"
     ]
    }
   ],
   "source": [
    "rd_clf = RandomForestClassifier()\n",
    "rd_clf.fit(X_train, y_train)\n",
    "\n",
    "rd_clf_acc = accuracy_score(y_test, rd_clf.predict(X_test))\n",
    "\n",
    "print(f\"Training Accuracy of Random Forest Classifier is {accuracy_score(y_train, rd_clf.predict(X_train))}\")\n",
    "print(f\"Test Accuracy of Random Forest Classifier is {rd_clf_acc} \\n\")\n",
    "\n",
    "print(f\"Confusion Matrix : \\n{confusion_matrix(y_test, rd_clf.predict(X_test))}\\n\")\n",
    "print(f\"Classification Report : \\n {classification_report(y_test, rd_clf.predict(X_test))}\")"
   ]
  },
  {
   "cell_type": "markdown",
   "id": "11e2ca88",
   "metadata": {
    "papermill": {
     "duration": 0.036571,
     "end_time": "2022-08-20T14:25:41.429480",
     "exception": false,
     "start_time": "2022-08-20T14:25:41.392909",
     "status": "completed"
    },
    "tags": []
   },
   "source": [
    "### **Step - 5.5 :** Gradient Boosting Classifier"
   ]
  },
  {
   "cell_type": "code",
   "execution_count": 54,
   "id": "f52e62c4",
   "metadata": {
    "execution": {
     "iopub.execute_input": "2022-08-20T14:25:41.505479Z",
     "iopub.status.busy": "2022-08-20T14:25:41.504405Z",
     "iopub.status.idle": "2022-08-20T14:25:41.617548Z",
     "shell.execute_reply": "2022-08-20T14:25:41.616474Z"
    },
    "papermill": {
     "duration": 0.153752,
     "end_time": "2022-08-20T14:25:41.619779",
     "exception": false,
     "start_time": "2022-08-20T14:25:41.466027",
     "status": "completed"
    },
    "tags": []
   },
   "outputs": [
    {
     "name": "stdout",
     "output_type": "stream",
     "text": [
      "Training Accuracy of Gradient Boosting Classifier is 0.8553370786516854\n",
      "Test Accuracy of Gradient Boosting Classifier is 0.7877094972067039 \n",
      "\n",
      "Confusion Matrix : \n",
      "[[87 18]\n",
      " [20 54]]\n",
      "\n",
      "Classification Report : \n",
      "               precision    recall  f1-score   support\n",
      "\n",
      "           0       0.81      0.83      0.82       105\n",
      "           1       0.75      0.73      0.74        74\n",
      "\n",
      "    accuracy                           0.79       179\n",
      "   macro avg       0.78      0.78      0.78       179\n",
      "weighted avg       0.79      0.79      0.79       179\n",
      "\n"
     ]
    }
   ],
   "source": [
    "gb = GradientBoostingClassifier() #\n",
    "gb.fit(X_train, y_train)\n",
    "\n",
    "gb_acc = accuracy_score(y_test, gb.predict(X_test))\n",
    "\n",
    "print(f\"Training Accuracy of Gradient Boosting Classifier is {accuracy_score(y_train, gb.predict(X_train))}\")\n",
    "print(f\"Test Accuracy of Gradient Boosting Classifier is {gb_acc} \\n\")\n",
    "\n",
    "print(f\"Confusion Matrix : \\n{confusion_matrix(y_test, gb.predict(X_test))}\\n\")\n",
    "print(f\"Classification Report : \\n {classification_report(y_test, gb.predict(X_test))}\")"
   ]
  },
  {
   "cell_type": "markdown",
   "id": "9f40aaf9",
   "metadata": {
    "papermill": {
     "duration": 0.037132,
     "end_time": "2022-08-20T14:25:41.694143",
     "exception": false,
     "start_time": "2022-08-20T14:25:41.657011",
     "status": "completed"
    },
    "tags": []
   },
   "source": [
    "### **Step - 5.6 :** Xg Boost Classifier"
   ]
  },
  {
   "cell_type": "code",
   "execution_count": 55,
   "id": "cf199a79",
   "metadata": {
    "execution": {
     "iopub.execute_input": "2022-08-20T14:25:41.770520Z",
     "iopub.status.busy": "2022-08-20T14:25:41.769764Z",
     "iopub.status.idle": "2022-08-20T14:25:42.542051Z",
     "shell.execute_reply": "2022-08-20T14:25:42.541052Z"
    },
    "papermill": {
     "duration": 0.813141,
     "end_time": "2022-08-20T14:25:42.544325",
     "exception": false,
     "start_time": "2022-08-20T14:25:41.731184",
     "status": "completed"
    },
    "tags": []
   },
   "outputs": [
    {
     "name": "stdout",
     "output_type": "stream",
     "text": [
      "Training Accuracy of XgBoost is 0.8693820224719101\n",
      "Test Accuracy of XgBoost is 0.8100558659217877 \n",
      "\n",
      "Confusion Matrix : \n",
      "[[89 16]\n",
      " [18 56]]\n",
      "\n",
      "Classification Report : \n",
      "               precision    recall  f1-score   support\n",
      "\n",
      "           0       0.83      0.85      0.84       105\n",
      "           1       0.78      0.76      0.77        74\n",
      "\n",
      "    accuracy                           0.81       179\n",
      "   macro avg       0.80      0.80      0.80       179\n",
      "weighted avg       0.81      0.81      0.81       179\n",
      "\n"
     ]
    }
   ],
   "source": [
    "xgb = XGBClassifier(booster = 'gbtree', learning_rate = 0.1, max_depth = 5, n_estimators = 180)\n",
    "xgb.fit(X_train, y_train)\n",
    "\n",
    "xgb_acc = accuracy_score(y_test, xgb.predict(X_test))\n",
    "\n",
    "print(f\"Training Accuracy of XgBoost is {accuracy_score(y_train, xgb.predict(X_train))}\")\n",
    "print(f\"Test Accuracy of XgBoost is {xgb_acc} \\n\")\n",
    "\n",
    "print(f\"Confusion Matrix : \\n{confusion_matrix(y_test, xgb.predict(X_test))}\\n\")\n",
    "print(f\"Classification Report : \\n {classification_report(y_test, xgb.predict(X_test))}\")"
   ]
  },
  {
   "cell_type": "markdown",
   "id": "3fc2a859",
   "metadata": {
    "papermill": {
     "duration": 0.037981,
     "end_time": "2022-08-20T14:25:42.620589",
     "exception": false,
     "start_time": "2022-08-20T14:25:42.582608",
     "status": "completed"
    },
    "tags": []
   },
   "source": [
    "## **Step - 6 :** Comparing ML Models"
   ]
  },
  {
   "cell_type": "code",
   "execution_count": 56,
   "id": "9ff11d9d",
   "metadata": {
    "execution": {
     "iopub.execute_input": "2022-08-20T14:25:42.694878Z",
     "iopub.status.busy": "2022-08-20T14:25:42.694488Z",
     "iopub.status.idle": "2022-08-20T14:25:42.708468Z",
     "shell.execute_reply": "2022-08-20T14:25:42.707609Z"
    },
    "papermill": {
     "duration": 0.053358,
     "end_time": "2022-08-20T14:25:42.710459",
     "exception": false,
     "start_time": "2022-08-20T14:25:42.657101",
     "status": "completed"
    },
    "tags": []
   },
   "outputs": [
    {
     "data": {
      "text/html": [
       "<div>\n",
       "<style scoped>\n",
       "    .dataframe tbody tr th:only-of-type {\n",
       "        vertical-align: middle;\n",
       "    }\n",
       "\n",
       "    .dataframe tbody tr th {\n",
       "        vertical-align: top;\n",
       "    }\n",
       "\n",
       "    .dataframe thead th {\n",
       "        text-align: right;\n",
       "    }\n",
       "</style>\n",
       "<table border=\"1\" class=\"dataframe\">\n",
       "  <thead>\n",
       "    <tr style=\"text-align: right;\">\n",
       "      <th></th>\n",
       "      <th>Model</th>\n",
       "      <th>Score</th>\n",
       "    </tr>\n",
       "  </thead>\n",
       "  <tbody>\n",
       "    <tr>\n",
       "      <th>4</th>\n",
       "      <td>XgBoost</td>\n",
       "      <td>81.01</td>\n",
       "    </tr>\n",
       "    <tr>\n",
       "      <th>2</th>\n",
       "      <td>Random Forest Classifier</td>\n",
       "      <td>80.45</td>\n",
       "    </tr>\n",
       "    <tr>\n",
       "      <th>1</th>\n",
       "      <td>Decision Tree Classifier</td>\n",
       "      <td>79.33</td>\n",
       "    </tr>\n",
       "    <tr>\n",
       "      <th>3</th>\n",
       "      <td>Gradient Boosting Classifier</td>\n",
       "      <td>78.77</td>\n",
       "    </tr>\n",
       "    <tr>\n",
       "      <th>0</th>\n",
       "      <td>Logistic Regression</td>\n",
       "      <td>78.21</td>\n",
       "    </tr>\n",
       "  </tbody>\n",
       "</table>\n",
       "</div>"
      ],
      "text/plain": [
       "                          Model  Score\n",
       "4                       XgBoost  81.01\n",
       "2      Random Forest Classifier  80.45\n",
       "1      Decision Tree Classifier  79.33\n",
       "3  Gradient Boosting Classifier  78.77\n",
       "0           Logistic Regression  78.21"
      ]
     },
     "execution_count": 56,
     "metadata": {},
     "output_type": "execute_result"
    }
   ],
   "source": [
    "models = pd.DataFrame({\n",
    "    'Model' : ['Logistic Regression', 'Decision Tree Classifier', 'Random Forest Classifier',\n",
    "             'Gradient Boosting Classifier', 'XgBoost'],\n",
    "    'Score' : [lr_acc, dtc_acc, rd_clf_acc, gb_acc, xgb_acc]\n",
    "})\n",
    "\n",
    "models[\"Score\"] = (models[\"Score\"] * 100).round(2)\n",
    "\n",
    "models.sort_values(by = 'Score', ascending = False)"
   ]
  },
  {
   "cell_type": "code",
   "execution_count": 57,
   "id": "64444775",
   "metadata": {
    "execution": {
     "iopub.execute_input": "2022-08-20T14:25:42.785155Z",
     "iopub.status.busy": "2022-08-20T14:25:42.784742Z",
     "iopub.status.idle": "2022-08-20T14:25:43.088285Z",
     "shell.execute_reply": "2022-08-20T14:25:43.087072Z"
    },
    "papermill": {
     "duration": 0.343355,
     "end_time": "2022-08-20T14:25:43.090464",
     "exception": false,
     "start_time": "2022-08-20T14:25:42.747109",
     "status": "completed"
    },
    "tags": []
   },
   "outputs": [
    {
     "data": {
      "image/png": "[encoded data removed]",
      "text/plain": [
       "<Figure size 720x360 with 1 Axes>"
      ]
     },
     "metadata": {
      "needs_background": "light"
     },
     "output_type": "display_data"
    }
   ],
   "source": [
    "plt.figure(figsize = (10, 5))\n",
    "sns.set_style('darkgrid')\n",
    "\n",
    "sns.barplot(x = 'Score', y = 'Model', data = models)\n",
    "\n",
    "plt.xlabel('Accuracy Socre in %', fontsize = 15)\n",
    "plt.ylabel('ML Model', fontsize = 15)\n",
    "\n",
    "plt.title('ML Model Comparison', fontsize = 16)\n",
    "\n",
    "plt.show()"
   ]
  },
  {
   "cell_type": "markdown",
   "id": "58250ec9",
   "metadata": {
    "papermill": {
     "duration": 0.03773,
     "end_time": "2022-08-20T14:25:43.165677",
     "exception": false,
     "start_time": "2022-08-20T14:25:43.127947",
     "status": "completed"
    },
    "tags": []
   },
   "source": [
    "**Note :** Xg Boost Classifier has been chosen as the best model among the above five"
   ]
  },
  {
   "cell_type": "markdown",
   "id": "383a86d5",
   "metadata": {
    "papermill": {
     "duration": 0.037065,
     "end_time": "2022-08-20T14:25:43.239911",
     "exception": false,
     "start_time": "2022-08-20T14:25:43.202846",
     "status": "completed"
    },
    "tags": []
   },
   "source": [
    "## **Step - 7 :** Submitting Result"
   ]
  },
  {
   "cell_type": "code",
   "execution_count": 58,
   "id": "5596add0",
   "metadata": {
    "execution": {
     "iopub.execute_input": "2022-08-20T14:25:43.316669Z",
     "iopub.status.busy": "2022-08-20T14:25:43.316156Z",
     "iopub.status.idle": "2022-08-20T14:25:43.337355Z",
     "shell.execute_reply": "2022-08-20T14:25:43.336588Z"
    },
    "papermill": {
     "duration": 0.062606,
     "end_time": "2022-08-20T14:25:43.339755",
     "exception": false,
     "start_time": "2022-08-20T14:25:43.277149",
     "status": "completed"
    },
    "tags": []
   },
   "outputs": [],
   "source": [
    "xgb_prediction = xgb.predict(titan_test_final) \n",
    "prediction = pd.DataFrame(xgb_prediction)\n",
    "submission = pd.read_csv('../input/titanic/gender_submission.csv')\n",
    "submission['Survived'] = prediction\n",
    "submission.to_csv('Submission.csv', index = False)"
   ]
  }
 ],
 "metadata": {
  "kernelspec": {
   "display_name": "Python 3",
   "language": "python",
   "name": "python3"
  },
  "language_info": {
   "codemirror_mode": {
    "name": "ipython",
    "version": 3
   },
   "file_extension": ".py",
   "mimetype": "text/x-python",
   "name": "python",
   "nbconvert_exporter": "python",
   "pygments_lexer": "ipython3",
   "version": "3.7.12"
  },
  "papermill": {
   "default_parameters": {},
   "duration": 28.4442,
   "end_time": "2022-08-20T14:25:44.199173",
   "environment_variables": {},
   "exception": null,
   "input_path": "__notebook__.ipynb",
   "output_path": "__notebook__.ipynb",
   "parameters": {},
   "start_time": "2022-08-20T14:25:15.754973",
   "version": "2.3.4"
  }
 },
 "nbformat": 4,
 "nbformat_minor": 5
}
